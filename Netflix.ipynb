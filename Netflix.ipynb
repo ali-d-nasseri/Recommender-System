{
 "cells": [
  {
   "cell_type": "code",
   "execution_count": 9,
   "id": "1700f389",
   "metadata": {},
   "outputs": [
    {
     "ename": "SyntaxError",
     "evalue": "invalid syntax (<ipython-input-9-9e88165d35f4>, line 35)",
     "output_type": "error",
     "traceback": [
      "\u001b[1;36m  File \u001b[1;32m\"<ipython-input-9-9e88165d35f4>\"\u001b[1;36m, line \u001b[1;32m35\u001b[0m\n\u001b[1;33m    return dfnetflix_rating_df = load_data()\u001b[0m\n\u001b[1;37m                               ^\u001b[0m\n\u001b[1;31mSyntaxError\u001b[0m\u001b[1;31m:\u001b[0m invalid syntax\n"
     ]
    }
   ],
   "source": [
    "from datetime import datetime\n",
    "import pandas as pd\n",
    "import numpy as np\n",
    "import seaborn as sns\n",
    "import os\n",
    "import random\n",
    "import matplotlib\n",
    "import matplotlib.pyplot as plt\n",
    "from scipy import sparse\n",
    "from sklearn.metrics.pairwise import cosine_similarity\n",
    "from sklearn.metrics import mean_squared_errorimport, xgboost as xgb\n",
    "from surprise import Reader, Dataset\n",
    "from surprise import BaselineOnly\n",
    "from surprise import KNNBaseline\n",
    "from surprise import SVD\n",
    "from surprise import SVDpp\n",
    "#from surprise.model_selection import GridSearchCVdef, load_data():\n",
    "netflix_csv_file = open(\"netflix_rating.csv\", mode = \"w\")\n",
    "rating_files = ['combined_data_1.txt']\n",
    "for file in rating_files:\n",
    "    with open(file) as f:\n",
    "        for line in f:\n",
    "            line = line.strip()\n",
    "            if line.endswith(\":\"):\n",
    "                    movie_id = line.replace(\":\", \"\")\n",
    "            else:\n",
    "                    row_data = []\n",
    "                    row_data = [item for item in line.split(\",\")]\n",
    "                    row_data.insert(0, movie_id)\n",
    "                    netflix_csv_file.write(\",\".join(row_data))  \n",
    "                    netflix_csv_file.write('\\n')\n",
    "                    \n",
    "netflix_csv_file.close()\n",
    "df = pd.read_csv('netflix_rating.csv', sep=\",\", names = [\"movie_id\",\"customer_id\", \"rating\", \"date\"])\n",
    "return dfnetflix_rating_df = load_data()\n",
    "netflix_rating_df.head()"
   ]
  },
  {
   "cell_type": "code",
   "execution_count": null,
   "id": "808fca12",
   "metadata": {},
   "outputs": [],
   "source": []
  }
 ],
 "metadata": {
  "kernelspec": {
   "display_name": "Python 3",
   "language": "python",
   "name": "python3"
  },
  "language_info": {
   "codemirror_mode": {
    "name": "ipython",
    "version": 3
   },
   "file_extension": ".py",
   "mimetype": "text/x-python",
   "name": "python",
   "nbconvert_exporter": "python",
   "pygments_lexer": "ipython3",
   "version": "3.8.8"
  }
 },
 "nbformat": 4,
 "nbformat_minor": 5
}
