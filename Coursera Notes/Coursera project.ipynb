{
 "cells": [
  {
   "cell_type": "code",
   "execution_count": 141,
   "id": "de9d7164",
   "metadata": {},
   "outputs": [],
   "source": [
    "import numpy as np\n",
    "import pandas as pd"
   ]
  },
  {
   "cell_type": "code",
   "execution_count": 159,
   "id": "b54ac2b0",
   "metadata": {},
   "outputs": [],
   "source": [
    "df = pd.read_excel('UUCF Assignment Spreadsheet.xls')"
   ]
  },
  {
   "cell_type": "code",
   "execution_count": 160,
   "id": "255eb7f7",
   "metadata": {},
   "outputs": [
    {
     "data": {
      "text/plain": [
       "Index(['Unnamed: 0',         1648,         5136,          918,         2824,\n",
       "               3867,          860,         3712,         2968,         3525,\n",
       "               4323,         3617,         4360,         2756,           89,\n",
       "                442,         3556,         5261,         2492,         5062,\n",
       "               2486,         4942,         2267,         4809,         3853,\n",
       "               2288],\n",
       "      dtype='object')"
      ]
     },
     "execution_count": 160,
     "metadata": {},
     "output_type": "execute_result"
    }
   ],
   "source": [
    "df.columns"
   ]
  },
  {
   "cell_type": "code",
   "execution_count": 161,
   "id": "2c4ee26f",
   "metadata": {},
   "outputs": [],
   "source": [
    "movie_id = []\n",
    "movie_title = []\n",
    "for title in df['Unnamed: 0']:\n",
    "    t = title.split(':')\n",
    "    movie_id.append(t[0])\n",
    "    movie_title.append(t[1])\n"
   ]
  },
  {
   "cell_type": "code",
   "execution_count": 162,
   "id": "952afa5e",
   "metadata": {},
   "outputs": [],
   "source": [
    "df['Movie_Id'] = movie_id\n",
    "df['Movie_title'] = movie_title"
   ]
  },
  {
   "cell_type": "code",
   "execution_count": 163,
   "id": "ebc1633d",
   "metadata": {},
   "outputs": [],
   "source": [
    "df.drop(columns = 'Unnamed: 0', inplace = True)"
   ]
  },
  {
   "cell_type": "code",
   "execution_count": 164,
   "id": "01474e93",
   "metadata": {},
   "outputs": [
    {
     "data": {
      "text/html": [
       "<div>\n",
       "<style scoped>\n",
       "    .dataframe tbody tr th:only-of-type {\n",
       "        vertical-align: middle;\n",
       "    }\n",
       "\n",
       "    .dataframe tbody tr th {\n",
       "        vertical-align: top;\n",
       "    }\n",
       "\n",
       "    .dataframe thead th {\n",
       "        text-align: right;\n",
       "    }\n",
       "</style>\n",
       "<table border=\"1\" class=\"dataframe\">\n",
       "  <thead>\n",
       "    <tr style=\"text-align: right;\">\n",
       "      <th></th>\n",
       "      <th>1648</th>\n",
       "      <th>5136</th>\n",
       "      <th>918</th>\n",
       "      <th>2824</th>\n",
       "      <th>3867</th>\n",
       "      <th>860</th>\n",
       "      <th>3712</th>\n",
       "      <th>2968</th>\n",
       "      <th>3525</th>\n",
       "      <th>4323</th>\n",
       "      <th>...</th>\n",
       "      <th>2492</th>\n",
       "      <th>5062</th>\n",
       "      <th>2486</th>\n",
       "      <th>4942</th>\n",
       "      <th>2267</th>\n",
       "      <th>4809</th>\n",
       "      <th>3853</th>\n",
       "      <th>2288</th>\n",
       "      <th>Movie_Id</th>\n",
       "      <th>Movie_title</th>\n",
       "    </tr>\n",
       "  </thead>\n",
       "  <tbody>\n",
       "    <tr>\n",
       "      <th>0</th>\n",
       "      <td>NaN</td>\n",
       "      <td>4.5</td>\n",
       "      <td>5.0</td>\n",
       "      <td>4.5</td>\n",
       "      <td>4.0</td>\n",
       "      <td>4.0</td>\n",
       "      <td>NaN</td>\n",
       "      <td>5.0</td>\n",
       "      <td>4.0</td>\n",
       "      <td>5.0</td>\n",
       "      <td>...</td>\n",
       "      <td>4.5</td>\n",
       "      <td>4.0</td>\n",
       "      <td>3.5</td>\n",
       "      <td>NaN</td>\n",
       "      <td>NaN</td>\n",
       "      <td>NaN</td>\n",
       "      <td>NaN</td>\n",
       "      <td>NaN</td>\n",
       "      <td>11</td>\n",
       "      <td>Star Wars</td>\n",
       "    </tr>\n",
       "    <tr>\n",
       "      <th>1</th>\n",
       "      <td>NaN</td>\n",
       "      <td>5.0</td>\n",
       "      <td>5.0</td>\n",
       "      <td>NaN</td>\n",
       "      <td>4.0</td>\n",
       "      <td>4.0</td>\n",
       "      <td>4.5</td>\n",
       "      <td>4.5</td>\n",
       "      <td>4.0</td>\n",
       "      <td>5.0</td>\n",
       "      <td>...</td>\n",
       "      <td>3.5</td>\n",
       "      <td>4.0</td>\n",
       "      <td>2.0</td>\n",
       "      <td>3.5</td>\n",
       "      <td>NaN</td>\n",
       "      <td>NaN</td>\n",
       "      <td>NaN</td>\n",
       "      <td>3.5</td>\n",
       "      <td>12</td>\n",
       "      <td>Finding Nemo (2003)</td>\n",
       "    </tr>\n",
       "    <tr>\n",
       "      <th>2</th>\n",
       "      <td>NaN</td>\n",
       "      <td>5.0</td>\n",
       "      <td>4.5</td>\n",
       "      <td>5.0</td>\n",
       "      <td>4.5</td>\n",
       "      <td>4.5</td>\n",
       "      <td>NaN</td>\n",
       "      <td>5.0</td>\n",
       "      <td>4.5</td>\n",
       "      <td>5.0</td>\n",
       "      <td>...</td>\n",
       "      <td>3.5</td>\n",
       "      <td>4.5</td>\n",
       "      <td>4.5</td>\n",
       "      <td>4.0</td>\n",
       "      <td>3.5</td>\n",
       "      <td>4.5</td>\n",
       "      <td>3.5</td>\n",
       "      <td>3.5</td>\n",
       "      <td>13</td>\n",
       "      <td>Forrest Gump (1994)</td>\n",
       "    </tr>\n",
       "    <tr>\n",
       "      <th>3</th>\n",
       "      <td>NaN</td>\n",
       "      <td>4.0</td>\n",
       "      <td>NaN</td>\n",
       "      <td>NaN</td>\n",
       "      <td>NaN</td>\n",
       "      <td>NaN</td>\n",
       "      <td>4.5</td>\n",
       "      <td>2.0</td>\n",
       "      <td>3.5</td>\n",
       "      <td>5.0</td>\n",
       "      <td>...</td>\n",
       "      <td>3.5</td>\n",
       "      <td>4.5</td>\n",
       "      <td>3.5</td>\n",
       "      <td>4.0</td>\n",
       "      <td>NaN</td>\n",
       "      <td>3.5</td>\n",
       "      <td>NaN</td>\n",
       "      <td>NaN</td>\n",
       "      <td>14</td>\n",
       "      <td>American Beauty (1999)</td>\n",
       "    </tr>\n",
       "    <tr>\n",
       "      <th>4</th>\n",
       "      <td>4.0</td>\n",
       "      <td>5.0</td>\n",
       "      <td>3.0</td>\n",
       "      <td>4.5</td>\n",
       "      <td>4.0</td>\n",
       "      <td>2.5</td>\n",
       "      <td>NaN</td>\n",
       "      <td>5.0</td>\n",
       "      <td>3.0</td>\n",
       "      <td>4.0</td>\n",
       "      <td>...</td>\n",
       "      <td>4.0</td>\n",
       "      <td>4.0</td>\n",
       "      <td>2.5</td>\n",
       "      <td>3.5</td>\n",
       "      <td>NaN</td>\n",
       "      <td>5.0</td>\n",
       "      <td>NaN</td>\n",
       "      <td>3.5</td>\n",
       "      <td>22</td>\n",
       "      <td>Pirates of the Caribbean</td>\n",
       "    </tr>\n",
       "  </tbody>\n",
       "</table>\n",
       "<p>5 rows × 27 columns</p>\n",
       "</div>"
      ],
      "text/plain": [
       "   1648  5136  918  2824  3867  860  3712  2968  3525  4323  ...  2492  5062  \\\n",
       "0   NaN   4.5  5.0   4.5   4.0  4.0   NaN   5.0   4.0   5.0  ...   4.5   4.0   \n",
       "1   NaN   5.0  5.0   NaN   4.0  4.0   4.5   4.5   4.0   5.0  ...   3.5   4.0   \n",
       "2   NaN   5.0  4.5   5.0   4.5  4.5   NaN   5.0   4.5   5.0  ...   3.5   4.5   \n",
       "3   NaN   4.0  NaN   NaN   NaN  NaN   4.5   2.0   3.5   5.0  ...   3.5   4.5   \n",
       "4   4.0   5.0  3.0   4.5   4.0  2.5   NaN   5.0   3.0   4.0  ...   4.0   4.0   \n",
       "\n",
       "   2486  4942  2267  4809  3853  2288  Movie_Id                Movie_title  \n",
       "0   3.5   NaN   NaN   NaN   NaN   NaN        11                  Star Wars  \n",
       "1   2.0   3.5   NaN   NaN   NaN   3.5        12        Finding Nemo (2003)  \n",
       "2   4.5   4.0   3.5   4.5   3.5   3.5        13        Forrest Gump (1994)  \n",
       "3   3.5   4.0   NaN   3.5   NaN   NaN        14     American Beauty (1999)  \n",
       "4   2.5   3.5   NaN   5.0   NaN   3.5        22   Pirates of the Caribbean  \n",
       "\n",
       "[5 rows x 27 columns]"
      ]
     },
     "execution_count": 164,
     "metadata": {},
     "output_type": "execute_result"
    }
   ],
   "source": [
    "df.head()"
   ]
  },
  {
   "cell_type": "code",
   "execution_count": 165,
   "id": "7edabecf",
   "metadata": {},
   "outputs": [
    {
     "data": {
      "text/html": [
       "<div>\n",
       "<style scoped>\n",
       "    .dataframe tbody tr th:only-of-type {\n",
       "        vertical-align: middle;\n",
       "    }\n",
       "\n",
       "    .dataframe tbody tr th {\n",
       "        vertical-align: top;\n",
       "    }\n",
       "\n",
       "    .dataframe thead th {\n",
       "        text-align: right;\n",
       "    }\n",
       "</style>\n",
       "<table border=\"1\" class=\"dataframe\">\n",
       "  <thead>\n",
       "    <tr style=\"text-align: right;\">\n",
       "      <th></th>\n",
       "      <th>1648</th>\n",
       "      <th>5136</th>\n",
       "      <th>918</th>\n",
       "      <th>2824</th>\n",
       "      <th>3867</th>\n",
       "      <th>860</th>\n",
       "      <th>3712</th>\n",
       "      <th>2968</th>\n",
       "      <th>3525</th>\n",
       "      <th>4323</th>\n",
       "      <th>...</th>\n",
       "      <th>3556</th>\n",
       "      <th>5261</th>\n",
       "      <th>2492</th>\n",
       "      <th>5062</th>\n",
       "      <th>2486</th>\n",
       "      <th>4942</th>\n",
       "      <th>2267</th>\n",
       "      <th>4809</th>\n",
       "      <th>3853</th>\n",
       "      <th>2288</th>\n",
       "    </tr>\n",
       "  </thead>\n",
       "  <tbody>\n",
       "    <tr>\n",
       "      <th>1648</th>\n",
       "      <td>1.000000</td>\n",
       "      <td>0.402980</td>\n",
       "      <td>-0.142206</td>\n",
       "      <td>0.517620</td>\n",
       "      <td>0.300200</td>\n",
       "      <td>0.480537</td>\n",
       "      <td>-0.312412</td>\n",
       "      <td>0.383348</td>\n",
       "      <td>0.092775</td>\n",
       "      <td>0.098191</td>\n",
       "      <td>...</td>\n",
       "      <td>-0.191988</td>\n",
       "      <td>0.493008</td>\n",
       "      <td>0.360644</td>\n",
       "      <td>0.551089</td>\n",
       "      <td>0.002544</td>\n",
       "      <td>0.116653</td>\n",
       "      <td>-0.429183</td>\n",
       "      <td>0.394371</td>\n",
       "      <td>-0.304422</td>\n",
       "      <td>0.245048</td>\n",
       "    </tr>\n",
       "    <tr>\n",
       "      <th>5136</th>\n",
       "      <td>0.402980</td>\n",
       "      <td>1.000000</td>\n",
       "      <td>0.118979</td>\n",
       "      <td>0.057916</td>\n",
       "      <td>0.341734</td>\n",
       "      <td>0.241377</td>\n",
       "      <td>0.131398</td>\n",
       "      <td>0.206695</td>\n",
       "      <td>0.360056</td>\n",
       "      <td>0.033642</td>\n",
       "      <td>...</td>\n",
       "      <td>0.488607</td>\n",
       "      <td>0.328120</td>\n",
       "      <td>0.422236</td>\n",
       "      <td>0.226635</td>\n",
       "      <td>0.305803</td>\n",
       "      <td>0.037769</td>\n",
       "      <td>0.240728</td>\n",
       "      <td>0.411676</td>\n",
       "      <td>0.189234</td>\n",
       "      <td>0.390067</td>\n",
       "    </tr>\n",
       "    <tr>\n",
       "      <th>918</th>\n",
       "      <td>-0.142206</td>\n",
       "      <td>0.118979</td>\n",
       "      <td>1.000000</td>\n",
       "      <td>-0.317063</td>\n",
       "      <td>0.294558</td>\n",
       "      <td>0.468333</td>\n",
       "      <td>0.092037</td>\n",
       "      <td>-0.045854</td>\n",
       "      <td>0.367568</td>\n",
       "      <td>-0.035394</td>\n",
       "      <td>...</td>\n",
       "      <td>0.373226</td>\n",
       "      <td>0.470972</td>\n",
       "      <td>0.069956</td>\n",
       "      <td>-0.054762</td>\n",
       "      <td>0.133812</td>\n",
       "      <td>0.015169</td>\n",
       "      <td>-0.273096</td>\n",
       "      <td>0.082528</td>\n",
       "      <td>0.667168</td>\n",
       "      <td>0.119162</td>\n",
       "    </tr>\n",
       "    <tr>\n",
       "      <th>2824</th>\n",
       "      <td>0.517620</td>\n",
       "      <td>0.057916</td>\n",
       "      <td>-0.317063</td>\n",
       "      <td>1.000000</td>\n",
       "      <td>-0.060913</td>\n",
       "      <td>-0.008066</td>\n",
       "      <td>0.462910</td>\n",
       "      <td>0.214760</td>\n",
       "      <td>0.169907</td>\n",
       "      <td>0.119350</td>\n",
       "      <td>...</td>\n",
       "      <td>-0.201275</td>\n",
       "      <td>0.228341</td>\n",
       "      <td>0.238700</td>\n",
       "      <td>0.259660</td>\n",
       "      <td>0.247097</td>\n",
       "      <td>0.149247</td>\n",
       "      <td>-0.361466</td>\n",
       "      <td>0.474974</td>\n",
       "      <td>-0.262073</td>\n",
       "      <td>0.166999</td>\n",
       "    </tr>\n",
       "    <tr>\n",
       "      <th>3867</th>\n",
       "      <td>0.300200</td>\n",
       "      <td>0.341734</td>\n",
       "      <td>0.294558</td>\n",
       "      <td>-0.060913</td>\n",
       "      <td>1.000000</td>\n",
       "      <td>0.282497</td>\n",
       "      <td>0.400275</td>\n",
       "      <td>0.264249</td>\n",
       "      <td>0.125193</td>\n",
       "      <td>-0.333602</td>\n",
       "      <td>...</td>\n",
       "      <td>0.174085</td>\n",
       "      <td>0.297977</td>\n",
       "      <td>0.476683</td>\n",
       "      <td>0.293868</td>\n",
       "      <td>0.438992</td>\n",
       "      <td>-0.162818</td>\n",
       "      <td>-0.295966</td>\n",
       "      <td>0.054518</td>\n",
       "      <td>0.464110</td>\n",
       "      <td>0.379856</td>\n",
       "    </tr>\n",
       "  </tbody>\n",
       "</table>\n",
       "<p>5 rows × 25 columns</p>\n",
       "</div>"
      ],
      "text/plain": [
       "          1648      5136      918       2824      3867      860       3712  \\\n",
       "1648  1.000000  0.402980 -0.142206  0.517620  0.300200  0.480537 -0.312412   \n",
       "5136  0.402980  1.000000  0.118979  0.057916  0.341734  0.241377  0.131398   \n",
       "918  -0.142206  0.118979  1.000000 -0.317063  0.294558  0.468333  0.092037   \n",
       "2824  0.517620  0.057916 -0.317063  1.000000 -0.060913 -0.008066  0.462910   \n",
       "3867  0.300200  0.341734  0.294558 -0.060913  1.000000  0.282497  0.400275   \n",
       "\n",
       "          2968      3525      4323  ...      3556      5261      2492  \\\n",
       "1648  0.383348  0.092775  0.098191  ... -0.191988  0.493008  0.360644   \n",
       "5136  0.206695  0.360056  0.033642  ...  0.488607  0.328120  0.422236   \n",
       "918  -0.045854  0.367568 -0.035394  ...  0.373226  0.470972  0.069956   \n",
       "2824  0.214760  0.169907  0.119350  ... -0.201275  0.228341  0.238700   \n",
       "3867  0.264249  0.125193 -0.333602  ...  0.174085  0.297977  0.476683   \n",
       "\n",
       "          5062      2486      4942      2267      4809      3853      2288  \n",
       "1648  0.551089  0.002544  0.116653 -0.429183  0.394371 -0.304422  0.245048  \n",
       "5136  0.226635  0.305803  0.037769  0.240728  0.411676  0.189234  0.390067  \n",
       "918  -0.054762  0.133812  0.015169 -0.273096  0.082528  0.667168  0.119162  \n",
       "2824  0.259660  0.247097  0.149247 -0.361466  0.474974 -0.262073  0.166999  \n",
       "3867  0.293868  0.438992 -0.162818 -0.295966  0.054518  0.464110  0.379856  \n",
       "\n",
       "[5 rows x 25 columns]"
      ]
     },
     "execution_count": 165,
     "metadata": {},
     "output_type": "execute_result"
    }
   ],
   "source": [
    "df1 = df.corr()\n",
    "df1.head()"
   ]
  },
  {
   "cell_type": "code",
   "execution_count": 166,
   "id": "ffa0116f",
   "metadata": {},
   "outputs": [
    {
     "data": {
      "text/plain": [
       "3867    1.000000\n",
       "2492    0.476683\n",
       "3853    0.464110\n",
       "2486    0.438992\n",
       "3712    0.400275\n",
       "2288    0.379856\n",
       "Name: 3867, dtype: float64"
      ]
     },
     "execution_count": 166,
     "metadata": {},
     "output_type": "execute_result"
    }
   ],
   "source": [
    "top5_neigbors =df1[3867].sort_values(ascending = False).head(6)\n",
    "top5_neigbors"
   ]
  },
  {
   "cell_type": "code",
   "execution_count": 167,
   "id": "cdd36127",
   "metadata": {},
   "outputs": [
    {
     "data": {
      "text/html": [
       "<div>\n",
       "<style scoped>\n",
       "    .dataframe tbody tr th:only-of-type {\n",
       "        vertical-align: middle;\n",
       "    }\n",
       "\n",
       "    .dataframe tbody tr th {\n",
       "        vertical-align: top;\n",
       "    }\n",
       "\n",
       "    .dataframe thead th {\n",
       "        text-align: right;\n",
       "    }\n",
       "</style>\n",
       "<table border=\"1\" class=\"dataframe\">\n",
       "  <thead>\n",
       "    <tr style=\"text-align: right;\">\n",
       "      <th></th>\n",
       "      <th>3867</th>\n",
       "      <th>Movie_title</th>\n",
       "    </tr>\n",
       "  </thead>\n",
       "  <tbody>\n",
       "    <tr>\n",
       "      <th>0</th>\n",
       "      <td>4.0</td>\n",
       "      <td>Star Wars</td>\n",
       "    </tr>\n",
       "    <tr>\n",
       "      <th>1</th>\n",
       "      <td>4.0</td>\n",
       "      <td>Finding Nemo (2003)</td>\n",
       "    </tr>\n",
       "    <tr>\n",
       "      <th>2</th>\n",
       "      <td>4.5</td>\n",
       "      <td>Forrest Gump (1994)</td>\n",
       "    </tr>\n",
       "    <tr>\n",
       "      <th>3</th>\n",
       "      <td>NaN</td>\n",
       "      <td>American Beauty (1999)</td>\n",
       "    </tr>\n",
       "    <tr>\n",
       "      <th>4</th>\n",
       "      <td>4.0</td>\n",
       "      <td>Pirates of the Caribbean</td>\n",
       "    </tr>\n",
       "    <tr>\n",
       "      <th>5</th>\n",
       "      <td>3.0</td>\n",
       "      <td>Kill Bill</td>\n",
       "    </tr>\n",
       "    <tr>\n",
       "      <th>6</th>\n",
       "      <td>NaN</td>\n",
       "      <td>Eternal Sunshine of the Spotless Mind (2004)</td>\n",
       "    </tr>\n",
       "    <tr>\n",
       "      <th>7</th>\n",
       "      <td>NaN</td>\n",
       "      <td>Twelve Monkeys (a.k.a. 12 Monkeys) (1995)</td>\n",
       "    </tr>\n",
       "    <tr>\n",
       "      <th>8</th>\n",
       "      <td>NaN</td>\n",
       "      <td>Memento (2000)</td>\n",
       "    </tr>\n",
       "    <tr>\n",
       "      <th>9</th>\n",
       "      <td>4.5</td>\n",
       "      <td>Raiders of the Lost Ark (Indiana Jones and th...</td>\n",
       "    </tr>\n",
       "    <tr>\n",
       "      <th>10</th>\n",
       "      <td>4.0</td>\n",
       "      <td>Gladiator (2000)</td>\n",
       "    </tr>\n",
       "    <tr>\n",
       "      <th>11</th>\n",
       "      <td>NaN</td>\n",
       "      <td>Back to the Future (1985)</td>\n",
       "    </tr>\n",
       "    <tr>\n",
       "      <th>12</th>\n",
       "      <td>NaN</td>\n",
       "      <td>Snatch (2000)</td>\n",
       "    </tr>\n",
       "    <tr>\n",
       "      <th>13</th>\n",
       "      <td>4.0</td>\n",
       "      <td>Pretty Woman (1990)</td>\n",
       "    </tr>\n",
       "    <tr>\n",
       "      <th>14</th>\n",
       "      <td>5.0</td>\n",
       "      <td>The Lord of the Rings</td>\n",
       "    </tr>\n",
       "    <tr>\n",
       "      <th>15</th>\n",
       "      <td>5.0</td>\n",
       "      <td>The Lord of the Rings</td>\n",
       "    </tr>\n",
       "    <tr>\n",
       "      <th>16</th>\n",
       "      <td>5.0</td>\n",
       "      <td>The Lord of the Rings</td>\n",
       "    </tr>\n",
       "    <tr>\n",
       "      <th>17</th>\n",
       "      <td>NaN</td>\n",
       "      <td>O Brother Where Art Thou? (2000)</td>\n",
       "    </tr>\n",
       "    <tr>\n",
       "      <th>18</th>\n",
       "      <td>NaN</td>\n",
       "      <td>Donnie Darko (2001)</td>\n",
       "    </tr>\n",
       "    <tr>\n",
       "      <th>19</th>\n",
       "      <td>NaN</td>\n",
       "      <td>Crouching Tiger Hidden Dragon (Wo hu cang lon...</td>\n",
       "    </tr>\n",
       "  </tbody>\n",
       "</table>\n",
       "</div>"
      ],
      "text/plain": [
       "    3867                                        Movie_title\n",
       "0    4.0                                          Star Wars\n",
       "1    4.0                                Finding Nemo (2003)\n",
       "2    4.5                                Forrest Gump (1994)\n",
       "3    NaN                             American Beauty (1999)\n",
       "4    4.0                           Pirates of the Caribbean\n",
       "5    3.0                                          Kill Bill\n",
       "6    NaN       Eternal Sunshine of the Spotless Mind (2004)\n",
       "7    NaN          Twelve Monkeys (a.k.a. 12 Monkeys) (1995)\n",
       "8    NaN                                     Memento (2000)\n",
       "9    4.5   Raiders of the Lost Ark (Indiana Jones and th...\n",
       "10   4.0                                   Gladiator (2000)\n",
       "11   NaN                          Back to the Future (1985)\n",
       "12   NaN                                      Snatch (2000)\n",
       "13   4.0                                Pretty Woman (1990)\n",
       "14   5.0                              The Lord of the Rings\n",
       "15   5.0                              The Lord of the Rings\n",
       "16   5.0                              The Lord of the Rings\n",
       "17   NaN                   O Brother Where Art Thou? (2000)\n",
       "18   NaN                                Donnie Darko (2001)\n",
       "19   NaN   Crouching Tiger Hidden Dragon (Wo hu cang lon..."
      ]
     },
     "execution_count": 167,
     "metadata": {},
     "output_type": "execute_result"
    }
   ],
   "source": [
    "df[[3867, 'Movie_title']].head(20)"
   ]
  },
  {
   "cell_type": "code",
   "execution_count": 168,
   "id": "8c1590c6",
   "metadata": {},
   "outputs": [
    {
     "data": {
      "text/plain": [
       "0.19979709725425232"
      ]
     },
     "execution_count": 168,
     "metadata": {},
     "output_type": "execute_result"
    }
   ],
   "source": [
    "df1[3867].mean()"
   ]
  },
  {
   "cell_type": "code",
   "execution_count": 169,
   "id": "58564224",
   "metadata": {},
   "outputs": [],
   "source": [
    "df_nei = df[[2492,3853,2486,3712,2288,'Movie_Id', 'Movie_title']]"
   ]
  },
  {
   "cell_type": "code",
   "execution_count": 170,
   "id": "e7103a42",
   "metadata": {},
   "outputs": [],
   "source": [
    "# score = sum(Rn*Wo)/sum(Wo)"
   ]
  },
  {
   "cell_type": "code",
   "execution_count": 256,
   "id": "b7e831b5",
   "metadata": {},
   "outputs": [
    {
     "data": {
      "text/html": [
       "<div>\n",
       "<style scoped>\n",
       "    .dataframe tbody tr th:only-of-type {\n",
       "        vertical-align: middle;\n",
       "    }\n",
       "\n",
       "    .dataframe tbody tr th {\n",
       "        vertical-align: top;\n",
       "    }\n",
       "\n",
       "    .dataframe thead th {\n",
       "        text-align: right;\n",
       "    }\n",
       "</style>\n",
       "<table border=\"1\" class=\"dataframe\">\n",
       "  <thead>\n",
       "    <tr style=\"text-align: right;\">\n",
       "      <th></th>\n",
       "      <th>2492</th>\n",
       "      <th>3853</th>\n",
       "      <th>2486</th>\n",
       "      <th>3712</th>\n",
       "      <th>2288</th>\n",
       "      <th>Movie_Id</th>\n",
       "      <th>Movie_title</th>\n",
       "      <th>Score</th>\n",
       "    </tr>\n",
       "  </thead>\n",
       "  <tbody>\n",
       "    <tr>\n",
       "      <th>16</th>\n",
       "      <td>5.0</td>\n",
       "      <td>4.0</td>\n",
       "      <td>4.5</td>\n",
       "      <td>5.0</td>\n",
       "      <td>4.0</td>\n",
       "      <td>122</td>\n",
       "      <td>The Lord of the Rings</td>\n",
       "      <td>4.507637</td>\n",
       "    </tr>\n",
       "    <tr>\n",
       "      <th>15</th>\n",
       "      <td>4.0</td>\n",
       "      <td>5.0</td>\n",
       "      <td>4.0</td>\n",
       "      <td>5.0</td>\n",
       "      <td>4.0</td>\n",
       "      <td>121</td>\n",
       "      <td>The Lord of the Rings</td>\n",
       "      <td>4.400194</td>\n",
       "    </tr>\n",
       "    <tr>\n",
       "      <th>50</th>\n",
       "      <td>4.0</td>\n",
       "      <td>4.5</td>\n",
       "      <td>4.5</td>\n",
       "      <td>5.0</td>\n",
       "      <td>4.0</td>\n",
       "      <td>603</td>\n",
       "      <td>The Matrix (1999)</td>\n",
       "      <td>4.394379</td>\n",
       "    </tr>\n",
       "    <tr>\n",
       "      <th>14</th>\n",
       "      <td>3.5</td>\n",
       "      <td>5.0</td>\n",
       "      <td>4.0</td>\n",
       "      <td>5.0</td>\n",
       "      <td>4.0</td>\n",
       "      <td>120</td>\n",
       "      <td>The Lord of the Rings</td>\n",
       "      <td>4.289846</td>\n",
       "    </tr>\n",
       "    <tr>\n",
       "      <th>65</th>\n",
       "      <td>3.5</td>\n",
       "      <td>4.0</td>\n",
       "      <td>3.0</td>\n",
       "      <td>5.0</td>\n",
       "      <td>4.0</td>\n",
       "      <td>808</td>\n",
       "      <td>Shrek (2001)</td>\n",
       "      <td>3.871727</td>\n",
       "    </tr>\n",
       "  </tbody>\n",
       "</table>\n",
       "</div>"
      ],
      "text/plain": [
       "    2492  3853  2486  3712  2288 Movie_Id             Movie_title     Score\n",
       "16   5.0   4.0   4.5   5.0   4.0      122   The Lord of the Rings  4.507637\n",
       "15   4.0   5.0   4.0   5.0   4.0      121   The Lord of the Rings  4.400194\n",
       "50   4.0   4.5   4.5   5.0   4.0      603       The Matrix (1999)  4.394379\n",
       "14   3.5   5.0   4.0   5.0   4.0      120   The Lord of the Rings  4.289846\n",
       "65   3.5   4.0   3.0   5.0   4.0      808            Shrek (2001)  3.871727"
      ]
     },
     "execution_count": 256,
     "metadata": {},
     "output_type": "execute_result"
    }
   ],
   "source": [
    "df_nei.head()"
   ]
  },
  {
   "cell_type": "code",
   "execution_count": 257,
   "id": "98f250da",
   "metadata": {},
   "outputs": [],
   "source": [
    "# func finding nan values\n",
    "def nan_function(row):\n",
    "    for ele in row:\n",
    "        if ele == 'NaN':\n",
    "            count += 1\n",
    "    return count"
   ]
  },
  {
   "cell_type": "code",
   "execution_count": 258,
   "id": "e1ecf91b",
   "metadata": {},
   "outputs": [
    {
     "data": {
      "text/plain": [
       "0"
      ]
     },
     "execution_count": 258,
     "metadata": {},
     "output_type": "execute_result"
    }
   ],
   "source": [
    "nan_function(df_nei.iloc[0])"
   ]
  },
  {
   "cell_type": "code",
   "execution_count": 259,
   "id": "9aa4cbf3",
   "metadata": {},
   "outputs": [
    {
     "data": {
      "text/plain": [
       "2492                              5.0\n",
       "3853                              4.0\n",
       "2486                              4.5\n",
       "3712                              5.0\n",
       "2288                              4.0\n",
       "Movie_Id                          122\n",
       "Movie_title     The Lord of the Rings\n",
       "Score                        4.507637\n",
       "Name: 16, dtype: object"
      ]
     },
     "execution_count": 259,
     "metadata": {},
     "output_type": "execute_result"
    }
   ],
   "source": [
    "df_nei.iloc[0]"
   ]
  },
  {
   "cell_type": "code",
   "execution_count": null,
   "id": "e1683172",
   "metadata": {},
   "outputs": [],
   "source": []
  },
  {
   "cell_type": "code",
   "execution_count": null,
   "id": "995b123d",
   "metadata": {},
   "outputs": [],
   "source": []
  },
  {
   "cell_type": "code",
   "execution_count": null,
   "id": "433ccc89",
   "metadata": {},
   "outputs": [],
   "source": []
  },
  {
   "cell_type": "code",
   "execution_count": 173,
   "id": "bb37bbb8",
   "metadata": {},
   "outputs": [],
   "source": [
    "weight = []\n",
    "for rate in top5_neigbors:\n",
    "    weight.append(rate)"
   ]
  },
  {
   "cell_type": "code",
   "execution_count": 244,
   "id": "0ae0f35f",
   "metadata": {},
   "outputs": [
    {
     "data": {
      "text/plain": [
       "0    0.476683\n",
       "1    0.464110\n",
       "2    0.438992\n",
       "3    0.400275\n",
       "4    0.379856\n",
       "dtype: float64"
      ]
     },
     "execution_count": 244,
     "metadata": {},
     "output_type": "execute_result"
    }
   ],
   "source": [
    "pd.Series(weight)"
   ]
  },
  {
   "cell_type": "code",
   "execution_count": 175,
   "id": "334f8483",
   "metadata": {},
   "outputs": [],
   "source": [
    "weight.remove(1)"
   ]
  },
  {
   "cell_type": "code",
   "execution_count": 195,
   "id": "3b3b3ccc",
   "metadata": {},
   "outputs": [
    {
     "data": {
      "text/plain": [
       "2.159915752001419"
      ]
     },
     "execution_count": 195,
     "metadata": {},
     "output_type": "execute_result"
    }
   ],
   "source": [
    "sum(weight)"
   ]
  },
  {
   "cell_type": "code",
   "execution_count": 196,
   "id": "4b7bc17d",
   "metadata": {},
   "outputs": [
    {
     "data": {
      "text/html": [
       "<div>\n",
       "<style scoped>\n",
       "    .dataframe tbody tr th:only-of-type {\n",
       "        vertical-align: middle;\n",
       "    }\n",
       "\n",
       "    .dataframe tbody tr th {\n",
       "        vertical-align: top;\n",
       "    }\n",
       "\n",
       "    .dataframe thead th {\n",
       "        text-align: right;\n",
       "    }\n",
       "</style>\n",
       "<table border=\"1\" class=\"dataframe\">\n",
       "  <thead>\n",
       "    <tr style=\"text-align: right;\">\n",
       "      <th></th>\n",
       "      <th>2492</th>\n",
       "      <th>3853</th>\n",
       "      <th>2486</th>\n",
       "      <th>3712</th>\n",
       "      <th>2288</th>\n",
       "    </tr>\n",
       "  </thead>\n",
       "  <tbody>\n",
       "    <tr>\n",
       "      <th>16</th>\n",
       "      <td>2.383416</td>\n",
       "      <td>1.856441</td>\n",
       "      <td>1.975462</td>\n",
       "      <td>2.001373</td>\n",
       "      <td>1.519425</td>\n",
       "    </tr>\n",
       "    <tr>\n",
       "      <th>15</th>\n",
       "      <td>1.906733</td>\n",
       "      <td>2.320551</td>\n",
       "      <td>1.755966</td>\n",
       "      <td>2.001373</td>\n",
       "      <td>1.519425</td>\n",
       "    </tr>\n",
       "    <tr>\n",
       "      <th>50</th>\n",
       "      <td>1.906733</td>\n",
       "      <td>2.088496</td>\n",
       "      <td>1.975462</td>\n",
       "      <td>2.001373</td>\n",
       "      <td>1.519425</td>\n",
       "    </tr>\n",
       "    <tr>\n",
       "      <th>14</th>\n",
       "      <td>1.668391</td>\n",
       "      <td>2.320551</td>\n",
       "      <td>1.755966</td>\n",
       "      <td>2.001373</td>\n",
       "      <td>1.519425</td>\n",
       "    </tr>\n",
       "    <tr>\n",
       "      <th>65</th>\n",
       "      <td>1.668391</td>\n",
       "      <td>1.856441</td>\n",
       "      <td>1.316975</td>\n",
       "      <td>2.001373</td>\n",
       "      <td>1.519425</td>\n",
       "    </tr>\n",
       "  </tbody>\n",
       "</table>\n",
       "</div>"
      ],
      "text/plain": [
       "        2492      3853      2486      3712      2288\n",
       "16  2.383416  1.856441  1.975462  2.001373  1.519425\n",
       "15  1.906733  2.320551  1.755966  2.001373  1.519425\n",
       "50  1.906733  2.088496  1.975462  2.001373  1.519425\n",
       "14  1.668391  2.320551  1.755966  2.001373  1.519425\n",
       "65  1.668391  1.856441  1.316975  2.001373  1.519425"
      ]
     },
     "execution_count": 196,
     "metadata": {},
     "output_type": "execute_result"
    }
   ],
   "source": [
    "weight_X_rating = df_nei[[2492,3853,2486,3712,2288]]*weight\n",
    "weight_X_rating.head()"
   ]
  },
  {
   "cell_type": "code",
   "execution_count": 197,
   "id": "80de6cb2",
   "metadata": {},
   "outputs": [
    {
     "data": {
      "text/plain": [
       "4.5076371895479355"
      ]
     },
     "execution_count": 197,
     "metadata": {},
     "output_type": "execute_result"
    }
   ],
   "source": [
    "#sum(weight_X_rating.iloc[0], skipna = True)/sum(weight)\n",
    "weight_X_rating.iloc[0].sum(skipna = True)/sum(weight)"
   ]
  },
  {
   "cell_type": "code",
   "execution_count": 198,
   "id": "c3c6b7fb",
   "metadata": {},
   "outputs": [],
   "source": [
    "def average_weight(df):\n",
    "    score = []\n",
    "    for i in range(100):\n",
    "        score.append(df.iloc[i].sum(skipna = True)/sum(weight))\n",
    "    return score\n",
    "        "
   ]
  },
  {
   "cell_type": "code",
   "execution_count": 200,
   "id": "54a40ac0",
   "metadata": {},
   "outputs": [
    {
     "ename": "IndexError",
     "evalue": "single positional indexer is out-of-bounds",
     "output_type": "error",
     "traceback": [
      "\u001b[1;31m---------------------------------------------------------------------------\u001b[0m",
      "\u001b[1;31mIndexError\u001b[0m                                Traceback (most recent call last)",
      "\u001b[1;32m<ipython-input-200-624d9435f26f>\u001b[0m in \u001b[0;36m<module>\u001b[1;34m\u001b[0m\n\u001b[1;32m----> 1\u001b[1;33m \u001b[0mdf_nei\u001b[0m\u001b[1;33m[\u001b[0m\u001b[1;34m'Score'\u001b[0m\u001b[1;33m]\u001b[0m \u001b[1;33m=\u001b[0m \u001b[0maverage_weight\u001b[0m\u001b[1;33m(\u001b[0m\u001b[0mweight_X_rating\u001b[0m\u001b[1;33m)\u001b[0m\u001b[1;33m\u001b[0m\u001b[1;33m\u001b[0m\u001b[0m\n\u001b[0m\u001b[0;32m      2\u001b[0m \u001b[0mdf_nei\u001b[0m\u001b[1;33m.\u001b[0m\u001b[0msort_values\u001b[0m\u001b[1;33m(\u001b[0m\u001b[0mby\u001b[0m \u001b[1;33m=\u001b[0m \u001b[1;34m'Score'\u001b[0m\u001b[1;33m,\u001b[0m \u001b[0mascending\u001b[0m \u001b[1;33m=\u001b[0m \u001b[1;32mFalse\u001b[0m\u001b[1;33m)\u001b[0m\u001b[1;33m.\u001b[0m\u001b[0mhead\u001b[0m\u001b[1;33m(\u001b[0m\u001b[1;36m10\u001b[0m\u001b[1;33m)\u001b[0m\u001b[1;33m\u001b[0m\u001b[1;33m\u001b[0m\u001b[0m\n",
      "\u001b[1;32m<ipython-input-198-4b5660c55b59>\u001b[0m in \u001b[0;36maverage_weight\u001b[1;34m(df)\u001b[0m\n\u001b[0;32m      2\u001b[0m     \u001b[0mscore\u001b[0m \u001b[1;33m=\u001b[0m \u001b[1;33m[\u001b[0m\u001b[1;33m]\u001b[0m\u001b[1;33m\u001b[0m\u001b[1;33m\u001b[0m\u001b[0m\n\u001b[0;32m      3\u001b[0m     \u001b[1;32mfor\u001b[0m \u001b[0mi\u001b[0m \u001b[1;32min\u001b[0m \u001b[0mrange\u001b[0m\u001b[1;33m(\u001b[0m\u001b[1;36m100\u001b[0m\u001b[1;33m)\u001b[0m\u001b[1;33m:\u001b[0m\u001b[1;33m\u001b[0m\u001b[1;33m\u001b[0m\u001b[0m\n\u001b[1;32m----> 4\u001b[1;33m         \u001b[0mscore\u001b[0m\u001b[1;33m.\u001b[0m\u001b[0mappend\u001b[0m\u001b[1;33m(\u001b[0m\u001b[0mdf\u001b[0m\u001b[1;33m.\u001b[0m\u001b[0miloc\u001b[0m\u001b[1;33m[\u001b[0m\u001b[0mi\u001b[0m\u001b[1;33m]\u001b[0m\u001b[1;33m.\u001b[0m\u001b[0msum\u001b[0m\u001b[1;33m(\u001b[0m\u001b[0mskipna\u001b[0m \u001b[1;33m=\u001b[0m \u001b[1;32mTrue\u001b[0m\u001b[1;33m)\u001b[0m\u001b[1;33m/\u001b[0m\u001b[0msum\u001b[0m\u001b[1;33m(\u001b[0m\u001b[0mweight\u001b[0m\u001b[1;33m)\u001b[0m\u001b[1;33m)\u001b[0m\u001b[1;33m\u001b[0m\u001b[1;33m\u001b[0m\u001b[0m\n\u001b[0m\u001b[0;32m      5\u001b[0m     \u001b[1;32mreturn\u001b[0m \u001b[0mscore\u001b[0m\u001b[1;33m\u001b[0m\u001b[1;33m\u001b[0m\u001b[0m\n\u001b[0;32m      6\u001b[0m \u001b[1;33m\u001b[0m\u001b[0m\n",
      "\u001b[1;32m~\\anaconda3\\lib\\site-packages\\pandas\\core\\indexing.py\u001b[0m in \u001b[0;36m__getitem__\u001b[1;34m(self, key)\u001b[0m\n\u001b[0;32m    893\u001b[0m \u001b[1;33m\u001b[0m\u001b[0m\n\u001b[0;32m    894\u001b[0m             \u001b[0mmaybe_callable\u001b[0m \u001b[1;33m=\u001b[0m \u001b[0mcom\u001b[0m\u001b[1;33m.\u001b[0m\u001b[0mapply_if_callable\u001b[0m\u001b[1;33m(\u001b[0m\u001b[0mkey\u001b[0m\u001b[1;33m,\u001b[0m \u001b[0mself\u001b[0m\u001b[1;33m.\u001b[0m\u001b[0mobj\u001b[0m\u001b[1;33m)\u001b[0m\u001b[1;33m\u001b[0m\u001b[1;33m\u001b[0m\u001b[0m\n\u001b[1;32m--> 895\u001b[1;33m             \u001b[1;32mreturn\u001b[0m \u001b[0mself\u001b[0m\u001b[1;33m.\u001b[0m\u001b[0m_getitem_axis\u001b[0m\u001b[1;33m(\u001b[0m\u001b[0mmaybe_callable\u001b[0m\u001b[1;33m,\u001b[0m \u001b[0maxis\u001b[0m\u001b[1;33m=\u001b[0m\u001b[0maxis\u001b[0m\u001b[1;33m)\u001b[0m\u001b[1;33m\u001b[0m\u001b[1;33m\u001b[0m\u001b[0m\n\u001b[0m\u001b[0;32m    896\u001b[0m \u001b[1;33m\u001b[0m\u001b[0m\n\u001b[0;32m    897\u001b[0m     \u001b[1;32mdef\u001b[0m \u001b[0m_is_scalar_access\u001b[0m\u001b[1;33m(\u001b[0m\u001b[0mself\u001b[0m\u001b[1;33m,\u001b[0m \u001b[0mkey\u001b[0m\u001b[1;33m:\u001b[0m \u001b[0mTuple\u001b[0m\u001b[1;33m)\u001b[0m\u001b[1;33m:\u001b[0m\u001b[1;33m\u001b[0m\u001b[1;33m\u001b[0m\u001b[0m\n",
      "\u001b[1;32m~\\anaconda3\\lib\\site-packages\\pandas\\core\\indexing.py\u001b[0m in \u001b[0;36m_getitem_axis\u001b[1;34m(self, key, axis)\u001b[0m\n\u001b[0;32m   1499\u001b[0m \u001b[1;33m\u001b[0m\u001b[0m\n\u001b[0;32m   1500\u001b[0m             \u001b[1;31m# validate the location\u001b[0m\u001b[1;33m\u001b[0m\u001b[1;33m\u001b[0m\u001b[1;33m\u001b[0m\u001b[0m\n\u001b[1;32m-> 1501\u001b[1;33m             \u001b[0mself\u001b[0m\u001b[1;33m.\u001b[0m\u001b[0m_validate_integer\u001b[0m\u001b[1;33m(\u001b[0m\u001b[0mkey\u001b[0m\u001b[1;33m,\u001b[0m \u001b[0maxis\u001b[0m\u001b[1;33m)\u001b[0m\u001b[1;33m\u001b[0m\u001b[1;33m\u001b[0m\u001b[0m\n\u001b[0m\u001b[0;32m   1502\u001b[0m \u001b[1;33m\u001b[0m\u001b[0m\n\u001b[0;32m   1503\u001b[0m             \u001b[1;32mreturn\u001b[0m \u001b[0mself\u001b[0m\u001b[1;33m.\u001b[0m\u001b[0mobj\u001b[0m\u001b[1;33m.\u001b[0m\u001b[0m_ixs\u001b[0m\u001b[1;33m(\u001b[0m\u001b[0mkey\u001b[0m\u001b[1;33m,\u001b[0m \u001b[0maxis\u001b[0m\u001b[1;33m=\u001b[0m\u001b[0maxis\u001b[0m\u001b[1;33m)\u001b[0m\u001b[1;33m\u001b[0m\u001b[1;33m\u001b[0m\u001b[0m\n",
      "\u001b[1;32m~\\anaconda3\\lib\\site-packages\\pandas\\core\\indexing.py\u001b[0m in \u001b[0;36m_validate_integer\u001b[1;34m(self, key, axis)\u001b[0m\n\u001b[0;32m   1442\u001b[0m         \u001b[0mlen_axis\u001b[0m \u001b[1;33m=\u001b[0m \u001b[0mlen\u001b[0m\u001b[1;33m(\u001b[0m\u001b[0mself\u001b[0m\u001b[1;33m.\u001b[0m\u001b[0mobj\u001b[0m\u001b[1;33m.\u001b[0m\u001b[0m_get_axis\u001b[0m\u001b[1;33m(\u001b[0m\u001b[0maxis\u001b[0m\u001b[1;33m)\u001b[0m\u001b[1;33m)\u001b[0m\u001b[1;33m\u001b[0m\u001b[1;33m\u001b[0m\u001b[0m\n\u001b[0;32m   1443\u001b[0m         \u001b[1;32mif\u001b[0m \u001b[0mkey\u001b[0m \u001b[1;33m>=\u001b[0m \u001b[0mlen_axis\u001b[0m \u001b[1;32mor\u001b[0m \u001b[0mkey\u001b[0m \u001b[1;33m<\u001b[0m \u001b[1;33m-\u001b[0m\u001b[0mlen_axis\u001b[0m\u001b[1;33m:\u001b[0m\u001b[1;33m\u001b[0m\u001b[1;33m\u001b[0m\u001b[0m\n\u001b[1;32m-> 1444\u001b[1;33m             \u001b[1;32mraise\u001b[0m \u001b[0mIndexError\u001b[0m\u001b[1;33m(\u001b[0m\u001b[1;34m\"single positional indexer is out-of-bounds\"\u001b[0m\u001b[1;33m)\u001b[0m\u001b[1;33m\u001b[0m\u001b[1;33m\u001b[0m\u001b[0m\n\u001b[0m\u001b[0;32m   1445\u001b[0m \u001b[1;33m\u001b[0m\u001b[0m\n\u001b[0;32m   1446\u001b[0m     \u001b[1;31m# -------------------------------------------------------------------\u001b[0m\u001b[1;33m\u001b[0m\u001b[1;33m\u001b[0m\u001b[1;33m\u001b[0m\u001b[0m\n",
      "\u001b[1;31mIndexError\u001b[0m: single positional indexer is out-of-bounds"
     ]
    }
   ],
   "source": [
    "df_nei['Score'] = average_weight(weight_X_rating)\n",
    "df_nei.sort_values(by = 'Score', ascending = False).head(10)\n"
   ]
  },
  {
   "cell_type": "code",
   "execution_count": 58,
   "id": "95427cb8",
   "metadata": {},
   "outputs": [
    {
     "data": {
      "text/html": [
       "<div>\n",
       "<style scoped>\n",
       "    .dataframe tbody tr th:only-of-type {\n",
       "        vertical-align: middle;\n",
       "    }\n",
       "\n",
       "    .dataframe tbody tr th {\n",
       "        vertical-align: top;\n",
       "    }\n",
       "\n",
       "    .dataframe thead th {\n",
       "        text-align: right;\n",
       "    }\n",
       "</style>\n",
       "<table border=\"1\" class=\"dataframe\">\n",
       "  <thead>\n",
       "    <tr style=\"text-align: right;\">\n",
       "      <th></th>\n",
       "      <th>3867</th>\n",
       "      <th>Movie_title</th>\n",
       "    </tr>\n",
       "  </thead>\n",
       "  <tbody>\n",
       "    <tr>\n",
       "      <th>74</th>\n",
       "      <td>5.0</td>\n",
       "      <td>Die Hard</td>\n",
       "    </tr>\n",
       "    <tr>\n",
       "      <th>14</th>\n",
       "      <td>5.0</td>\n",
       "      <td>The Lord of the Rings</td>\n",
       "    </tr>\n",
       "    <tr>\n",
       "      <th>50</th>\n",
       "      <td>5.0</td>\n",
       "      <td>The Matrix (1999)</td>\n",
       "    </tr>\n",
       "    <tr>\n",
       "      <th>59</th>\n",
       "      <td>5.0</td>\n",
       "      <td>Pulp Fiction (1994)</td>\n",
       "    </tr>\n",
       "    <tr>\n",
       "      <th>16</th>\n",
       "      <td>5.0</td>\n",
       "      <td>The Lord of the Rings</td>\n",
       "    </tr>\n",
       "    <tr>\n",
       "      <th>15</th>\n",
       "      <td>5.0</td>\n",
       "      <td>The Lord of the Rings</td>\n",
       "    </tr>\n",
       "    <tr>\n",
       "      <th>21</th>\n",
       "      <td>5.0</td>\n",
       "      <td>The Dark Knight (2008)</td>\n",
       "    </tr>\n",
       "    <tr>\n",
       "      <th>61</th>\n",
       "      <td>5.0</td>\n",
       "      <td>V for Vendetta (2006)</td>\n",
       "    </tr>\n",
       "    <tr>\n",
       "      <th>65</th>\n",
       "      <td>5.0</td>\n",
       "      <td>Shrek (2001)</td>\n",
       "    </tr>\n",
       "    <tr>\n",
       "      <th>9</th>\n",
       "      <td>4.5</td>\n",
       "      <td>Raiders of the Lost Ark (Indiana Jones and th...</td>\n",
       "    </tr>\n",
       "  </tbody>\n",
       "</table>\n",
       "</div>"
      ],
      "text/plain": [
       "    3867                                        Movie_title\n",
       "74   5.0                                           Die Hard\n",
       "14   5.0                              The Lord of the Rings\n",
       "50   5.0                                  The Matrix (1999)\n",
       "59   5.0                                Pulp Fiction (1994)\n",
       "16   5.0                              The Lord of the Rings\n",
       "15   5.0                              The Lord of the Rings\n",
       "21   5.0                             The Dark Knight (2008)\n",
       "61   5.0                              V for Vendetta (2006)\n",
       "65   5.0                                       Shrek (2001)\n",
       "9    4.5   Raiders of the Lost Ark (Indiana Jones and th..."
      ]
     },
     "execution_count": 58,
     "metadata": {},
     "output_type": "execute_result"
    }
   ],
   "source": [
    "df[[3867, 'Movie_title']].sort_values(by = 3867, ascending = False).head(10)"
   ]
  },
  {
   "cell_type": "code",
   "execution_count": 59,
   "id": "d6a9bae7",
   "metadata": {},
   "outputs": [
    {
     "data": {
      "text/html": [
       "<div>\n",
       "<style scoped>\n",
       "    .dataframe tbody tr th:only-of-type {\n",
       "        vertical-align: middle;\n",
       "    }\n",
       "\n",
       "    .dataframe tbody tr th {\n",
       "        vertical-align: top;\n",
       "    }\n",
       "\n",
       "    .dataframe thead th {\n",
       "        text-align: right;\n",
       "    }\n",
       "</style>\n",
       "<table border=\"1\" class=\"dataframe\">\n",
       "  <thead>\n",
       "    <tr style=\"text-align: right;\">\n",
       "      <th></th>\n",
       "      <th>1648</th>\n",
       "      <th>5136</th>\n",
       "      <th>918</th>\n",
       "      <th>2824</th>\n",
       "      <th>3867</th>\n",
       "      <th>860</th>\n",
       "      <th>3712</th>\n",
       "      <th>2968</th>\n",
       "      <th>3525</th>\n",
       "      <th>4323</th>\n",
       "      <th>...</th>\n",
       "      <th>2492</th>\n",
       "      <th>5062</th>\n",
       "      <th>2486</th>\n",
       "      <th>4942</th>\n",
       "      <th>2267</th>\n",
       "      <th>4809</th>\n",
       "      <th>3853</th>\n",
       "      <th>2288</th>\n",
       "      <th>Movie_Id</th>\n",
       "      <th>Movie_title</th>\n",
       "    </tr>\n",
       "  </thead>\n",
       "  <tbody>\n",
       "    <tr>\n",
       "      <th>55</th>\n",
       "      <td>NaN</td>\n",
       "      <td>4.5</td>\n",
       "      <td>NaN</td>\n",
       "      <td>NaN</td>\n",
       "      <td>NaN</td>\n",
       "      <td>3.0</td>\n",
       "      <td>NaN</td>\n",
       "      <td>3.0</td>\n",
       "      <td>NaN</td>\n",
       "      <td>5.0</td>\n",
       "      <td>...</td>\n",
       "      <td>NaN</td>\n",
       "      <td>NaN</td>\n",
       "      <td>2.5</td>\n",
       "      <td>4.0</td>\n",
       "      <td>4.0</td>\n",
       "      <td>NaN</td>\n",
       "      <td>NaN</td>\n",
       "      <td>NaN</td>\n",
       "      <td>641</td>\n",
       "      <td>Requiem for a Dream (2000)</td>\n",
       "    </tr>\n",
       "  </tbody>\n",
       "</table>\n",
       "<p>1 rows × 27 columns</p>\n",
       "</div>"
      ],
      "text/plain": [
       "    1648  5136  918  2824  3867  860  3712  2968  3525  4323  ...  2492  5062  \\\n",
       "55   NaN   4.5  NaN   NaN   NaN  3.0   NaN   3.0   NaN   5.0  ...   NaN   NaN   \n",
       "\n",
       "    2486  4942  2267  4809  3853  2288  Movie_Id                  Movie_title  \n",
       "55   2.5   4.0   4.0   NaN   NaN   NaN       641   Requiem for a Dream (2000)  \n",
       "\n",
       "[1 rows x 27 columns]"
      ]
     },
     "execution_count": 59,
     "metadata": {},
     "output_type": "execute_result"
    }
   ],
   "source": [
    "df[df['Movie_Id'] == '641']"
   ]
  },
  {
   "cell_type": "code",
   "execution_count": null,
   "id": "e7e16319",
   "metadata": {},
   "outputs": [],
   "source": []
  },
  {
   "cell_type": "code",
   "execution_count": 201,
   "id": "151c6a7f",
   "metadata": {},
   "outputs": [
    {
     "data": {
      "text/html": [
       "<div>\n",
       "<style scoped>\n",
       "    .dataframe tbody tr th:only-of-type {\n",
       "        vertical-align: middle;\n",
       "    }\n",
       "\n",
       "    .dataframe tbody tr th {\n",
       "        vertical-align: top;\n",
       "    }\n",
       "\n",
       "    .dataframe thead th {\n",
       "        text-align: right;\n",
       "    }\n",
       "</style>\n",
       "<table border=\"1\" class=\"dataframe\">\n",
       "  <thead>\n",
       "    <tr style=\"text-align: right;\">\n",
       "      <th></th>\n",
       "      <th>1648</th>\n",
       "      <th>5136</th>\n",
       "      <th>918</th>\n",
       "      <th>2824</th>\n",
       "      <th>3867</th>\n",
       "      <th>860</th>\n",
       "      <th>3712</th>\n",
       "      <th>2968</th>\n",
       "      <th>3525</th>\n",
       "      <th>4323</th>\n",
       "      <th>...</th>\n",
       "      <th>2492</th>\n",
       "      <th>5062</th>\n",
       "      <th>2486</th>\n",
       "      <th>4942</th>\n",
       "      <th>2267</th>\n",
       "      <th>4809</th>\n",
       "      <th>3853</th>\n",
       "      <th>2288</th>\n",
       "      <th>Movie_Id</th>\n",
       "      <th>Movie_title</th>\n",
       "    </tr>\n",
       "  </thead>\n",
       "  <tbody>\n",
       "    <tr>\n",
       "      <th>0</th>\n",
       "      <td>NaN</td>\n",
       "      <td>4.5</td>\n",
       "      <td>5.0</td>\n",
       "      <td>4.5</td>\n",
       "      <td>4.0</td>\n",
       "      <td>4.0</td>\n",
       "      <td>NaN</td>\n",
       "      <td>5.0</td>\n",
       "      <td>4.0</td>\n",
       "      <td>5.0</td>\n",
       "      <td>...</td>\n",
       "      <td>4.5</td>\n",
       "      <td>4.0</td>\n",
       "      <td>3.5</td>\n",
       "      <td>NaN</td>\n",
       "      <td>NaN</td>\n",
       "      <td>NaN</td>\n",
       "      <td>NaN</td>\n",
       "      <td>NaN</td>\n",
       "      <td>11</td>\n",
       "      <td>Star Wars</td>\n",
       "    </tr>\n",
       "    <tr>\n",
       "      <th>1</th>\n",
       "      <td>NaN</td>\n",
       "      <td>5.0</td>\n",
       "      <td>5.0</td>\n",
       "      <td>NaN</td>\n",
       "      <td>4.0</td>\n",
       "      <td>4.0</td>\n",
       "      <td>4.5</td>\n",
       "      <td>4.5</td>\n",
       "      <td>4.0</td>\n",
       "      <td>5.0</td>\n",
       "      <td>...</td>\n",
       "      <td>3.5</td>\n",
       "      <td>4.0</td>\n",
       "      <td>2.0</td>\n",
       "      <td>3.5</td>\n",
       "      <td>NaN</td>\n",
       "      <td>NaN</td>\n",
       "      <td>NaN</td>\n",
       "      <td>3.5</td>\n",
       "      <td>12</td>\n",
       "      <td>Finding Nemo (2003)</td>\n",
       "    </tr>\n",
       "    <tr>\n",
       "      <th>2</th>\n",
       "      <td>NaN</td>\n",
       "      <td>5.0</td>\n",
       "      <td>4.5</td>\n",
       "      <td>5.0</td>\n",
       "      <td>4.5</td>\n",
       "      <td>4.5</td>\n",
       "      <td>NaN</td>\n",
       "      <td>5.0</td>\n",
       "      <td>4.5</td>\n",
       "      <td>5.0</td>\n",
       "      <td>...</td>\n",
       "      <td>3.5</td>\n",
       "      <td>4.5</td>\n",
       "      <td>4.5</td>\n",
       "      <td>4.0</td>\n",
       "      <td>3.5</td>\n",
       "      <td>4.5</td>\n",
       "      <td>3.5</td>\n",
       "      <td>3.5</td>\n",
       "      <td>13</td>\n",
       "      <td>Forrest Gump (1994)</td>\n",
       "    </tr>\n",
       "    <tr>\n",
       "      <th>3</th>\n",
       "      <td>NaN</td>\n",
       "      <td>4.0</td>\n",
       "      <td>NaN</td>\n",
       "      <td>NaN</td>\n",
       "      <td>NaN</td>\n",
       "      <td>NaN</td>\n",
       "      <td>4.5</td>\n",
       "      <td>2.0</td>\n",
       "      <td>3.5</td>\n",
       "      <td>5.0</td>\n",
       "      <td>...</td>\n",
       "      <td>3.5</td>\n",
       "      <td>4.5</td>\n",
       "      <td>3.5</td>\n",
       "      <td>4.0</td>\n",
       "      <td>NaN</td>\n",
       "      <td>3.5</td>\n",
       "      <td>NaN</td>\n",
       "      <td>NaN</td>\n",
       "      <td>14</td>\n",
       "      <td>American Beauty (1999)</td>\n",
       "    </tr>\n",
       "    <tr>\n",
       "      <th>4</th>\n",
       "      <td>4.0</td>\n",
       "      <td>5.0</td>\n",
       "      <td>3.0</td>\n",
       "      <td>4.5</td>\n",
       "      <td>4.0</td>\n",
       "      <td>2.5</td>\n",
       "      <td>NaN</td>\n",
       "      <td>5.0</td>\n",
       "      <td>3.0</td>\n",
       "      <td>4.0</td>\n",
       "      <td>...</td>\n",
       "      <td>4.0</td>\n",
       "      <td>4.0</td>\n",
       "      <td>2.5</td>\n",
       "      <td>3.5</td>\n",
       "      <td>NaN</td>\n",
       "      <td>5.0</td>\n",
       "      <td>NaN</td>\n",
       "      <td>3.5</td>\n",
       "      <td>22</td>\n",
       "      <td>Pirates of the Caribbean</td>\n",
       "    </tr>\n",
       "  </tbody>\n",
       "</table>\n",
       "<p>5 rows × 27 columns</p>\n",
       "</div>"
      ],
      "text/plain": [
       "   1648  5136  918  2824  3867  860  3712  2968  3525  4323  ...  2492  5062  \\\n",
       "0   NaN   4.5  5.0   4.5   4.0  4.0   NaN   5.0   4.0   5.0  ...   4.5   4.0   \n",
       "1   NaN   5.0  5.0   NaN   4.0  4.0   4.5   4.5   4.0   5.0  ...   3.5   4.0   \n",
       "2   NaN   5.0  4.5   5.0   4.5  4.5   NaN   5.0   4.5   5.0  ...   3.5   4.5   \n",
       "3   NaN   4.0  NaN   NaN   NaN  NaN   4.5   2.0   3.5   5.0  ...   3.5   4.5   \n",
       "4   4.0   5.0  3.0   4.5   4.0  2.5   NaN   5.0   3.0   4.0  ...   4.0   4.0   \n",
       "\n",
       "   2486  4942  2267  4809  3853  2288  Movie_Id                Movie_title  \n",
       "0   3.5   NaN   NaN   NaN   NaN   NaN        11                  Star Wars  \n",
       "1   2.0   3.5   NaN   NaN   NaN   3.5        12        Finding Nemo (2003)  \n",
       "2   4.5   4.0   3.5   4.5   3.5   3.5        13        Forrest Gump (1994)  \n",
       "3   3.5   4.0   NaN   3.5   NaN   NaN        14     American Beauty (1999)  \n",
       "4   2.5   3.5   NaN   5.0   NaN   3.5        22   Pirates of the Caribbean  \n",
       "\n",
       "[5 rows x 27 columns]"
      ]
     },
     "execution_count": 201,
     "metadata": {},
     "output_type": "execute_result"
    }
   ],
   "source": [
    "# Top Recommendation Movies for user 3712 without normalization\n",
    "\n",
    "df.head()"
   ]
  },
  {
   "cell_type": "code",
   "execution_count": 202,
   "id": "03924725",
   "metadata": {},
   "outputs": [],
   "source": [
    "neighbor_of_3712 = df.corr()[3712].sort_values(ascending = False).head(6) # top 5 neighbors\n",
    "neighbor_of_3712 = list(neighbor_of_3712) "
   ]
  },
  {
   "cell_type": "code",
   "execution_count": 340,
   "id": "ee0465fc",
   "metadata": {},
   "outputs": [],
   "source": [
    "weights_3712 = neighbor_of_3712"
   ]
  },
  {
   "cell_type": "code",
   "execution_count": 203,
   "id": "781791b7",
   "metadata": {},
   "outputs": [
    {
     "data": {
      "text/plain": [
       "1.5316672932021975"
      ]
     },
     "execution_count": 203,
     "metadata": {},
     "output_type": "execute_result"
    }
   ],
   "source": [
    "neighbor_of_3712.remove(1)\n",
    "sum_weight_3712 = sum(neighbor_of_3712)\n",
    "sum_weight_3712"
   ]
  },
  {
   "cell_type": "code",
   "execution_count": 264,
   "id": "d57581fc",
   "metadata": {},
   "outputs": [],
   "source": [
    "df_3712 = df[[2824, 3867, 5062,442, 3853, 'Movie_Id', 'Movie_title']]"
   ]
  },
  {
   "cell_type": "code",
   "execution_count": 265,
   "id": "3236be59",
   "metadata": {},
   "outputs": [
    {
     "data": {
      "text/html": [
       "<div>\n",
       "<style scoped>\n",
       "    .dataframe tbody tr th:only-of-type {\n",
       "        vertical-align: middle;\n",
       "    }\n",
       "\n",
       "    .dataframe tbody tr th {\n",
       "        vertical-align: top;\n",
       "    }\n",
       "\n",
       "    .dataframe thead th {\n",
       "        text-align: right;\n",
       "    }\n",
       "</style>\n",
       "<table border=\"1\" class=\"dataframe\">\n",
       "  <thead>\n",
       "    <tr style=\"text-align: right;\">\n",
       "      <th></th>\n",
       "      <th>2824</th>\n",
       "      <th>3867</th>\n",
       "      <th>5062</th>\n",
       "      <th>442</th>\n",
       "      <th>3853</th>\n",
       "      <th>Movie_Id</th>\n",
       "      <th>Movie_title</th>\n",
       "    </tr>\n",
       "  </thead>\n",
       "  <tbody>\n",
       "    <tr>\n",
       "      <th>0</th>\n",
       "      <td>4.5</td>\n",
       "      <td>4.0</td>\n",
       "      <td>4.0</td>\n",
       "      <td>3.0</td>\n",
       "      <td>NaN</td>\n",
       "      <td>11</td>\n",
       "      <td>Star Wars</td>\n",
       "    </tr>\n",
       "    <tr>\n",
       "      <th>1</th>\n",
       "      <td>NaN</td>\n",
       "      <td>4.0</td>\n",
       "      <td>4.0</td>\n",
       "      <td>NaN</td>\n",
       "      <td>NaN</td>\n",
       "      <td>12</td>\n",
       "      <td>Finding Nemo (2003)</td>\n",
       "    </tr>\n",
       "    <tr>\n",
       "      <th>2</th>\n",
       "      <td>5.0</td>\n",
       "      <td>4.5</td>\n",
       "      <td>4.5</td>\n",
       "      <td>3.0</td>\n",
       "      <td>3.5</td>\n",
       "      <td>13</td>\n",
       "      <td>Forrest Gump (1994)</td>\n",
       "    </tr>\n",
       "    <tr>\n",
       "      <th>3</th>\n",
       "      <td>NaN</td>\n",
       "      <td>NaN</td>\n",
       "      <td>4.5</td>\n",
       "      <td>4.0</td>\n",
       "      <td>NaN</td>\n",
       "      <td>14</td>\n",
       "      <td>American Beauty (1999)</td>\n",
       "    </tr>\n",
       "    <tr>\n",
       "      <th>4</th>\n",
       "      <td>4.5</td>\n",
       "      <td>4.0</td>\n",
       "      <td>4.0</td>\n",
       "      <td>1.0</td>\n",
       "      <td>NaN</td>\n",
       "      <td>22</td>\n",
       "      <td>Pirates of the Caribbean</td>\n",
       "    </tr>\n",
       "    <tr>\n",
       "      <th>...</th>\n",
       "      <td>...</td>\n",
       "      <td>...</td>\n",
       "      <td>...</td>\n",
       "      <td>...</td>\n",
       "      <td>...</td>\n",
       "      <td>...</td>\n",
       "      <td>...</td>\n",
       "    </tr>\n",
       "    <tr>\n",
       "      <th>95</th>\n",
       "      <td>NaN</td>\n",
       "      <td>3.0</td>\n",
       "      <td>3.5</td>\n",
       "      <td>NaN</td>\n",
       "      <td>NaN</td>\n",
       "      <td>9806</td>\n",
       "      <td>The Incredibles (2004)</td>\n",
       "    </tr>\n",
       "    <tr>\n",
       "      <th>96</th>\n",
       "      <td>NaN</td>\n",
       "      <td>4.0</td>\n",
       "      <td>2.0</td>\n",
       "      <td>NaN</td>\n",
       "      <td>NaN</td>\n",
       "      <td>10020</td>\n",
       "      <td>Beauty and the Beast (1991)</td>\n",
       "    </tr>\n",
       "    <tr>\n",
       "      <th>97</th>\n",
       "      <td>NaN</td>\n",
       "      <td>4.0</td>\n",
       "      <td>4.0</td>\n",
       "      <td>4.0</td>\n",
       "      <td>3.0</td>\n",
       "      <td>36657</td>\n",
       "      <td>X-Men (2000)</td>\n",
       "    </tr>\n",
       "    <tr>\n",
       "      <th>98</th>\n",
       "      <td>NaN</td>\n",
       "      <td>3.5</td>\n",
       "      <td>NaN</td>\n",
       "      <td>4.0</td>\n",
       "      <td>NaN</td>\n",
       "      <td>36658</td>\n",
       "      <td>X2</td>\n",
       "    </tr>\n",
       "    <tr>\n",
       "      <th>99</th>\n",
       "      <td>NaN</td>\n",
       "      <td>3.0</td>\n",
       "      <td>NaN</td>\n",
       "      <td>NaN</td>\n",
       "      <td>NaN</td>\n",
       "      <td>36955</td>\n",
       "      <td>True Lies (1994)</td>\n",
       "    </tr>\n",
       "  </tbody>\n",
       "</table>\n",
       "<p>100 rows × 7 columns</p>\n",
       "</div>"
      ],
      "text/plain": [
       "    2824  3867  5062  442  3853 Movie_Id                   Movie_title\n",
       "0    4.5   4.0   4.0  3.0   NaN       11                     Star Wars\n",
       "1    NaN   4.0   4.0  NaN   NaN       12           Finding Nemo (2003)\n",
       "2    5.0   4.5   4.5  3.0   3.5       13           Forrest Gump (1994)\n",
       "3    NaN   NaN   4.5  4.0   NaN       14        American Beauty (1999)\n",
       "4    4.5   4.0   4.0  1.0   NaN       22      Pirates of the Caribbean\n",
       "..   ...   ...   ...  ...   ...      ...                           ...\n",
       "95   NaN   3.0   3.5  NaN   NaN     9806        The Incredibles (2004)\n",
       "96   NaN   4.0   2.0  NaN   NaN    10020   Beauty and the Beast (1991)\n",
       "97   NaN   4.0   4.0  4.0   3.0    36657                  X-Men (2000)\n",
       "98   NaN   3.5   NaN  4.0   NaN    36658                            X2\n",
       "99   NaN   3.0   NaN  NaN   NaN    36955              True Lies (1994)\n",
       "\n",
       "[100 rows x 7 columns]"
      ]
     },
     "execution_count": 265,
     "metadata": {},
     "output_type": "execute_result"
    }
   ],
   "source": [
    "df_3712 # replacing Nan by 0"
   ]
  },
  {
   "cell_type": "code",
   "execution_count": 268,
   "id": "765bfbde",
   "metadata": {},
   "outputs": [],
   "source": [
    "# func finding nan values\n",
    "def nan_function(row):\n",
    "    for ele in row:\n",
    "        count = 0\n",
    "        if ele == 'NaN':\n",
    "            count += 1\n",
    "    return count"
   ]
  },
  {
   "cell_type": "code",
   "execution_count": 278,
   "id": "308cdf1c",
   "metadata": {},
   "outputs": [
    {
     "name": "stdout",
     "output_type": "stream",
     "text": [
      "4.5\n",
      "4.0\n",
      "4.0\n",
      "3.0\n",
      "nan\n",
      "11\n",
      " Star Wars\n"
     ]
    },
    {
     "data": {
      "text/plain": [
       "0"
      ]
     },
     "execution_count": 278,
     "metadata": {},
     "output_type": "execute_result"
    }
   ],
   "source": [
    "for ele in df_3712.iloc[0]:\n",
    "    print(ele)\n",
    "   # if ele == 'NaN':\n",
    "    #    count += 1\n",
    "    \n",
    "\n",
    "count"
   ]
  },
  {
   "cell_type": "code",
   "execution_count": 211,
   "id": "533bd5ad",
   "metadata": {},
   "outputs": [],
   "source": [
    "df_3712_users = df_3712[[2824, 3867,5062,442,3853]]\n",
    "df_3712_users = df_3712_users"
   ]
  },
  {
   "cell_type": "code",
   "execution_count": 234,
   "id": "39edc014",
   "metadata": {},
   "outputs": [],
   "source": [
    "def average_score(data):\n",
    "    score_3712 = []\n",
    "    for row in range(100):\n",
    "        score_3712.append((df_3712_users.iloc[row]*neighbor_of_3712).sum(skipna =True)/sum_weight_3712)\n",
    "    return score_3712\n"
   ]
  },
  {
   "cell_type": "code",
   "execution_count": null,
   "id": "1227b936",
   "metadata": {},
   "outputs": [],
   "source": []
  },
  {
   "cell_type": "code",
   "execution_count": null,
   "id": "16745da6",
   "metadata": {},
   "outputs": [],
   "source": []
  },
  {
   "cell_type": "code",
   "execution_count": 236,
   "id": "9121baf0",
   "metadata": {},
   "outputs": [
    {
     "name": "stderr",
     "output_type": "stream",
     "text": [
      "<ipython-input-236-831bf8b03b75>:1: SettingWithCopyWarning: \n",
      "A value is trying to be set on a copy of a slice from a DataFrame.\n",
      "Try using .loc[row_indexer,col_indexer] = value instead\n",
      "\n",
      "See the caveats in the documentation: https://pandas.pydata.org/pandas-docs/stable/user_guide/indexing.html#returning-a-view-versus-a-copy\n",
      "  df_3712['Score'] = average_score(df_3712_users)\n"
     ]
    }
   ],
   "source": [
    "df_3712['Score'] = average_score(df_3712_users)"
   ]
  },
  {
   "cell_type": "code",
   "execution_count": 209,
   "id": "f82ea2af",
   "metadata": {},
   "outputs": [
    {
     "data": {
      "text/html": [
       "<div>\n",
       "<style scoped>\n",
       "    .dataframe tbody tr th:only-of-type {\n",
       "        vertical-align: middle;\n",
       "    }\n",
       "\n",
       "    .dataframe tbody tr th {\n",
       "        vertical-align: top;\n",
       "    }\n",
       "\n",
       "    .dataframe thead th {\n",
       "        text-align: right;\n",
       "    }\n",
       "</style>\n",
       "<table border=\"1\" class=\"dataframe\">\n",
       "  <thead>\n",
       "    <tr style=\"text-align: right;\">\n",
       "      <th></th>\n",
       "      <th>2824</th>\n",
       "      <th>3867</th>\n",
       "      <th>5062</th>\n",
       "      <th>442</th>\n",
       "      <th>3853</th>\n",
       "      <th>Movie_Id</th>\n",
       "      <th>Movie_title</th>\n",
       "      <th>Score</th>\n",
       "    </tr>\n",
       "  </thead>\n",
       "  <tbody>\n",
       "    <tr>\n",
       "      <th>11</th>\n",
       "      <td>NaN</td>\n",
       "      <td>NaN</td>\n",
       "      <td>4.5</td>\n",
       "      <td>5.0</td>\n",
       "      <td>NaN</td>\n",
       "      <td>105</td>\n",
       "      <td>Back to the Future (1985)</td>\n",
       "      <td>NaN</td>\n",
       "    </tr>\n",
       "  </tbody>\n",
       "</table>\n",
       "</div>"
      ],
      "text/plain": [
       "    2824  3867  5062  442  3853 Movie_Id                 Movie_title  Score\n",
       "11   NaN   NaN   4.5  5.0   NaN      105   Back to the Future (1985)    NaN"
      ]
     },
     "execution_count": 209,
     "metadata": {},
     "output_type": "execute_result"
    }
   ],
   "source": [
    "df_3712[df_3712['Movie_Id'] == '105']"
   ]
  },
  {
   "cell_type": "code",
   "execution_count": 238,
   "id": "d27c0b17",
   "metadata": {},
   "outputs": [
    {
     "data": {
      "text/plain": [
       "3.4970753434799384"
      ]
     },
     "execution_count": 238,
     "metadata": {},
     "output_type": "execute_result"
    }
   ],
   "source": [
    "(df_3712_users.iloc[0]*neighbor_of_3712).sum()/sum_weight_3712"
   ]
  },
  {
   "cell_type": "code",
   "execution_count": 241,
   "id": "261468db",
   "metadata": {},
   "outputs": [
    {
     "data": {
      "text/plain": [
       "15.5"
      ]
     },
     "execution_count": 241,
     "metadata": {},
     "output_type": "execute_result"
    }
   ],
   "source": [
    "df_3712_users.iloc[0].sum()"
   ]
  },
  {
   "cell_type": "code",
   "execution_count": 242,
   "id": "8de3d992",
   "metadata": {},
   "outputs": [
    {
     "data": {
      "text/plain": [
       "2824    4.5\n",
       "3867    4.0\n",
       "5062    4.0\n",
       "442     3.0\n",
       "3853    NaN\n",
       "Name: 0, dtype: float64"
      ]
     },
     "execution_count": 242,
     "metadata": {},
     "output_type": "execute_result"
    }
   ],
   "source": [
    "df_3712_users.iloc[0]"
   ]
  },
  {
   "cell_type": "code",
   "execution_count": 280,
   "id": "b5e9a23c",
   "metadata": {},
   "outputs": [
    {
     "data": {
      "text/html": [
       "<div>\n",
       "<style scoped>\n",
       "    .dataframe tbody tr th:only-of-type {\n",
       "        vertical-align: middle;\n",
       "    }\n",
       "\n",
       "    .dataframe tbody tr th {\n",
       "        vertical-align: top;\n",
       "    }\n",
       "\n",
       "    .dataframe thead th {\n",
       "        text-align: right;\n",
       "    }\n",
       "</style>\n",
       "<table border=\"1\" class=\"dataframe\">\n",
       "  <thead>\n",
       "    <tr style=\"text-align: right;\">\n",
       "      <th></th>\n",
       "      <th>2824</th>\n",
       "      <th>3867</th>\n",
       "      <th>5062</th>\n",
       "      <th>442</th>\n",
       "      <th>3853</th>\n",
       "    </tr>\n",
       "  </thead>\n",
       "  <tbody>\n",
       "    <tr>\n",
       "      <th>0</th>\n",
       "      <td>4.5</td>\n",
       "      <td>4.0</td>\n",
       "      <td>4.0</td>\n",
       "      <td>3.0</td>\n",
       "      <td>NaN</td>\n",
       "    </tr>\n",
       "    <tr>\n",
       "      <th>1</th>\n",
       "      <td>NaN</td>\n",
       "      <td>4.0</td>\n",
       "      <td>4.0</td>\n",
       "      <td>NaN</td>\n",
       "      <td>NaN</td>\n",
       "    </tr>\n",
       "    <tr>\n",
       "      <th>2</th>\n",
       "      <td>5.0</td>\n",
       "      <td>4.5</td>\n",
       "      <td>4.5</td>\n",
       "      <td>3.0</td>\n",
       "      <td>3.5</td>\n",
       "    </tr>\n",
       "    <tr>\n",
       "      <th>3</th>\n",
       "      <td>NaN</td>\n",
       "      <td>NaN</td>\n",
       "      <td>4.5</td>\n",
       "      <td>4.0</td>\n",
       "      <td>NaN</td>\n",
       "    </tr>\n",
       "    <tr>\n",
       "      <th>4</th>\n",
       "      <td>4.5</td>\n",
       "      <td>4.0</td>\n",
       "      <td>4.0</td>\n",
       "      <td>1.0</td>\n",
       "      <td>NaN</td>\n",
       "    </tr>\n",
       "    <tr>\n",
       "      <th>...</th>\n",
       "      <td>...</td>\n",
       "      <td>...</td>\n",
       "      <td>...</td>\n",
       "      <td>...</td>\n",
       "      <td>...</td>\n",
       "    </tr>\n",
       "    <tr>\n",
       "      <th>95</th>\n",
       "      <td>NaN</td>\n",
       "      <td>3.0</td>\n",
       "      <td>3.5</td>\n",
       "      <td>NaN</td>\n",
       "      <td>NaN</td>\n",
       "    </tr>\n",
       "    <tr>\n",
       "      <th>96</th>\n",
       "      <td>NaN</td>\n",
       "      <td>4.0</td>\n",
       "      <td>2.0</td>\n",
       "      <td>NaN</td>\n",
       "      <td>NaN</td>\n",
       "    </tr>\n",
       "    <tr>\n",
       "      <th>97</th>\n",
       "      <td>NaN</td>\n",
       "      <td>4.0</td>\n",
       "      <td>4.0</td>\n",
       "      <td>4.0</td>\n",
       "      <td>3.0</td>\n",
       "    </tr>\n",
       "    <tr>\n",
       "      <th>98</th>\n",
       "      <td>NaN</td>\n",
       "      <td>3.5</td>\n",
       "      <td>NaN</td>\n",
       "      <td>4.0</td>\n",
       "      <td>NaN</td>\n",
       "    </tr>\n",
       "    <tr>\n",
       "      <th>99</th>\n",
       "      <td>NaN</td>\n",
       "      <td>3.0</td>\n",
       "      <td>NaN</td>\n",
       "      <td>NaN</td>\n",
       "      <td>NaN</td>\n",
       "    </tr>\n",
       "  </tbody>\n",
       "</table>\n",
       "<p>100 rows × 5 columns</p>\n",
       "</div>"
      ],
      "text/plain": [
       "    2824  3867  5062  442   3853\n",
       "0    4.5   4.0   4.0   3.0   NaN\n",
       "1    NaN   4.0   4.0   NaN   NaN\n",
       "2    5.0   4.5   4.5   3.0   3.5\n",
       "3    NaN   NaN   4.5   4.0   NaN\n",
       "4    4.5   4.0   4.0   1.0   NaN\n",
       "..   ...   ...   ...   ...   ...\n",
       "95   NaN   3.0   3.5   NaN   NaN\n",
       "96   NaN   4.0   2.0   NaN   NaN\n",
       "97   NaN   4.0   4.0   4.0   3.0\n",
       "98   NaN   3.5   NaN   4.0   NaN\n",
       "99   NaN   3.0   NaN   NaN   NaN\n",
       "\n",
       "[100 rows x 5 columns]"
      ]
     },
     "execution_count": 280,
     "metadata": {},
     "output_type": "execute_result"
    }
   ],
   "source": [
    "df_3712_users"
   ]
  },
  {
   "cell_type": "code",
   "execution_count": 286,
   "id": "56d95749",
   "metadata": {},
   "outputs": [
    {
     "ename": "ValueError",
     "evalue": "The truth value of a Series is ambiguous. Use a.empty, a.bool(), a.item(), a.any() or a.all().",
     "output_type": "error",
     "traceback": [
      "\u001b[1;31m---------------------------------------------------------------------------\u001b[0m",
      "\u001b[1;31mValueError\u001b[0m                                Traceback (most recent call last)",
      "\u001b[1;32m<ipython-input-286-3b2b794146a4>\u001b[0m in \u001b[0;36m<module>\u001b[1;34m\u001b[0m\n\u001b[0;32m      2\u001b[0m     \u001b[1;32mfor\u001b[0m \u001b[0mi\u001b[0m \u001b[1;32min\u001b[0m \u001b[0mrange\u001b[0m\u001b[1;33m(\u001b[0m\u001b[1;36m5\u001b[0m\u001b[1;33m)\u001b[0m\u001b[1;33m:\u001b[0m\u001b[1;33m\u001b[0m\u001b[1;33m\u001b[0m\u001b[0m\n\u001b[0;32m      3\u001b[0m         \u001b[0mcount\u001b[0m \u001b[1;33m=\u001b[0m \u001b[1;36m0\u001b[0m\u001b[1;33m\u001b[0m\u001b[1;33m\u001b[0m\u001b[0m\n\u001b[1;32m----> 4\u001b[1;33m         \u001b[1;32mif\u001b[0m \u001b[0mdf_3712_users\u001b[0m\u001b[1;33m.\u001b[0m\u001b[0miloc\u001b[0m\u001b[1;33m[\u001b[0m\u001b[0mj\u001b[0m\u001b[1;33m]\u001b[0m \u001b[1;33m==\u001b[0m \u001b[1;34m'NaN'\u001b[0m\u001b[1;33m:\u001b[0m\u001b[1;33m\u001b[0m\u001b[1;33m\u001b[0m\u001b[0m\n\u001b[0m\u001b[0;32m      5\u001b[0m             \u001b[0mcount\u001b[0m \u001b[1;33m+=\u001b[0m \u001b[1;36m1\u001b[0m\u001b[1;33m\u001b[0m\u001b[1;33m\u001b[0m\u001b[0m\n",
      "\u001b[1;32m~\\anaconda3\\lib\\site-packages\\pandas\\core\\generic.py\u001b[0m in \u001b[0;36m__nonzero__\u001b[1;34m(self)\u001b[0m\n\u001b[0;32m   1440\u001b[0m     \u001b[1;33m@\u001b[0m\u001b[0mfinal\u001b[0m\u001b[1;33m\u001b[0m\u001b[1;33m\u001b[0m\u001b[0m\n\u001b[0;32m   1441\u001b[0m     \u001b[1;32mdef\u001b[0m \u001b[0m__nonzero__\u001b[0m\u001b[1;33m(\u001b[0m\u001b[0mself\u001b[0m\u001b[1;33m)\u001b[0m\u001b[1;33m:\u001b[0m\u001b[1;33m\u001b[0m\u001b[1;33m\u001b[0m\u001b[0m\n\u001b[1;32m-> 1442\u001b[1;33m         raise ValueError(\n\u001b[0m\u001b[0;32m   1443\u001b[0m             \u001b[1;34mf\"The truth value of a {type(self).__name__} is ambiguous. \"\u001b[0m\u001b[1;33m\u001b[0m\u001b[1;33m\u001b[0m\u001b[0m\n\u001b[0;32m   1444\u001b[0m             \u001b[1;34m\"Use a.empty, a.bool(), a.item(), a.any() or a.all().\"\u001b[0m\u001b[1;33m\u001b[0m\u001b[1;33m\u001b[0m\u001b[0m\n",
      "\u001b[1;31mValueError\u001b[0m: The truth value of a Series is ambiguous. Use a.empty, a.bool(), a.item(), a.any() or a.all()."
     ]
    }
   ],
   "source": [
    "for j in range(100):\n",
    "    for i in range(5):\n",
    "        count = 0\n",
    "        if df_3712_users.iloc[j] == 'NaN':\n",
    "            count += 1"
   ]
  },
  {
   "cell_type": "code",
   "execution_count": 285,
   "id": "8bf13781",
   "metadata": {},
   "outputs": [
    {
     "name": "stdout",
     "output_type": "stream",
     "text": [
      "0\n"
     ]
    }
   ],
   "source": [
    "print(count)"
   ]
  },
  {
   "cell_type": "code",
   "execution_count": 337,
   "id": "d51c808f",
   "metadata": {},
   "outputs": [
    {
     "data": {
      "text/plain": [
       "[nan, 4.0, 2.0, nan, nan]"
      ]
     },
     "execution_count": 337,
     "metadata": {},
     "output_type": "execute_result"
    }
   ],
   "source": [
    "a = list(df_3712_users.iloc[96])\n",
    "a"
   ]
  },
  {
   "cell_type": "code",
   "execution_count": 342,
   "id": "b03c96b3",
   "metadata": {},
   "outputs": [
    {
     "data": {
      "text/plain": [
       "[0.46291004988627577,\n",
       " 0.4002745042538168,\n",
       " 0.24769327229404733,\n",
       " 0.22712986493078843,\n",
       " 0.1936596018372691]"
      ]
     },
     "execution_count": 342,
     "metadata": {},
     "output_type": "execute_result"
    }
   ],
   "source": [
    "weights_3712"
   ]
  },
  {
   "cell_type": "code",
   "execution_count": 363,
   "id": "d67b5f18",
   "metadata": {},
   "outputs": [
    {
     "data": {
      "text/plain": [
       "array([0, 3, 4], dtype=int64)"
      ]
     },
     "execution_count": 363,
     "metadata": {},
     "output_type": "execute_result"
    }
   ],
   "source": [
    "ind =np.where(np.isnan(a))[0]\n",
    "\n",
    "ind"
   ]
  },
  {
   "cell_type": "code",
   "execution_count": 351,
   "id": "a0ca6bb2",
   "metadata": {},
   "outputs": [
    {
     "data": {
      "text/plain": [
       "pandas.core.frame.DataFrame"
      ]
     },
     "execution_count": 351,
     "metadata": {},
     "output_type": "execute_result"
    }
   ],
   "source": []
  },
  {
   "cell_type": "code",
   "execution_count": 330,
   "id": "38d58d8d",
   "metadata": {},
   "outputs": [
    {
     "data": {
      "text/plain": [
       "array([4, 5, 7], dtype=int64)"
      ]
     },
     "execution_count": 330,
     "metadata": {},
     "output_type": "execute_result"
    }
   ],
   "source": [
    "a=[1, 2, 3, 4, np.nan, np.nan, 2, np.nan]\n",
    "\n",
    "ind=[]\n",
    "ind = np.where(np.isnan(a))[0]\n",
    "ind"
   ]
  },
  {
   "cell_type": "code",
   "execution_count": 319,
   "id": "85ca0b1b",
   "metadata": {},
   "outputs": [
    {
     "data": {
      "text/plain": [
       "nan"
      ]
     },
     "execution_count": 319,
     "metadata": {},
     "output_type": "execute_result"
    }
   ],
   "source": [
    "a[4]"
   ]
  },
  {
   "cell_type": "code",
   "execution_count": 341,
   "id": "07d8c053",
   "metadata": {},
   "outputs": [
    {
     "data": {
      "text/plain": [
       "[0.46291004988627577,\n",
       " 0.4002745042538168,\n",
       " 0.24769327229404733,\n",
       " 0.22712986493078843,\n",
       " 0.1936596018372691]"
      ]
     },
     "execution_count": 341,
     "metadata": {},
     "output_type": "execute_result"
    }
   ],
   "source": [
    "weights_3712"
   ]
  },
  {
   "cell_type": "code",
   "execution_count": null,
   "id": "6ff14eea",
   "metadata": {},
   "outputs": [],
   "source": []
  }
 ],
 "metadata": {
  "kernelspec": {
   "display_name": "Python 3",
   "language": "python",
   "name": "python3"
  },
  "language_info": {
   "codemirror_mode": {
    "name": "ipython",
    "version": 3
   },
   "file_extension": ".py",
   "mimetype": "text/x-python",
   "name": "python",
   "nbconvert_exporter": "python",
   "pygments_lexer": "ipython3",
   "version": "3.8.8"
  }
 },
 "nbformat": 4,
 "nbformat_minor": 5
}
