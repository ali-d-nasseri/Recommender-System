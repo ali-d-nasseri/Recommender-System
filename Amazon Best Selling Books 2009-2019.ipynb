{
 "cells": [
  {
   "cell_type": "markdown",
   "id": "83c79c89",
   "metadata": {},
   "source": [
    "https://www.datacamp.com/community/tutorials/recommender-systems-python"
   ]
  },
  {
   "cell_type": "code",
   "execution_count": 2,
   "id": "6520303a",
   "metadata": {},
   "outputs": [],
   "source": [
    "import pandas as pd\n",
    "dir = !kaggle datasets download -d sootersaalu/amazon-top-50-bestselling-books-2009-2019"
   ]
  },
  {
   "cell_type": "code",
   "execution_count": 3,
   "id": "6eab9d77",
   "metadata": {},
   "outputs": [],
   "source": [
    "# using the code below to unzip a file in case if you need to do so.\n",
    "#import zipfile\n",
    "#with zipfile.ZipFile(\"file.zip\",\"r\") as zip_ref:\n",
    "#   zip_ref.extractall(\"targetdir\")"
   ]
  },
  {
   "cell_type": "code",
   "execution_count": 4,
   "id": "a20bde3d",
   "metadata": {},
   "outputs": [],
   "source": [
    "df =pd.read_csv('dir/bestsellers with categories.csv')"
   ]
  },
  {
   "cell_type": "code",
   "execution_count": 5,
   "id": "30e77306",
   "metadata": {},
   "outputs": [
    {
     "data": {
      "text/html": [
       "<div>\n",
       "<style scoped>\n",
       "    .dataframe tbody tr th:only-of-type {\n",
       "        vertical-align: middle;\n",
       "    }\n",
       "\n",
       "    .dataframe tbody tr th {\n",
       "        vertical-align: top;\n",
       "    }\n",
       "\n",
       "    .dataframe thead th {\n",
       "        text-align: right;\n",
       "    }\n",
       "</style>\n",
       "<table border=\"1\" class=\"dataframe\">\n",
       "  <thead>\n",
       "    <tr style=\"text-align: right;\">\n",
       "      <th></th>\n",
       "      <th>Name</th>\n",
       "      <th>Author</th>\n",
       "      <th>User Rating</th>\n",
       "      <th>Reviews</th>\n",
       "      <th>Price</th>\n",
       "      <th>Year</th>\n",
       "      <th>Genre</th>\n",
       "    </tr>\n",
       "  </thead>\n",
       "  <tbody>\n",
       "    <tr>\n",
       "      <th>0</th>\n",
       "      <td>10-Day Green Smoothie Cleanse</td>\n",
       "      <td>JJ Smith</td>\n",
       "      <td>4.7</td>\n",
       "      <td>17350</td>\n",
       "      <td>8</td>\n",
       "      <td>2016</td>\n",
       "      <td>Non Fiction</td>\n",
       "    </tr>\n",
       "    <tr>\n",
       "      <th>1</th>\n",
       "      <td>11/22/63: A Novel</td>\n",
       "      <td>Stephen King</td>\n",
       "      <td>4.6</td>\n",
       "      <td>2052</td>\n",
       "      <td>22</td>\n",
       "      <td>2011</td>\n",
       "      <td>Fiction</td>\n",
       "    </tr>\n",
       "    <tr>\n",
       "      <th>2</th>\n",
       "      <td>12 Rules for Life: An Antidote to Chaos</td>\n",
       "      <td>Jordan B. Peterson</td>\n",
       "      <td>4.7</td>\n",
       "      <td>18979</td>\n",
       "      <td>15</td>\n",
       "      <td>2018</td>\n",
       "      <td>Non Fiction</td>\n",
       "    </tr>\n",
       "    <tr>\n",
       "      <th>3</th>\n",
       "      <td>1984 (Signet Classics)</td>\n",
       "      <td>George Orwell</td>\n",
       "      <td>4.7</td>\n",
       "      <td>21424</td>\n",
       "      <td>6</td>\n",
       "      <td>2017</td>\n",
       "      <td>Fiction</td>\n",
       "    </tr>\n",
       "    <tr>\n",
       "      <th>4</th>\n",
       "      <td>5,000 Awesome Facts (About Everything!) (Natio...</td>\n",
       "      <td>National Geographic Kids</td>\n",
       "      <td>4.8</td>\n",
       "      <td>7665</td>\n",
       "      <td>12</td>\n",
       "      <td>2019</td>\n",
       "      <td>Non Fiction</td>\n",
       "    </tr>\n",
       "    <tr>\n",
       "      <th>5</th>\n",
       "      <td>A Dance with Dragons (A Song of Ice and Fire)</td>\n",
       "      <td>George R. R. Martin</td>\n",
       "      <td>4.4</td>\n",
       "      <td>12643</td>\n",
       "      <td>11</td>\n",
       "      <td>2011</td>\n",
       "      <td>Fiction</td>\n",
       "    </tr>\n",
       "    <tr>\n",
       "      <th>6</th>\n",
       "      <td>A Game of Thrones / A Clash of Kings / A Storm...</td>\n",
       "      <td>George R. R. Martin</td>\n",
       "      <td>4.7</td>\n",
       "      <td>19735</td>\n",
       "      <td>30</td>\n",
       "      <td>2014</td>\n",
       "      <td>Fiction</td>\n",
       "    </tr>\n",
       "    <tr>\n",
       "      <th>7</th>\n",
       "      <td>A Gentleman in Moscow: A Novel</td>\n",
       "      <td>Amor Towles</td>\n",
       "      <td>4.7</td>\n",
       "      <td>19699</td>\n",
       "      <td>15</td>\n",
       "      <td>2017</td>\n",
       "      <td>Fiction</td>\n",
       "    </tr>\n",
       "    <tr>\n",
       "      <th>8</th>\n",
       "      <td>A Higher Loyalty: Truth, Lies, and Leadership</td>\n",
       "      <td>James Comey</td>\n",
       "      <td>4.7</td>\n",
       "      <td>5983</td>\n",
       "      <td>3</td>\n",
       "      <td>2018</td>\n",
       "      <td>Non Fiction</td>\n",
       "    </tr>\n",
       "    <tr>\n",
       "      <th>9</th>\n",
       "      <td>A Man Called Ove: A Novel</td>\n",
       "      <td>Fredrik Backman</td>\n",
       "      <td>4.6</td>\n",
       "      <td>23848</td>\n",
       "      <td>8</td>\n",
       "      <td>2016</td>\n",
       "      <td>Fiction</td>\n",
       "    </tr>\n",
       "  </tbody>\n",
       "</table>\n",
       "</div>"
      ],
      "text/plain": [
       "                                                Name  \\\n",
       "0                      10-Day Green Smoothie Cleanse   \n",
       "1                                  11/22/63: A Novel   \n",
       "2            12 Rules for Life: An Antidote to Chaos   \n",
       "3                             1984 (Signet Classics)   \n",
       "4  5,000 Awesome Facts (About Everything!) (Natio...   \n",
       "5      A Dance with Dragons (A Song of Ice and Fire)   \n",
       "6  A Game of Thrones / A Clash of Kings / A Storm...   \n",
       "7                     A Gentleman in Moscow: A Novel   \n",
       "8      A Higher Loyalty: Truth, Lies, and Leadership   \n",
       "9                          A Man Called Ove: A Novel   \n",
       "\n",
       "                     Author  User Rating  Reviews  Price  Year        Genre  \n",
       "0                  JJ Smith          4.7    17350      8  2016  Non Fiction  \n",
       "1              Stephen King          4.6     2052     22  2011      Fiction  \n",
       "2        Jordan B. Peterson          4.7    18979     15  2018  Non Fiction  \n",
       "3             George Orwell          4.7    21424      6  2017      Fiction  \n",
       "4  National Geographic Kids          4.8     7665     12  2019  Non Fiction  \n",
       "5       George R. R. Martin          4.4    12643     11  2011      Fiction  \n",
       "6       George R. R. Martin          4.7    19735     30  2014      Fiction  \n",
       "7               Amor Towles          4.7    19699     15  2017      Fiction  \n",
       "8               James Comey          4.7     5983      3  2018  Non Fiction  \n",
       "9           Fredrik Backman          4.6    23848      8  2016      Fiction  "
      ]
     },
     "execution_count": 5,
     "metadata": {},
     "output_type": "execute_result"
    }
   ],
   "source": [
    "df.head(10)"
   ]
  },
  {
   "cell_type": "code",
   "execution_count": 6,
   "id": "4614dbc8",
   "metadata": {},
   "outputs": [
    {
     "name": "stdout",
     "output_type": "stream",
     "text": [
      "<class 'pandas.core.frame.DataFrame'>\n",
      "RangeIndex: 550 entries, 0 to 549\n",
      "Data columns (total 7 columns):\n",
      " #   Column       Non-Null Count  Dtype  \n",
      "---  ------       --------------  -----  \n",
      " 0   Name         550 non-null    object \n",
      " 1   Author       550 non-null    object \n",
      " 2   User Rating  550 non-null    float64\n",
      " 3   Reviews      550 non-null    int64  \n",
      " 4   Price        550 non-null    int64  \n",
      " 5   Year         550 non-null    int64  \n",
      " 6   Genre        550 non-null    object \n",
      "dtypes: float64(1), int64(3), object(3)\n",
      "memory usage: 30.2+ KB\n"
     ]
    }
   ],
   "source": [
    "df.info()"
   ]
  },
  {
   "cell_type": "code",
   "execution_count": 7,
   "id": "f420a9c1",
   "metadata": {},
   "outputs": [
    {
     "data": {
      "text/plain": [
       "array(['Non Fiction', 'Fiction'], dtype=object)"
      ]
     },
     "execution_count": 7,
     "metadata": {},
     "output_type": "execute_result"
    }
   ],
   "source": [
    "df['Genre'].unique()"
   ]
  },
  {
   "cell_type": "code",
   "execution_count": 8,
   "id": "97dea798",
   "metadata": {},
   "outputs": [
    {
     "data": {
      "text/plain": [
       "0                    JJ Smith\n",
       "1                Stephen King\n",
       "2          Jordan B. Peterson\n",
       "3               George Orwell\n",
       "4    National Geographic Kids\n",
       "Name: Author, dtype: object"
      ]
     },
     "execution_count": 8,
     "metadata": {},
     "output_type": "execute_result"
    }
   ],
   "source": [
    "# There are 248 authors\n",
    "authors = df['Author']\n",
    "authors.head()"
   ]
  },
  {
   "cell_type": "code",
   "execution_count": 43,
   "id": "4023dea6",
   "metadata": {},
   "outputs": [
    {
     "data": {
      "text/plain": [
       "Jeff Kinney                           12\n",
       "Rick Riordan                          11\n",
       "Gary Chapman                          11\n",
       "Suzanne Collins                       11\n",
       "American Psychological Association    10\n",
       "                                      ..\n",
       "Amy Ramos                              2\n",
       "Tara Westover                          2\n",
       "Joel Fuhrman MD                        2\n",
       "Dr. Steven R Gundry MD                 2\n",
       "Michelle Obama                         2\n",
       "Name: Author, Length: 70, dtype: int64"
      ]
     },
     "execution_count": 43,
     "metadata": {},
     "output_type": "execute_result"
    }
   ],
   "source": [
    "# top 50 authors with the most books\n",
    "top_50 = df['Author'].value_counts().head(70)\n",
    "top_50"
   ]
  },
  {
   "cell_type": "code",
   "execution_count": 30,
   "id": "0b53466c",
   "metadata": {},
   "outputs": [
    {
     "data": {
      "text/plain": [
       "['Jeff Kinney',\n",
       " 'Rick Riordan',\n",
       " 'Gary Chapman',\n",
       " 'Suzanne Collins',\n",
       " 'American Psychological Association',\n",
       " 'Gallup',\n",
       " 'Dr. Seuss',\n",
       " 'Rob Elliott',\n",
       " 'Eric Carle',\n",
       " 'Stephen R. Covey',\n",
       " \"Bill O'Reilly\",\n",
       " 'Stephenie Meyer',\n",
       " 'Dav Pilkey',\n",
       " 'Don Miguel Ruiz',\n",
       " 'The College Board',\n",
       " 'E L James',\n",
       " 'Sarah Young',\n",
       " 'J.K. Rowling',\n",
       " 'Stieg Larsson',\n",
       " 'Harper Lee',\n",
       " 'Dale Carnegie',\n",
       " 'Roger Priddy',\n",
       " 'John Green',\n",
       " 'Laura Hillenbrand',\n",
       " 'R. J. Palacio',\n",
       " 'Patrick Lencioni',\n",
       " 'Giles Andreae',\n",
       " 'John Grisham']"
      ]
     },
     "execution_count": 30,
     "metadata": {},
     "output_type": "execute_result"
    }
   ],
   "source": [
    "# Selecting authors with at least 5 written books\n",
    "five_books_plus = top_50[top_50 > 4]\n",
    "name_with_most_books = list(five_books_plus.index)\n",
    "name_with_most_books"
   ]
  },
  {
   "cell_type": "code",
   "execution_count": 64,
   "id": "21c4b422",
   "metadata": {},
   "outputs": [
    {
     "data": {
      "text/html": [
       "<div>\n",
       "<style scoped>\n",
       "    .dataframe tbody tr th:only-of-type {\n",
       "        vertical-align: middle;\n",
       "    }\n",
       "\n",
       "    .dataframe tbody tr th {\n",
       "        vertical-align: top;\n",
       "    }\n",
       "\n",
       "    .dataframe thead th {\n",
       "        text-align: right;\n",
       "    }\n",
       "</style>\n",
       "<table border=\"1\" class=\"dataframe\">\n",
       "  <thead>\n",
       "    <tr style=\"text-align: right;\">\n",
       "      <th></th>\n",
       "      <th>User Rating</th>\n",
       "      <th>Author</th>\n",
       "    </tr>\n",
       "  </thead>\n",
       "  <tbody>\n",
       "    <tr>\n",
       "      <th>0</th>\n",
       "      <td>4.7</td>\n",
       "      <td>JJ Smith</td>\n",
       "    </tr>\n",
       "    <tr>\n",
       "      <th>2</th>\n",
       "      <td>4.7</td>\n",
       "      <td>Jordan B. Peterson</td>\n",
       "    </tr>\n",
       "    <tr>\n",
       "      <th>3</th>\n",
       "      <td>4.7</td>\n",
       "      <td>George Orwell</td>\n",
       "    </tr>\n",
       "    <tr>\n",
       "      <th>4</th>\n",
       "      <td>4.8</td>\n",
       "      <td>National Geographic Kids</td>\n",
       "    </tr>\n",
       "    <tr>\n",
       "      <th>6</th>\n",
       "      <td>4.7</td>\n",
       "      <td>George R. R. Martin</td>\n",
       "    </tr>\n",
       "    <tr>\n",
       "      <th>...</th>\n",
       "      <td>...</td>\n",
       "      <td>...</td>\n",
       "    </tr>\n",
       "    <tr>\n",
       "      <th>544</th>\n",
       "      <td>4.8</td>\n",
       "      <td>R. J. Palacio</td>\n",
       "    </tr>\n",
       "    <tr>\n",
       "      <th>546</th>\n",
       "      <td>4.7</td>\n",
       "      <td>Jen Sincero</td>\n",
       "    </tr>\n",
       "    <tr>\n",
       "      <th>547</th>\n",
       "      <td>4.7</td>\n",
       "      <td>Jen Sincero</td>\n",
       "    </tr>\n",
       "    <tr>\n",
       "      <th>548</th>\n",
       "      <td>4.7</td>\n",
       "      <td>Jen Sincero</td>\n",
       "    </tr>\n",
       "    <tr>\n",
       "      <th>549</th>\n",
       "      <td>4.7</td>\n",
       "      <td>Jen Sincero</td>\n",
       "    </tr>\n",
       "  </tbody>\n",
       "</table>\n",
       "<p>257 rows × 2 columns</p>\n",
       "</div>"
      ],
      "text/plain": [
       "     User Rating                    Author\n",
       "0            4.7                  JJ Smith\n",
       "2            4.7        Jordan B. Peterson\n",
       "3            4.7             George Orwell\n",
       "4            4.8  National Geographic Kids\n",
       "6            4.7       George R. R. Martin\n",
       "..           ...                       ...\n",
       "544          4.8             R. J. Palacio\n",
       "546          4.7               Jen Sincero\n",
       "547          4.7               Jen Sincero\n",
       "548          4.7               Jen Sincero\n",
       "549          4.7               Jen Sincero\n",
       "\n",
       "[257 rows x 2 columns]"
      ]
     },
     "execution_count": 64,
     "metadata": {},
     "output_type": "execute_result"
    }
   ],
   "source": [
    "top_author = df[df['User Rating'] > 4.6 ][['Author', 'User Rating']]\n",
    "top_author.groupby('Author')[['User Rating', 'Author']].head()"
   ]
  },
  {
   "cell_type": "code",
   "execution_count": 32,
   "id": "8094c72d",
   "metadata": {},
   "outputs": [
    {
     "data": {
      "text/plain": [
       "4.7727272727272725"
      ]
     },
     "execution_count": 32,
     "metadata": {},
     "output_type": "execute_result"
    }
   ],
   "source": [
    "df[df['Author'] == 'Rick Riordan']['User Rating'].mean()"
   ]
  },
  {
   "cell_type": "code",
   "execution_count": 33,
   "id": "74acfedf",
   "metadata": {},
   "outputs": [],
   "source": [
    "def auther_mean_rating(name):\n",
    "    mean = df[df['Author'] == name]['User Rating'].mean()\n",
    "    return mean"
   ]
  },
  {
   "cell_type": "code",
   "execution_count": 41,
   "id": "68030e8f",
   "metadata": {},
   "outputs": [
    {
     "data": {
      "text/plain": [
       "4.8"
      ]
     },
     "execution_count": 41,
     "metadata": {},
     "output_type": "execute_result"
    }
   ],
   "source": [
    "auther_mean_rating('Jeff Kinney')"
   ]
  },
  {
   "cell_type": "code",
   "execution_count": 65,
   "id": "bf102ed5",
   "metadata": {},
   "outputs": [],
   "source": [
    "def all_author_mean_rating(author_name):\n",
    "    l = {}\n",
    "    for i in author_name:\n",
    "        avg = round(auther_mean_rating(i),2)\n",
    "        l[i] = avg\n",
    "    return l\n",
    "\n",
    "dict = all_author_mean_rating(top_author['Author'])\n",
    "        "
   ]
  },
  {
   "cell_type": "code",
   "execution_count": 71,
   "id": "386a57d6",
   "metadata": {},
   "outputs": [
    {
     "data": {
      "text/plain": [
       "{'Bill Martin Jr.': 4.9,\n",
       " 'Dav Pilkey': 4.9,\n",
       " 'Sherri Duskey Rinker': 4.9,\n",
       " 'Lin-Manuel Miranda': 4.9,\n",
       " 'Sarah Young': 4.9,\n",
       " 'Jill Twiss': 4.9,\n",
       " 'Alice Schertle': 4.9,\n",
       " 'Pete Souza': 4.9,\n",
       " 'Rush Limbaugh': 4.9,\n",
       " 'Nathan W. Pyle': 4.9,\n",
       " 'Patrick Thorpe': 4.9,\n",
       " 'Chip Gaines': 4.9,\n",
       " 'Eric Carle': 4.9,\n",
       " 'Emily Winfield Martin': 4.9,\n",
       " 'Dr. Seuss': 4.88,\n",
       " 'J. K. Rowling': 4.85,\n",
       " 'Mark R. Levin': 4.85,\n",
       " 'Brandon Stanton': 4.83,\n",
       " 'National Geographic Kids': 4.8,\n",
       " 'Ron Chernow': 4.8,\n",
       " 'Michelle Obama': 4.8,\n",
       " 'Atul Gawande': 4.8,\n",
       " 'Jeff Kinney': 4.8,\n",
       " 'David Goggins': 4.8,\n",
       " 'Marjorie Sarnat': 4.8,\n",
       " 'Brené Brown': 4.8,\n",
       " 'Rod Campbell': 4.8,\n",
       " 'Giles Andreae': 4.8,\n",
       " 'Adam Mansbach': 4.8,\n",
       " 'Margaret Wise Brown': 4.8,\n",
       " 'Raina Telgemeier': 4.8,\n",
       " 'Phil Robertson': 4.8,\n",
       " 'Mitch Albom': 4.8,\n",
       " 'Joanna Gaines': 4.8,\n",
       " 'Hopscotch Girls': 4.8,\n",
       " 'Ann Whitford Paul': 4.8,\n",
       " 'Anthony Bourdain': 4.8,\n",
       " 'Robert Munsch': 4.8,\n",
       " 'Julia Child': 4.8,\n",
       " 'Crispin Boyer': 4.8,\n",
       " 'Amy Shields': 4.8,\n",
       " 'Wizards RPG Team': 4.8,\n",
       " 'Golden Books': 4.8,\n",
       " 'Samin Nosrat': 4.8,\n",
       " 'School Zone': 4.8,\n",
       " 'Tucker Carlson': 4.8,\n",
       " 'W. Cleon Skousen': 4.8,\n",
       " 'Bessel van der Kolk M.D.': 4.8,\n",
       " 'B. J. Novak': 4.8,\n",
       " 'Daniel James Brown': 4.8,\n",
       " 'Delegates of the Constitutional\\x85': 4.8,\n",
       " 'Drew Daywalt': 4.8,\n",
       " 'Sandra Boynton': 4.8,\n",
       " 'Angie Thomas': 4.8,\n",
       " 'Kathryn Stockett': 4.8,\n",
       " 'Stephen Kendrick': 4.8,\n",
       " 'Kristin Hannah': 4.8,\n",
       " 'Ree Drummond': 4.8,\n",
       " 'Deborah Diesen': 4.8,\n",
       " 'Craig Smith': 4.8,\n",
       " 'Robert Jordan': 4.8,\n",
       " 'Laura Hillenbrand': 4.8,\n",
       " 'Silly Bear': 4.8,\n",
       " 'Alan Moore': 4.8,\n",
       " 'Adir Levy': 4.8,\n",
       " 'Paul Kalanithi': 4.8,\n",
       " 'Delia Owens': 4.8,\n",
       " 'Maurice Sendak': 4.8,\n",
       " 'R. J. Palacio': 4.8,\n",
       " 'Rick Riordan': 4.77,\n",
       " 'Lysa TerKeurst': 4.75,\n",
       " 'Gary Chapman': 4.74,\n",
       " 'JJ Smith': 4.7,\n",
       " 'Jordan B. Peterson': 4.7,\n",
       " 'George Orwell': 4.7,\n",
       " 'Amor Towles': 4.7,\n",
       " 'James Comey': 4.7,\n",
       " 'Neil deGrasse Tyson': 4.7,\n",
       " 'Ta-Nehisi Coates': 4.7,\n",
       " 'Bruce Springsteen': 4.7,\n",
       " 'Chrissy Teigen': 4.7,\n",
       " 'Francis Chan': 4.7,\n",
       " 'Tara Westover': 4.7,\n",
       " 'Johanna Basford': 4.7,\n",
       " 'Roger Priddy': 4.7,\n",
       " 'Scholastic': 4.7,\n",
       " 'Todd Burpo': 4.7,\n",
       " 'Dale Carnegie': 4.7,\n",
       " 'Allie Brosh': 4.7,\n",
       " 'Admiral William H. McRaven': 4.7,\n",
       " 'Rupi Kaur': 4.7,\n",
       " 'Elie Wiesel': 4.7,\n",
       " 'Naomi Kleinberg': 4.7,\n",
       " 'David Platt': 4.7,\n",
       " 'Justin Halpern': 4.7,\n",
       " 'Paulo Coelho': 4.7,\n",
       " 'Garth Stein': 4.7,\n",
       " 'Michael Lewis': 4.7,\n",
       " 'Bill Simmons': 4.7,\n",
       " 'Thomas Campbell': 4.7,\n",
       " 'Don Miguel Ruiz': 4.7,\n",
       " 'Mary Ann Shaffer': 4.7,\n",
       " 'Rebecca Skloot': 4.7,\n",
       " 'Randy Pausch': 4.7,\n",
       " 'Andy Weir': 4.7,\n",
       " 'Dave Ramsey': 4.7,\n",
       " 'Dinah Bucholz': 4.7,\n",
       " 'David McCullough': 4.7,\n",
       " 'Charles Krauthammer': 4.7,\n",
       " 'Randall Munroe': 4.7,\n",
       " 'Jen Sincero': 4.7,\n",
       " 'Ina Garten': 4.67,\n",
       " 'Suzanne Collins': 4.66,\n",
       " 'Stephenie Meyer': 4.66,\n",
       " 'John Green': 4.66,\n",
       " 'RH Disney': 4.65,\n",
       " \"Bill O'Reilly\": 4.64,\n",
       " 'Stephen R. Covey': 4.64,\n",
       " 'Stieg Larsson': 4.6,\n",
       " 'Harper Lee': 4.6,\n",
       " 'George R. R. Martin': 4.55,\n",
       " 'Stephen King': 4.53,\n",
       " 'J.K. Rowling': 4.45,\n",
       " 'Charlaine Harris': 4.45}"
      ]
     },
     "execution_count": 71,
     "metadata": {},
     "output_type": "execute_result"
    }
   ],
   "source": [
    "{k: v for k, v in sorted(dict.items(), key=lambda item: item[1], reverse = True)}"
   ]
  },
  {
   "cell_type": "code",
   "execution_count": null,
   "id": "cd98d2eb",
   "metadata": {},
   "outputs": [],
   "source": []
  },
  {
   "cell_type": "code",
   "execution_count": null,
   "id": "1d4cd9ae",
   "metadata": {},
   "outputs": [],
   "source": []
  }
 ],
 "metadata": {
  "kernelspec": {
   "display_name": "Python 3",
   "language": "python",
   "name": "python3"
  },
  "language_info": {
   "codemirror_mode": {
    "name": "ipython",
    "version": 3
   },
   "file_extension": ".py",
   "mimetype": "text/x-python",
   "name": "python",
   "nbconvert_exporter": "python",
   "pygments_lexer": "ipython3",
   "version": "3.8.8"
  }
 },
 "nbformat": 4,
 "nbformat_minor": 5
}
