{
 "cells": [
  {
   "cell_type": "code",
   "execution_count": 10,
   "id": "f18eb5ab",
   "metadata": {},
   "outputs": [],
   "source": [
    "import pandas as pd\n",
    "import numpy as np\n",
    "from surprise import Dataset"
   ]
  },
  {
   "cell_type": "code",
   "execution_count": 66,
   "id": "b753e4fb",
   "metadata": {},
   "outputs": [
    {
     "name": "stdout",
     "output_type": "stream",
     "text": [
      "<class 'pandas.core.frame.DataFrame'>\n",
      "RangeIndex: 1682 entries, 0 to 1681\n",
      "Data columns (total 2 columns):\n",
      " #   Column   Non-Null Count  Dtype \n",
      "---  ------   --------------  ----- \n",
      " 0   item_id  1682 non-null   int64 \n",
      " 1   title    1682 non-null   object\n",
      "dtypes: int64(1), object(1)\n",
      "memory usage: 26.4+ KB\n"
     ]
    }
   ],
   "source": [
    "df_title= pd.read_csv('Movie_Id_Titles')\n",
    "column_names = ['user_id', 'item_id', 'rating', 'timestamp']\n",
    "df_title.info()"
   ]
  },
  {
   "cell_type": "code",
   "execution_count": 67,
   "id": "4bc6edbc",
   "metadata": {},
   "outputs": [
    {
     "name": "stdout",
     "output_type": "stream",
     "text": [
      "<class 'pandas.core.frame.DataFrame'>\n",
      "RangeIndex: 100000 entries, 0 to 99999\n",
      "Data columns (total 4 columns):\n",
      " #   Column      Non-Null Count   Dtype  \n",
      "---  ------      --------------   -----  \n",
      " 0   user_id     100000 non-null  object \n",
      " 1   item_id     100000 non-null  object \n",
      " 2   rating      100000 non-null  float64\n",
      " 3   timestamps  100000 non-null  object \n",
      "dtypes: float64(1), object(3)\n",
      "memory usage: 3.1+ MB\n"
     ]
    }
   ],
   "source": [
    "movielens = Dataset.load_builtin('ml-100k')\n",
    "movielens = pd.DataFrame(movielens.raw_ratings, columns = ['user_id', 'item_id', 'rating', 'timestamps'])\n",
    "movielens.info()"
   ]
  },
  {
   "cell_type": "code",
   "execution_count": 68,
   "id": "5656c271",
   "metadata": {},
   "outputs": [
    {
     "name": "stdout",
     "output_type": "stream",
     "text": [
      "<class 'pandas.core.frame.DataFrame'>\n",
      "RangeIndex: 100000 entries, 0 to 99999\n",
      "Data columns (total 4 columns):\n",
      " #   Column      Non-Null Count   Dtype \n",
      "---  ------      --------------   ----- \n",
      " 0   user_id     100000 non-null  int64 \n",
      " 1   item_id     100000 non-null  int64 \n",
      " 2   rating      100000 non-null  int64 \n",
      " 3   timestamps  100000 non-null  object\n",
      "dtypes: int64(3), object(1)\n",
      "memory usage: 3.1+ MB\n"
     ]
    }
   ],
   "source": [
    "movielens[['user_id', 'item_id', 'rating']] = movielens[['user_id', 'item_id', 'rating']].astype('int64')\n",
    "movielens.info()"
   ]
  },
  {
   "cell_type": "code",
   "execution_count": 69,
   "id": "e92c9b78",
   "metadata": {},
   "outputs": [],
   "source": [
    "movielens = pd.merge(movielens, df_title, on = 'item_id')"
   ]
  },
  {
   "cell_type": "code",
   "execution_count": 70,
   "id": "b83f407c",
   "metadata": {},
   "outputs": [
    {
     "data": {
      "text/html": [
       "<div>\n",
       "<style scoped>\n",
       "    .dataframe tbody tr th:only-of-type {\n",
       "        vertical-align: middle;\n",
       "    }\n",
       "\n",
       "    .dataframe tbody tr th {\n",
       "        vertical-align: top;\n",
       "    }\n",
       "\n",
       "    .dataframe thead th {\n",
       "        text-align: right;\n",
       "    }\n",
       "</style>\n",
       "<table border=\"1\" class=\"dataframe\">\n",
       "  <thead>\n",
       "    <tr style=\"text-align: right;\">\n",
       "      <th></th>\n",
       "      <th>user_id</th>\n",
       "      <th>item_id</th>\n",
       "      <th>rating</th>\n",
       "      <th>timestamps</th>\n",
       "      <th>title</th>\n",
       "    </tr>\n",
       "  </thead>\n",
       "  <tbody>\n",
       "    <tr>\n",
       "      <th>0</th>\n",
       "      <td>196</td>\n",
       "      <td>242</td>\n",
       "      <td>3</td>\n",
       "      <td>881250949</td>\n",
       "      <td>Kolya (1996)</td>\n",
       "    </tr>\n",
       "    <tr>\n",
       "      <th>1</th>\n",
       "      <td>63</td>\n",
       "      <td>242</td>\n",
       "      <td>3</td>\n",
       "      <td>875747190</td>\n",
       "      <td>Kolya (1996)</td>\n",
       "    </tr>\n",
       "    <tr>\n",
       "      <th>2</th>\n",
       "      <td>226</td>\n",
       "      <td>242</td>\n",
       "      <td>5</td>\n",
       "      <td>883888671</td>\n",
       "      <td>Kolya (1996)</td>\n",
       "    </tr>\n",
       "    <tr>\n",
       "      <th>3</th>\n",
       "      <td>154</td>\n",
       "      <td>242</td>\n",
       "      <td>3</td>\n",
       "      <td>879138235</td>\n",
       "      <td>Kolya (1996)</td>\n",
       "    </tr>\n",
       "    <tr>\n",
       "      <th>4</th>\n",
       "      <td>306</td>\n",
       "      <td>242</td>\n",
       "      <td>5</td>\n",
       "      <td>876503793</td>\n",
       "      <td>Kolya (1996)</td>\n",
       "    </tr>\n",
       "  </tbody>\n",
       "</table>\n",
       "</div>"
      ],
      "text/plain": [
       "   user_id  item_id  rating timestamps         title\n",
       "0      196      242       3  881250949  Kolya (1996)\n",
       "1       63      242       3  875747190  Kolya (1996)\n",
       "2      226      242       5  883888671  Kolya (1996)\n",
       "3      154      242       3  879138235  Kolya (1996)\n",
       "4      306      242       5  876503793  Kolya (1996)"
      ]
     },
     "execution_count": 70,
     "metadata": {},
     "output_type": "execute_result"
    }
   ],
   "source": [
    "movielens.head()"
   ]
  },
  {
   "cell_type": "code",
   "execution_count": 99,
   "id": "254a934c",
   "metadata": {},
   "outputs": [
    {
     "name": "stdout",
     "output_type": "stream",
     "text": [
      "<class 'pandas.core.frame.DataFrame'>\n",
      "Int64Index: 100000 entries, 0 to 99999\n",
      "Data columns (total 5 columns):\n",
      " #   Column      Non-Null Count   Dtype \n",
      "---  ------      --------------   ----- \n",
      " 0   user_id     100000 non-null  int64 \n",
      " 1   item_id     100000 non-null  int64 \n",
      " 2   rating      100000 non-null  int64 \n",
      " 3   timestamps  100000 non-null  object\n",
      " 4   title       100000 non-null  object\n",
      "dtypes: int64(3), object(2)\n",
      "memory usage: 4.6+ MB\n"
     ]
    }
   ],
   "source": [
    "movielens.info()"
   ]
  },
  {
   "cell_type": "code",
   "execution_count": 101,
   "id": "915603a7",
   "metadata": {},
   "outputs": [
    {
     "data": {
      "text/html": [
       "<div>\n",
       "<style scoped>\n",
       "    .dataframe tbody tr th:only-of-type {\n",
       "        vertical-align: middle;\n",
       "    }\n",
       "\n",
       "    .dataframe tbody tr th {\n",
       "        vertical-align: top;\n",
       "    }\n",
       "\n",
       "    .dataframe thead th {\n",
       "        text-align: right;\n",
       "    }\n",
       "</style>\n",
       "<table border=\"1\" class=\"dataframe\">\n",
       "  <thead>\n",
       "    <tr style=\"text-align: right;\">\n",
       "      <th></th>\n",
       "      <th>user_id</th>\n",
       "      <th>item_id</th>\n",
       "      <th>rating</th>\n",
       "      <th>timestamps</th>\n",
       "      <th>title</th>\n",
       "    </tr>\n",
       "  </thead>\n",
       "  <tbody>\n",
       "    <tr>\n",
       "      <th>50711</th>\n",
       "      <td>290</td>\n",
       "      <td>50</td>\n",
       "      <td>5</td>\n",
       "      <td>880473582</td>\n",
       "      <td>Star Wars (1977)</td>\n",
       "    </tr>\n",
       "    <tr>\n",
       "      <th>50712</th>\n",
       "      <td>79</td>\n",
       "      <td>50</td>\n",
       "      <td>4</td>\n",
       "      <td>891271545</td>\n",
       "      <td>Star Wars (1977)</td>\n",
       "    </tr>\n",
       "    <tr>\n",
       "      <th>50713</th>\n",
       "      <td>2</td>\n",
       "      <td>50</td>\n",
       "      <td>5</td>\n",
       "      <td>888552084</td>\n",
       "      <td>Star Wars (1977)</td>\n",
       "    </tr>\n",
       "    <tr>\n",
       "      <th>50714</th>\n",
       "      <td>8</td>\n",
       "      <td>50</td>\n",
       "      <td>5</td>\n",
       "      <td>879362124</td>\n",
       "      <td>Star Wars (1977)</td>\n",
       "    </tr>\n",
       "    <tr>\n",
       "      <th>50715</th>\n",
       "      <td>274</td>\n",
       "      <td>50</td>\n",
       "      <td>5</td>\n",
       "      <td>878944679</td>\n",
       "      <td>Star Wars (1977)</td>\n",
       "    </tr>\n",
       "    <tr>\n",
       "      <th>...</th>\n",
       "      <td>...</td>\n",
       "      <td>...</td>\n",
       "      <td>...</td>\n",
       "      <td>...</td>\n",
       "      <td>...</td>\n",
       "    </tr>\n",
       "    <tr>\n",
       "      <th>51289</th>\n",
       "      <td>749</td>\n",
       "      <td>50</td>\n",
       "      <td>5</td>\n",
       "      <td>878846978</td>\n",
       "      <td>Star Wars (1977)</td>\n",
       "    </tr>\n",
       "    <tr>\n",
       "      <th>51290</th>\n",
       "      <td>886</td>\n",
       "      <td>50</td>\n",
       "      <td>5</td>\n",
       "      <td>876031501</td>\n",
       "      <td>Star Wars (1977)</td>\n",
       "    </tr>\n",
       "    <tr>\n",
       "      <th>51291</th>\n",
       "      <td>739</td>\n",
       "      <td>50</td>\n",
       "      <td>4</td>\n",
       "      <td>886958895</td>\n",
       "      <td>Star Wars (1977)</td>\n",
       "    </tr>\n",
       "    <tr>\n",
       "      <th>51292</th>\n",
       "      <td>903</td>\n",
       "      <td>50</td>\n",
       "      <td>5</td>\n",
       "      <td>891031329</td>\n",
       "      <td>Star Wars (1977)</td>\n",
       "    </tr>\n",
       "    <tr>\n",
       "      <th>51293</th>\n",
       "      <td>780</td>\n",
       "      <td>50</td>\n",
       "      <td>5</td>\n",
       "      <td>891363685</td>\n",
       "      <td>Star Wars (1977)</td>\n",
       "    </tr>\n",
       "  </tbody>\n",
       "</table>\n",
       "<p>583 rows × 5 columns</p>\n",
       "</div>"
      ],
      "text/plain": [
       "       user_id  item_id  rating timestamps             title\n",
       "50711      290       50       5  880473582  Star Wars (1977)\n",
       "50712       79       50       4  891271545  Star Wars (1977)\n",
       "50713        2       50       5  888552084  Star Wars (1977)\n",
       "50714        8       50       5  879362124  Star Wars (1977)\n",
       "50715      274       50       5  878944679  Star Wars (1977)\n",
       "...        ...      ...     ...        ...               ...\n",
       "51289      749       50       5  878846978  Star Wars (1977)\n",
       "51290      886       50       5  876031501  Star Wars (1977)\n",
       "51291      739       50       4  886958895  Star Wars (1977)\n",
       "51292      903       50       5  891031329  Star Wars (1977)\n",
       "51293      780       50       5  891363685  Star Wars (1977)\n",
       "\n",
       "[583 rows x 5 columns]"
      ]
     },
     "execution_count": 101,
     "metadata": {},
     "output_type": "execute_result"
    }
   ],
   "source": [
    "movielens[movielens['item_id'] == 50]"
   ]
  },
  {
   "cell_type": "code",
   "execution_count": 93,
   "id": "031edcf1",
   "metadata": {},
   "outputs": [],
   "source": [
    "moviematrix = movielens.pivot_table(index = 'title', columns = 'user_id', values = 'rating')"
   ]
  },
  {
   "cell_type": "code",
   "execution_count": 102,
   "id": "ac731d9b",
   "metadata": {},
   "outputs": [],
   "source": [
    "cor = moviematrix.corr(method = 'pearson')"
   ]
  },
  {
   "cell_type": "code",
   "execution_count": 107,
   "id": "abb59142",
   "metadata": {},
   "outputs": [
    {
     "data": {
      "text/plain": [
       "user_id\n",
       "451    1.000000\n",
       "651    1.000000\n",
       "131    1.000000\n",
       "863    1.000000\n",
       "252    1.000000\n",
       "520    1.000000\n",
       "290    1.000000\n",
       "578    1.000000\n",
       "362    1.000000\n",
       "724    1.000000\n",
       "750    0.944911\n",
       "209    0.942809\n",
       "489    0.927173\n",
       "797    0.912871\n",
       "462    0.912871\n",
       "799    0.904534\n",
       "814    0.870388\n",
       "134    0.866025\n",
       "444    0.866025\n",
       "482    0.866025\n",
       "423    0.852803\n",
       "742    0.840152\n",
       "3      0.818182\n",
       "310    0.788342\n",
       "441    0.787296\n",
       "590    0.759257\n",
       "598    0.755929\n",
       "212    0.752549\n",
       "367    0.750000\n",
       "104    0.748798\n",
       "359    0.745957\n",
       "614    0.745356\n",
       "333    0.744700\n",
       "433    0.734489\n",
       "583    0.730297\n",
       "789    0.720577\n",
       "526    0.711512\n",
       "2      0.707107\n",
       "564    0.699854\n",
       "93     0.692935\n",
       "369    0.683130\n",
       "185    0.671105\n",
       "257    0.659380\n",
       "584    0.659047\n",
       "113    0.657794\n",
       "822    0.645497\n",
       "735    0.645497\n",
       "304    0.645497\n",
       "375    0.642857\n",
       "227    0.640257\n",
       "Name: 290, dtype: float64"
      ]
     },
     "execution_count": 107,
     "metadata": {},
     "output_type": "execute_result"
    }
   ],
   "source": [
    "cor[290].sort_values(ascending = False).head(50)"
   ]
  },
  {
   "cell_type": "code",
   "execution_count": null,
   "id": "0da0d798",
   "metadata": {},
   "outputs": [],
   "source": []
  }
 ],
 "metadata": {
  "kernelspec": {
   "display_name": "Python 3",
   "language": "python",
   "name": "python3"
  },
  "language_info": {
   "codemirror_mode": {
    "name": "ipython",
    "version": 3
   },
   "file_extension": ".py",
   "mimetype": "text/x-python",
   "name": "python",
   "nbconvert_exporter": "python",
   "pygments_lexer": "ipython3",
   "version": "3.8.8"
  }
 },
 "nbformat": 4,
 "nbformat_minor": 5
}
