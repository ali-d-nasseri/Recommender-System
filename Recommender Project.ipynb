{
 "cells": [
  {
   "cell_type": "code",
   "execution_count": 1,
   "id": "f18eb5ab",
   "metadata": {},
   "outputs": [],
   "source": [
    "import pandas as pd\n",
    "import numpy as np\n",
    "from surprise import Dataset"
   ]
  },
  {
   "cell_type": "code",
   "execution_count": 2,
   "id": "b753e4fb",
   "metadata": {},
   "outputs": [
    {
     "name": "stdout",
     "output_type": "stream",
     "text": [
      "<class 'pandas.core.frame.DataFrame'>\n",
      "RangeIndex: 1682 entries, 0 to 1681\n",
      "Data columns (total 2 columns):\n",
      " #   Column   Non-Null Count  Dtype \n",
      "---  ------   --------------  ----- \n",
      " 0   item_id  1682 non-null   int64 \n",
      " 1   title    1682 non-null   object\n",
      "dtypes: int64(1), object(1)\n",
      "memory usage: 26.4+ KB\n"
     ]
    }
   ],
   "source": [
    "df_title= pd.read_csv('Movie_Id_Titles')\n",
    "column_names = ['user_id', 'item_id', 'rating', 'timestamp']\n",
    "df_title.info()"
   ]
  },
  {
   "cell_type": "code",
   "execution_count": 3,
   "id": "4bc6edbc",
   "metadata": {},
   "outputs": [
    {
     "name": "stdout",
     "output_type": "stream",
     "text": [
      "<class 'pandas.core.frame.DataFrame'>\n",
      "RangeIndex: 100000 entries, 0 to 99999\n",
      "Data columns (total 4 columns):\n",
      " #   Column      Non-Null Count   Dtype  \n",
      "---  ------      --------------   -----  \n",
      " 0   user_id     100000 non-null  object \n",
      " 1   item_id     100000 non-null  object \n",
      " 2   rating      100000 non-null  float64\n",
      " 3   timestamps  100000 non-null  object \n",
      "dtypes: float64(1), object(3)\n",
      "memory usage: 3.1+ MB\n"
     ]
    }
   ],
   "source": [
    "movielens = Dataset.load_builtin('ml-100k')\n",
    "movielens = pd.DataFrame(movielens.raw_ratings, columns = ['user_id', 'item_id', 'rating', 'timestamps'])\n",
    "movielens.info()"
   ]
  },
  {
   "cell_type": "code",
   "execution_count": 4,
   "id": "5656c271",
   "metadata": {},
   "outputs": [
    {
     "name": "stdout",
     "output_type": "stream",
     "text": [
      "<class 'pandas.core.frame.DataFrame'>\n",
      "RangeIndex: 100000 entries, 0 to 99999\n",
      "Data columns (total 4 columns):\n",
      " #   Column      Non-Null Count   Dtype \n",
      "---  ------      --------------   ----- \n",
      " 0   user_id     100000 non-null  int64 \n",
      " 1   item_id     100000 non-null  int64 \n",
      " 2   rating      100000 non-null  int64 \n",
      " 3   timestamps  100000 non-null  object\n",
      "dtypes: int64(3), object(1)\n",
      "memory usage: 3.1+ MB\n"
     ]
    }
   ],
   "source": [
    "movielens[['user_id', 'item_id', 'rating']] = movielens[['user_id', 'item_id', 'rating']].astype('int64')\n",
    "movielens.info()"
   ]
  },
  {
   "cell_type": "code",
   "execution_count": 5,
   "id": "e92c9b78",
   "metadata": {},
   "outputs": [],
   "source": [
    "movielens = pd.merge(movielens, df_title, on = 'item_id')"
   ]
  },
  {
   "cell_type": "code",
   "execution_count": 6,
   "id": "b83f407c",
   "metadata": {},
   "outputs": [
    {
     "data": {
      "text/html": [
       "<div>\n",
       "<style scoped>\n",
       "    .dataframe tbody tr th:only-of-type {\n",
       "        vertical-align: middle;\n",
       "    }\n",
       "\n",
       "    .dataframe tbody tr th {\n",
       "        vertical-align: top;\n",
       "    }\n",
       "\n",
       "    .dataframe thead th {\n",
       "        text-align: right;\n",
       "    }\n",
       "</style>\n",
       "<table border=\"1\" class=\"dataframe\">\n",
       "  <thead>\n",
       "    <tr style=\"text-align: right;\">\n",
       "      <th></th>\n",
       "      <th>user_id</th>\n",
       "      <th>item_id</th>\n",
       "      <th>rating</th>\n",
       "      <th>timestamps</th>\n",
       "      <th>title</th>\n",
       "    </tr>\n",
       "  </thead>\n",
       "  <tbody>\n",
       "    <tr>\n",
       "      <th>3732</th>\n",
       "      <td>805</td>\n",
       "      <td>1</td>\n",
       "      <td>4</td>\n",
       "      <td>881695527</td>\n",
       "      <td>Toy Story (1995)</td>\n",
       "    </tr>\n",
       "    <tr>\n",
       "      <th>3759</th>\n",
       "      <td>124</td>\n",
       "      <td>1</td>\n",
       "      <td>3</td>\n",
       "      <td>890287733</td>\n",
       "      <td>Toy Story (1995)</td>\n",
       "    </tr>\n",
       "    <tr>\n",
       "      <th>3760</th>\n",
       "      <td>882</td>\n",
       "      <td>1</td>\n",
       "      <td>5</td>\n",
       "      <td>879864558</td>\n",
       "      <td>Toy Story (1995)</td>\n",
       "    </tr>\n",
       "    <tr>\n",
       "      <th>3761</th>\n",
       "      <td>779</td>\n",
       "      <td>1</td>\n",
       "      <td>4</td>\n",
       "      <td>875501555</td>\n",
       "      <td>Toy Story (1995)</td>\n",
       "    </tr>\n",
       "    <tr>\n",
       "      <th>3762</th>\n",
       "      <td>542</td>\n",
       "      <td>1</td>\n",
       "      <td>4</td>\n",
       "      <td>886532534</td>\n",
       "      <td>Toy Story (1995)</td>\n",
       "    </tr>\n",
       "    <tr>\n",
       "      <th>...</th>\n",
       "      <td>...</td>\n",
       "      <td>...</td>\n",
       "      <td>...</td>\n",
       "      <td>...</td>\n",
       "      <td>...</td>\n",
       "    </tr>\n",
       "    <tr>\n",
       "      <th>99958</th>\n",
       "      <td>863</td>\n",
       "      <td>1678</td>\n",
       "      <td>1</td>\n",
       "      <td>889289570</td>\n",
       "      <td>Mat' i syn (1997)</td>\n",
       "    </tr>\n",
       "    <tr>\n",
       "      <th>99938</th>\n",
       "      <td>863</td>\n",
       "      <td>1679</td>\n",
       "      <td>3</td>\n",
       "      <td>889289491</td>\n",
       "      <td>B. Monkey (1998)</td>\n",
       "    </tr>\n",
       "    <tr>\n",
       "      <th>99965</th>\n",
       "      <td>863</td>\n",
       "      <td>1680</td>\n",
       "      <td>2</td>\n",
       "      <td>889289570</td>\n",
       "      <td>Sliding Doors (1998)</td>\n",
       "    </tr>\n",
       "    <tr>\n",
       "      <th>99984</th>\n",
       "      <td>896</td>\n",
       "      <td>1681</td>\n",
       "      <td>3</td>\n",
       "      <td>887160722</td>\n",
       "      <td>You So Crazy (1994)</td>\n",
       "    </tr>\n",
       "    <tr>\n",
       "      <th>99994</th>\n",
       "      <td>916</td>\n",
       "      <td>1682</td>\n",
       "      <td>3</td>\n",
       "      <td>880845755</td>\n",
       "      <td>Scream of Stone (Schrei aus Stein) (1991)</td>\n",
       "    </tr>\n",
       "  </tbody>\n",
       "</table>\n",
       "<p>100000 rows × 5 columns</p>\n",
       "</div>"
      ],
      "text/plain": [
       "       user_id  item_id  rating timestamps  \\\n",
       "3732       805        1       4  881695527   \n",
       "3759       124        1       3  890287733   \n",
       "3760       882        1       5  879864558   \n",
       "3761       779        1       4  875501555   \n",
       "3762       542        1       4  886532534   \n",
       "...        ...      ...     ...        ...   \n",
       "99958      863     1678       1  889289570   \n",
       "99938      863     1679       3  889289491   \n",
       "99965      863     1680       2  889289570   \n",
       "99984      896     1681       3  887160722   \n",
       "99994      916     1682       3  880845755   \n",
       "\n",
       "                                           title  \n",
       "3732                            Toy Story (1995)  \n",
       "3759                            Toy Story (1995)  \n",
       "3760                            Toy Story (1995)  \n",
       "3761                            Toy Story (1995)  \n",
       "3762                            Toy Story (1995)  \n",
       "...                                          ...  \n",
       "99958                          Mat' i syn (1997)  \n",
       "99938                           B. Monkey (1998)  \n",
       "99965                       Sliding Doors (1998)  \n",
       "99984                        You So Crazy (1994)  \n",
       "99994  Scream of Stone (Schrei aus Stein) (1991)  \n",
       "\n",
       "[100000 rows x 5 columns]"
      ]
     },
     "execution_count": 6,
     "metadata": {},
     "output_type": "execute_result"
    }
   ],
   "source": [
    "movielens.sort_values(by= 'item_id')"
   ]
  },
  {
   "cell_type": "code",
   "execution_count": 7,
   "id": "254a934c",
   "metadata": {},
   "outputs": [
    {
     "name": "stdout",
     "output_type": "stream",
     "text": [
      "<class 'pandas.core.frame.DataFrame'>\n",
      "Int64Index: 100000 entries, 0 to 99999\n",
      "Data columns (total 5 columns):\n",
      " #   Column      Non-Null Count   Dtype \n",
      "---  ------      --------------   ----- \n",
      " 0   user_id     100000 non-null  int64 \n",
      " 1   item_id     100000 non-null  int64 \n",
      " 2   rating      100000 non-null  int64 \n",
      " 3   timestamps  100000 non-null  object\n",
      " 4   title       100000 non-null  object\n",
      "dtypes: int64(3), object(2)\n",
      "memory usage: 4.6+ MB\n"
     ]
    }
   ],
   "source": [
    "movielens.info()"
   ]
  },
  {
   "cell_type": "code",
   "execution_count": 8,
   "id": "031edcf1",
   "metadata": {},
   "outputs": [],
   "source": [
    "moviematrix = movielens.pivot_table(index = 'item_id', columns = 'user_id', values = 'rating')"
   ]
  },
  {
   "cell_type": "code",
   "execution_count": 9,
   "id": "8f9545fb",
   "metadata": {},
   "outputs": [
    {
     "data": {
      "text/html": [
       "<div>\n",
       "<style scoped>\n",
       "    .dataframe tbody tr th:only-of-type {\n",
       "        vertical-align: middle;\n",
       "    }\n",
       "\n",
       "    .dataframe tbody tr th {\n",
       "        vertical-align: top;\n",
       "    }\n",
       "\n",
       "    .dataframe thead th {\n",
       "        text-align: right;\n",
       "    }\n",
       "</style>\n",
       "<table border=\"1\" class=\"dataframe\">\n",
       "  <thead>\n",
       "    <tr style=\"text-align: right;\">\n",
       "      <th>user_id</th>\n",
       "      <th>1</th>\n",
       "      <th>2</th>\n",
       "      <th>3</th>\n",
       "      <th>4</th>\n",
       "      <th>5</th>\n",
       "      <th>6</th>\n",
       "      <th>7</th>\n",
       "      <th>8</th>\n",
       "      <th>9</th>\n",
       "      <th>10</th>\n",
       "      <th>...</th>\n",
       "      <th>934</th>\n",
       "      <th>935</th>\n",
       "      <th>936</th>\n",
       "      <th>937</th>\n",
       "      <th>938</th>\n",
       "      <th>939</th>\n",
       "      <th>940</th>\n",
       "      <th>941</th>\n",
       "      <th>942</th>\n",
       "      <th>943</th>\n",
       "    </tr>\n",
       "    <tr>\n",
       "      <th>item_id</th>\n",
       "      <th></th>\n",
       "      <th></th>\n",
       "      <th></th>\n",
       "      <th></th>\n",
       "      <th></th>\n",
       "      <th></th>\n",
       "      <th></th>\n",
       "      <th></th>\n",
       "      <th></th>\n",
       "      <th></th>\n",
       "      <th></th>\n",
       "      <th></th>\n",
       "      <th></th>\n",
       "      <th></th>\n",
       "      <th></th>\n",
       "      <th></th>\n",
       "      <th></th>\n",
       "      <th></th>\n",
       "      <th></th>\n",
       "      <th></th>\n",
       "      <th></th>\n",
       "    </tr>\n",
       "  </thead>\n",
       "  <tbody>\n",
       "    <tr>\n",
       "      <th>1</th>\n",
       "      <td>5.0</td>\n",
       "      <td>4.0</td>\n",
       "      <td>NaN</td>\n",
       "      <td>NaN</td>\n",
       "      <td>4.0</td>\n",
       "      <td>4.0</td>\n",
       "      <td>NaN</td>\n",
       "      <td>NaN</td>\n",
       "      <td>NaN</td>\n",
       "      <td>4.0</td>\n",
       "      <td>...</td>\n",
       "      <td>2.0</td>\n",
       "      <td>3.0</td>\n",
       "      <td>4.0</td>\n",
       "      <td>NaN</td>\n",
       "      <td>4.0</td>\n",
       "      <td>NaN</td>\n",
       "      <td>NaN</td>\n",
       "      <td>5.0</td>\n",
       "      <td>NaN</td>\n",
       "      <td>NaN</td>\n",
       "    </tr>\n",
       "    <tr>\n",
       "      <th>2</th>\n",
       "      <td>3.0</td>\n",
       "      <td>NaN</td>\n",
       "      <td>NaN</td>\n",
       "      <td>NaN</td>\n",
       "      <td>3.0</td>\n",
       "      <td>NaN</td>\n",
       "      <td>NaN</td>\n",
       "      <td>NaN</td>\n",
       "      <td>NaN</td>\n",
       "      <td>NaN</td>\n",
       "      <td>...</td>\n",
       "      <td>4.0</td>\n",
       "      <td>NaN</td>\n",
       "      <td>NaN</td>\n",
       "      <td>NaN</td>\n",
       "      <td>NaN</td>\n",
       "      <td>NaN</td>\n",
       "      <td>NaN</td>\n",
       "      <td>NaN</td>\n",
       "      <td>NaN</td>\n",
       "      <td>5.0</td>\n",
       "    </tr>\n",
       "    <tr>\n",
       "      <th>3</th>\n",
       "      <td>4.0</td>\n",
       "      <td>NaN</td>\n",
       "      <td>NaN</td>\n",
       "      <td>NaN</td>\n",
       "      <td>NaN</td>\n",
       "      <td>NaN</td>\n",
       "      <td>NaN</td>\n",
       "      <td>NaN</td>\n",
       "      <td>NaN</td>\n",
       "      <td>NaN</td>\n",
       "      <td>...</td>\n",
       "      <td>NaN</td>\n",
       "      <td>NaN</td>\n",
       "      <td>4.0</td>\n",
       "      <td>NaN</td>\n",
       "      <td>NaN</td>\n",
       "      <td>NaN</td>\n",
       "      <td>NaN</td>\n",
       "      <td>NaN</td>\n",
       "      <td>NaN</td>\n",
       "      <td>NaN</td>\n",
       "    </tr>\n",
       "    <tr>\n",
       "      <th>4</th>\n",
       "      <td>3.0</td>\n",
       "      <td>NaN</td>\n",
       "      <td>NaN</td>\n",
       "      <td>NaN</td>\n",
       "      <td>NaN</td>\n",
       "      <td>NaN</td>\n",
       "      <td>5.0</td>\n",
       "      <td>NaN</td>\n",
       "      <td>NaN</td>\n",
       "      <td>4.0</td>\n",
       "      <td>...</td>\n",
       "      <td>5.0</td>\n",
       "      <td>NaN</td>\n",
       "      <td>NaN</td>\n",
       "      <td>NaN</td>\n",
       "      <td>NaN</td>\n",
       "      <td>NaN</td>\n",
       "      <td>2.0</td>\n",
       "      <td>NaN</td>\n",
       "      <td>NaN</td>\n",
       "      <td>NaN</td>\n",
       "    </tr>\n",
       "    <tr>\n",
       "      <th>5</th>\n",
       "      <td>3.0</td>\n",
       "      <td>NaN</td>\n",
       "      <td>NaN</td>\n",
       "      <td>NaN</td>\n",
       "      <td>NaN</td>\n",
       "      <td>NaN</td>\n",
       "      <td>NaN</td>\n",
       "      <td>NaN</td>\n",
       "      <td>NaN</td>\n",
       "      <td>NaN</td>\n",
       "      <td>...</td>\n",
       "      <td>NaN</td>\n",
       "      <td>NaN</td>\n",
       "      <td>NaN</td>\n",
       "      <td>NaN</td>\n",
       "      <td>NaN</td>\n",
       "      <td>NaN</td>\n",
       "      <td>NaN</td>\n",
       "      <td>NaN</td>\n",
       "      <td>NaN</td>\n",
       "      <td>NaN</td>\n",
       "    </tr>\n",
       "  </tbody>\n",
       "</table>\n",
       "<p>5 rows × 943 columns</p>\n",
       "</div>"
      ],
      "text/plain": [
       "user_id  1    2    3    4    5    6    7    8    9    10   ...  934  935  936  \\\n",
       "item_id                                                    ...                  \n",
       "1        5.0  4.0  NaN  NaN  4.0  4.0  NaN  NaN  NaN  4.0  ...  2.0  3.0  4.0   \n",
       "2        3.0  NaN  NaN  NaN  3.0  NaN  NaN  NaN  NaN  NaN  ...  4.0  NaN  NaN   \n",
       "3        4.0  NaN  NaN  NaN  NaN  NaN  NaN  NaN  NaN  NaN  ...  NaN  NaN  4.0   \n",
       "4        3.0  NaN  NaN  NaN  NaN  NaN  5.0  NaN  NaN  4.0  ...  5.0  NaN  NaN   \n",
       "5        3.0  NaN  NaN  NaN  NaN  NaN  NaN  NaN  NaN  NaN  ...  NaN  NaN  NaN   \n",
       "\n",
       "user_id  937  938  939  940  941  942  943  \n",
       "item_id                                     \n",
       "1        NaN  4.0  NaN  NaN  5.0  NaN  NaN  \n",
       "2        NaN  NaN  NaN  NaN  NaN  NaN  5.0  \n",
       "3        NaN  NaN  NaN  NaN  NaN  NaN  NaN  \n",
       "4        NaN  NaN  NaN  2.0  NaN  NaN  NaN  \n",
       "5        NaN  NaN  NaN  NaN  NaN  NaN  NaN  \n",
       "\n",
       "[5 rows x 943 columns]"
      ]
     },
     "execution_count": 9,
     "metadata": {},
     "output_type": "execute_result"
    }
   ],
   "source": [
    "moviematrix.head()"
   ]
  },
  {
   "cell_type": "code",
   "execution_count": 10,
   "id": "29db339f",
   "metadata": {},
   "outputs": [],
   "source": [
    "#moviematrix[290]"
   ]
  },
  {
   "cell_type": "code",
   "execution_count": 11,
   "id": "ac731d9b",
   "metadata": {},
   "outputs": [],
   "source": [
    "cor = moviematrix.corr(method = 'pearson')"
   ]
  },
  {
   "cell_type": "code",
   "execution_count": 12,
   "id": "6fe69098",
   "metadata": {},
   "outputs": [],
   "source": [
    "#cor"
   ]
  },
  {
   "cell_type": "code",
   "execution_count": 13,
   "id": "abb59142",
   "metadata": {},
   "outputs": [
    {
     "data": {
      "text/plain": [
       "user_id\n",
       "451    1.000000\n",
       "724    1.000000\n",
       "651    1.000000\n",
       "131    1.000000\n",
       "863    1.000000\n",
       "252    1.000000\n",
       "520    1.000000\n",
       "578    1.000000\n",
       "362    1.000000\n",
       "750    0.944911\n",
       "209    0.942809\n",
       "489    0.927173\n",
       "462    0.912871\n",
       "797    0.912871\n",
       "799    0.904534\n",
       "814    0.870388\n",
       "444    0.866025\n",
       "482    0.866025\n",
       "134    0.866025\n",
       "423    0.852803\n",
       "742    0.840152\n",
       "3      0.818182\n",
       "310    0.788342\n",
       "441    0.787296\n",
       "590    0.759257\n",
       "598    0.755929\n",
       "212    0.752549\n",
       "367    0.750000\n",
       "104    0.748798\n",
       "359    0.745957\n",
       "Name: 290, dtype: float64"
      ]
     },
     "execution_count": 13,
     "metadata": {},
     "output_type": "execute_result"
    }
   ],
   "source": [
    "top30_users = cor[290].sort_values(ascending = False).head(31)\n",
    "top30_users.drop(290, inplace = True)\n",
    "top30_users"
   ]
  },
  {
   "cell_type": "code",
   "execution_count": 14,
   "id": "b5beaecb",
   "metadata": {},
   "outputs": [
    {
     "data": {
      "text/html": [
       "<div>\n",
       "<style scoped>\n",
       "    .dataframe tbody tr th:only-of-type {\n",
       "        vertical-align: middle;\n",
       "    }\n",
       "\n",
       "    .dataframe tbody tr th {\n",
       "        vertical-align: top;\n",
       "    }\n",
       "\n",
       "    .dataframe thead th {\n",
       "        text-align: right;\n",
       "    }\n",
       "</style>\n",
       "<table border=\"1\" class=\"dataframe\">\n",
       "  <thead>\n",
       "    <tr style=\"text-align: right;\">\n",
       "      <th>user_id</th>\n",
       "      <th>451</th>\n",
       "      <th>724</th>\n",
       "      <th>651</th>\n",
       "      <th>131</th>\n",
       "      <th>863</th>\n",
       "      <th>252</th>\n",
       "      <th>520</th>\n",
       "      <th>578</th>\n",
       "      <th>362</th>\n",
       "      <th>750</th>\n",
       "      <th>...</th>\n",
       "      <th>742</th>\n",
       "      <th>3</th>\n",
       "      <th>310</th>\n",
       "      <th>441</th>\n",
       "      <th>590</th>\n",
       "      <th>598</th>\n",
       "      <th>212</th>\n",
       "      <th>367</th>\n",
       "      <th>104</th>\n",
       "      <th>359</th>\n",
       "    </tr>\n",
       "    <tr>\n",
       "      <th>item_id</th>\n",
       "      <th></th>\n",
       "      <th></th>\n",
       "      <th></th>\n",
       "      <th></th>\n",
       "      <th></th>\n",
       "      <th></th>\n",
       "      <th></th>\n",
       "      <th></th>\n",
       "      <th></th>\n",
       "      <th></th>\n",
       "      <th></th>\n",
       "      <th></th>\n",
       "      <th></th>\n",
       "      <th></th>\n",
       "      <th></th>\n",
       "      <th></th>\n",
       "      <th></th>\n",
       "      <th></th>\n",
       "      <th></th>\n",
       "      <th></th>\n",
       "      <th></th>\n",
       "    </tr>\n",
       "  </thead>\n",
       "  <tbody>\n",
       "    <tr>\n",
       "      <th>1</th>\n",
       "      <td>NaN</td>\n",
       "      <td>NaN</td>\n",
       "      <td>NaN</td>\n",
       "      <td>4.0</td>\n",
       "      <td>NaN</td>\n",
       "      <td>5.0</td>\n",
       "      <td>NaN</td>\n",
       "      <td>NaN</td>\n",
       "      <td>NaN</td>\n",
       "      <td>NaN</td>\n",
       "      <td>...</td>\n",
       "      <td>4.0</td>\n",
       "      <td>NaN</td>\n",
       "      <td>NaN</td>\n",
       "      <td>5.0</td>\n",
       "      <td>NaN</td>\n",
       "      <td>NaN</td>\n",
       "      <td>NaN</td>\n",
       "      <td>NaN</td>\n",
       "      <td>NaN</td>\n",
       "      <td>4.0</td>\n",
       "    </tr>\n",
       "    <tr>\n",
       "      <th>2</th>\n",
       "      <td>NaN</td>\n",
       "      <td>NaN</td>\n",
       "      <td>NaN</td>\n",
       "      <td>NaN</td>\n",
       "      <td>NaN</td>\n",
       "      <td>NaN</td>\n",
       "      <td>NaN</td>\n",
       "      <td>NaN</td>\n",
       "      <td>NaN</td>\n",
       "      <td>NaN</td>\n",
       "      <td>...</td>\n",
       "      <td>NaN</td>\n",
       "      <td>NaN</td>\n",
       "      <td>NaN</td>\n",
       "      <td>NaN</td>\n",
       "      <td>NaN</td>\n",
       "      <td>NaN</td>\n",
       "      <td>NaN</td>\n",
       "      <td>NaN</td>\n",
       "      <td>NaN</td>\n",
       "      <td>NaN</td>\n",
       "    </tr>\n",
       "    <tr>\n",
       "      <th>3</th>\n",
       "      <td>NaN</td>\n",
       "      <td>NaN</td>\n",
       "      <td>NaN</td>\n",
       "      <td>NaN</td>\n",
       "      <td>NaN</td>\n",
       "      <td>NaN</td>\n",
       "      <td>NaN</td>\n",
       "      <td>NaN</td>\n",
       "      <td>NaN</td>\n",
       "      <td>NaN</td>\n",
       "      <td>...</td>\n",
       "      <td>NaN</td>\n",
       "      <td>NaN</td>\n",
       "      <td>NaN</td>\n",
       "      <td>NaN</td>\n",
       "      <td>NaN</td>\n",
       "      <td>NaN</td>\n",
       "      <td>NaN</td>\n",
       "      <td>NaN</td>\n",
       "      <td>3.0</td>\n",
       "      <td>NaN</td>\n",
       "    </tr>\n",
       "    <tr>\n",
       "      <th>4</th>\n",
       "      <td>NaN</td>\n",
       "      <td>NaN</td>\n",
       "      <td>NaN</td>\n",
       "      <td>NaN</td>\n",
       "      <td>NaN</td>\n",
       "      <td>NaN</td>\n",
       "      <td>NaN</td>\n",
       "      <td>NaN</td>\n",
       "      <td>NaN</td>\n",
       "      <td>NaN</td>\n",
       "      <td>...</td>\n",
       "      <td>NaN</td>\n",
       "      <td>NaN</td>\n",
       "      <td>NaN</td>\n",
       "      <td>NaN</td>\n",
       "      <td>NaN</td>\n",
       "      <td>NaN</td>\n",
       "      <td>NaN</td>\n",
       "      <td>NaN</td>\n",
       "      <td>NaN</td>\n",
       "      <td>NaN</td>\n",
       "    </tr>\n",
       "    <tr>\n",
       "      <th>5</th>\n",
       "      <td>NaN</td>\n",
       "      <td>NaN</td>\n",
       "      <td>NaN</td>\n",
       "      <td>NaN</td>\n",
       "      <td>NaN</td>\n",
       "      <td>NaN</td>\n",
       "      <td>NaN</td>\n",
       "      <td>NaN</td>\n",
       "      <td>NaN</td>\n",
       "      <td>NaN</td>\n",
       "      <td>...</td>\n",
       "      <td>NaN</td>\n",
       "      <td>NaN</td>\n",
       "      <td>NaN</td>\n",
       "      <td>NaN</td>\n",
       "      <td>NaN</td>\n",
       "      <td>NaN</td>\n",
       "      <td>NaN</td>\n",
       "      <td>4.0</td>\n",
       "      <td>NaN</td>\n",
       "      <td>NaN</td>\n",
       "    </tr>\n",
       "  </tbody>\n",
       "</table>\n",
       "<p>5 rows × 30 columns</p>\n",
       "</div>"
      ],
      "text/plain": [
       "user_id  451  724  651  131  863  252  520  578  362  750  ...  742  3    310  \\\n",
       "item_id                                                    ...                  \n",
       "1        NaN  NaN  NaN  4.0  NaN  5.0  NaN  NaN  NaN  NaN  ...  4.0  NaN  NaN   \n",
       "2        NaN  NaN  NaN  NaN  NaN  NaN  NaN  NaN  NaN  NaN  ...  NaN  NaN  NaN   \n",
       "3        NaN  NaN  NaN  NaN  NaN  NaN  NaN  NaN  NaN  NaN  ...  NaN  NaN  NaN   \n",
       "4        NaN  NaN  NaN  NaN  NaN  NaN  NaN  NaN  NaN  NaN  ...  NaN  NaN  NaN   \n",
       "5        NaN  NaN  NaN  NaN  NaN  NaN  NaN  NaN  NaN  NaN  ...  NaN  NaN  NaN   \n",
       "\n",
       "user_id  441  590  598  212  367  104  359  \n",
       "item_id                                     \n",
       "1        5.0  NaN  NaN  NaN  NaN  NaN  4.0  \n",
       "2        NaN  NaN  NaN  NaN  NaN  NaN  NaN  \n",
       "3        NaN  NaN  NaN  NaN  NaN  3.0  NaN  \n",
       "4        NaN  NaN  NaN  NaN  NaN  NaN  NaN  \n",
       "5        NaN  NaN  NaN  NaN  4.0  NaN  NaN  \n",
       "\n",
       "[5 rows x 30 columns]"
      ]
     },
     "execution_count": 14,
     "metadata": {},
     "output_type": "execute_result"
    }
   ],
   "source": [
    "neighbors = moviematrix[top30_users.index.tolist()]\n",
    "neighbors.head()"
   ]
  },
  {
   "cell_type": "code",
   "execution_count": 15,
   "id": "12aec46e",
   "metadata": {},
   "outputs": [
    {
     "name": "stdout",
     "output_type": "stream",
     "text": [
      "<class 'pandas.core.frame.DataFrame'>\n",
      "Int64Index: 1682 entries, 1 to 1682\n",
      "Data columns (total 30 columns):\n",
      " #   Column  Non-Null Count  Dtype  \n",
      "---  ------  --------------  -----  \n",
      " 0   451     98 non-null     float64\n",
      " 1   724     85 non-null     float64\n",
      " 2   651     21 non-null     float64\n",
      " 3   131     30 non-null     float64\n",
      " 4   863     107 non-null    float64\n",
      " 5   252     21 non-null     float64\n",
      " 6   520     23 non-null     float64\n",
      " 7   578     24 non-null     float64\n",
      " 8   362     25 non-null     float64\n",
      " 9   750     33 non-null     float64\n",
      " 10  209     33 non-null     float64\n",
      " 11  489     109 non-null    float64\n",
      " 12  462     33 non-null     float64\n",
      " 13  797     26 non-null     float64\n",
      " 14  799     24 non-null     float64\n",
      " 15  814     35 non-null     float64\n",
      " 16  444     24 non-null     float64\n",
      " 17  482     26 non-null     float64\n",
      " 18  134     25 non-null     float64\n",
      " 19  423     64 non-null     float64\n",
      " 20  742     26 non-null     float64\n",
      " 21  3       54 non-null     float64\n",
      " 22  310     21 non-null     float64\n",
      " 23  441     20 non-null     float64\n",
      " 24  590     48 non-null     float64\n",
      " 25  598     25 non-null     float64\n",
      " 26  212     25 non-null     float64\n",
      " 27  367     58 non-null     float64\n",
      " 28  104     111 non-null    float64\n",
      " 29  359     27 non-null     float64\n",
      "dtypes: float64(30)\n",
      "memory usage: 407.4 KB\n"
     ]
    }
   ],
   "source": [
    "neighbors.info()"
   ]
  },
  {
   "cell_type": "code",
   "execution_count": 16,
   "id": "f5fd4160",
   "metadata": {},
   "outputs": [
    {
     "data": {
      "text/plain": [
       "1682"
      ]
     },
     "execution_count": 16,
     "metadata": {},
     "output_type": "execute_result"
    }
   ],
   "source": [
    "len(neighbors)"
   ]
  },
  {
   "cell_type": "code",
   "execution_count": null,
   "id": "349bc6dc",
   "metadata": {},
   "outputs": [],
   "source": []
  },
  {
   "cell_type": "code",
   "execution_count": null,
   "id": "f8a46527",
   "metadata": {},
   "outputs": [],
   "source": []
  },
  {
   "cell_type": "code",
   "execution_count": null,
   "id": "6b849eda",
   "metadata": {},
   "outputs": [],
   "source": []
  },
  {
   "cell_type": "code",
   "execution_count": null,
   "id": "9edcf00e",
   "metadata": {},
   "outputs": [],
   "source": []
  },
  {
   "cell_type": "code",
   "execution_count": null,
   "id": "86cbccbb",
   "metadata": {},
   "outputs": [],
   "source": []
  },
  {
   "cell_type": "code",
   "execution_count": null,
   "id": "f1338a97",
   "metadata": {},
   "outputs": [],
   "source": []
  },
  {
   "cell_type": "markdown",
   "id": "0c9b3e82",
   "metadata": {},
   "source": [
    "# Lets figure out how many movies user ID 451 and 290 have in common (movies that they both rated) since it has a correlation of 1"
   ]
  },
  {
   "cell_type": "code",
   "execution_count": 17,
   "id": "0da0d798",
   "metadata": {},
   "outputs": [],
   "source": [
    "a = movielens[movielens['user_id']==451].sort_values(by = 'item_id', ascending = True)"
   ]
  },
  {
   "cell_type": "code",
   "execution_count": 18,
   "id": "5d979df5",
   "metadata": {},
   "outputs": [],
   "source": [
    "b = movielens[movielens['user_id']==290].sort_values(by = 'item_id', ascending = True)"
   ]
  },
  {
   "cell_type": "code",
   "execution_count": 111,
   "id": "3429c789",
   "metadata": {},
   "outputs": [],
   "source": [
    "a1 = a['item_id'].tolist()\n",
    "b1 = b['item_id'].tolist()\n",
    "#b1"
   ]
  },
  {
   "cell_type": "code",
   "execution_count": 20,
   "id": "d9f6ed76",
   "metadata": {},
   "outputs": [],
   "source": [
    "intersection = set(b1).intersection(a1)\n",
    "#intersection"
   ]
  },
  {
   "cell_type": "markdown",
   "id": "be923769",
   "metadata": {},
   "source": [
    "## It turns out they both rated only 3 movies, which are movie_id 243, 323, 683"
   ]
  },
  {
   "cell_type": "code",
   "execution_count": 21,
   "id": "71fc2df2",
   "metadata": {},
   "outputs": [
    {
     "name": "stdout",
     "output_type": "stream",
     "text": [
      "       rating  item_id\n",
      "77597       4      243        rating  item_id\n",
      "23183       4      323        rating  item_id\n",
      "71649       1      683\n"
     ]
    }
   ],
   "source": [
    "print(a[a['item_id'] == 243][['rating','item_id']],a[a['item_id'] == 323][['rating','item_id']], a[a['item_id'] == 683][['rating','item_id']])"
   ]
  },
  {
   "cell_type": "code",
   "execution_count": 22,
   "id": "eb6cdf52",
   "metadata": {},
   "outputs": [
    {
     "name": "stdout",
     "output_type": "stream",
     "text": [
      "       rating  item_id\n",
      "77580       3      243        rating  item_id\n",
      "23268       3      323        rating  item_id\n",
      "71648       2      683\n"
     ]
    }
   ],
   "source": [
    "print(b[b['item_id'] == 243][['rating','item_id']],b[b['item_id'] == 323][['rating','item_id']], b[b['item_id'] == 683][['rating','item_id']])"
   ]
  },
  {
   "cell_type": "markdown",
   "id": "0d08d6de",
   "metadata": {},
   "source": [
    "## If you manually calculate the pearson correlation, then you will get 1 as a result"
   ]
  },
  {
   "cell_type": "code",
   "execution_count": 23,
   "id": "3a541b96",
   "metadata": {},
   "outputs": [
    {
     "data": {
      "text/plain": [
       "1.0"
      ]
     },
     "execution_count": 23,
     "metadata": {},
     "output_type": "execute_result"
    }
   ],
   "source": [
    "import math\n",
    "\n",
    "pearson_corr_nominator = (3-8/3)*(4-3)+(3-8/3)*(4-3)+(2-8/3)*(1-3)\n",
    "sum_square_x = (3-8/3)**2 + (3-8/3)**2 + (2-8/3)**2\n",
    "sum_square_y = (4-3)**2 + (4-3)**2 + (1-3)**2\n",
    "\n",
    "sqrt = math.sqrt(sum_square_x*sum_square_y)\n",
    "\n",
    "cor = pearson_corr_nominator/sqrt\n",
    "cor"
   ]
  },
  {
   "cell_type": "markdown",
   "id": "9946be8f",
   "metadata": {},
   "source": [
    "## we got a correlation of 1 because the sample size was small. So, lets work on that"
   ]
  },
  {
   "cell_type": "code",
   "execution_count": 394,
   "id": "74438c00",
   "metadata": {},
   "outputs": [
    {
     "data": {
      "text/plain": [
       "item_id\n",
       "50     583\n",
       "258    509\n",
       "100    508\n",
       "181    507\n",
       "294    485\n",
       "Name: rating, dtype: int64"
      ]
     },
     "execution_count": 394,
     "metadata": {},
     "output_type": "execute_result"
    }
   ],
   "source": [
    "movielens.groupby('item_id')['rating'].count().sort_values(ascending = False).head()"
   ]
  },
  {
   "cell_type": "code",
   "execution_count": 436,
   "id": "e24642c4",
   "metadata": {},
   "outputs": [],
   "source": [
    "movie_rating_num = movielens.groupby('item_id')['rating'].count().sort_values(ascending = False)"
   ]
  },
  {
   "cell_type": "code",
   "execution_count": 438,
   "id": "175812c0",
   "metadata": {},
   "outputs": [
    {
     "data": {
      "text/html": [
       "<div>\n",
       "<style scoped>\n",
       "    .dataframe tbody tr th:only-of-type {\n",
       "        vertical-align: middle;\n",
       "    }\n",
       "\n",
       "    .dataframe tbody tr th {\n",
       "        vertical-align: top;\n",
       "    }\n",
       "\n",
       "    .dataframe thead th {\n",
       "        text-align: right;\n",
       "    }\n",
       "</style>\n",
       "<table border=\"1\" class=\"dataframe\">\n",
       "  <thead>\n",
       "    <tr style=\"text-align: right;\">\n",
       "      <th></th>\n",
       "      <th>user_id</th>\n",
       "      <th>item_id</th>\n",
       "      <th>rating</th>\n",
       "      <th>timestamps</th>\n",
       "      <th>title</th>\n",
       "    </tr>\n",
       "  </thead>\n",
       "  <tbody>\n",
       "    <tr>\n",
       "      <th>50</th>\n",
       "      <td>624</td>\n",
       "      <td>242</td>\n",
       "      <td>4</td>\n",
       "      <td>891961040</td>\n",
       "      <td>Kolya (1996)</td>\n",
       "    </tr>\n",
       "    <tr>\n",
       "      <th>258</th>\n",
       "      <td>74</td>\n",
       "      <td>302</td>\n",
       "      <td>4</td>\n",
       "      <td>888333219</td>\n",
       "      <td>L.A. Confidential (1997)</td>\n",
       "    </tr>\n",
       "    <tr>\n",
       "      <th>100</th>\n",
       "      <td>724</td>\n",
       "      <td>242</td>\n",
       "      <td>1</td>\n",
       "      <td>883758268</td>\n",
       "      <td>Kolya (1996)</td>\n",
       "    </tr>\n",
       "    <tr>\n",
       "      <th>181</th>\n",
       "      <td>413</td>\n",
       "      <td>302</td>\n",
       "      <td>2</td>\n",
       "      <td>879968794</td>\n",
       "      <td>L.A. Confidential (1997)</td>\n",
       "    </tr>\n",
       "    <tr>\n",
       "      <th>294</th>\n",
       "      <td>389</td>\n",
       "      <td>302</td>\n",
       "      <td>5</td>\n",
       "      <td>879915633</td>\n",
       "      <td>L.A. Confidential (1997)</td>\n",
       "    </tr>\n",
       "    <tr>\n",
       "      <th>...</th>\n",
       "      <td>...</td>\n",
       "      <td>...</td>\n",
       "      <td>...</td>\n",
       "      <td>...</td>\n",
       "      <td>...</td>\n",
       "    </tr>\n",
       "    <tr>\n",
       "      <th>342</th>\n",
       "      <td>934</td>\n",
       "      <td>302</td>\n",
       "      <td>4</td>\n",
       "      <td>891188367</td>\n",
       "      <td>L.A. Confidential (1997)</td>\n",
       "    </tr>\n",
       "    <tr>\n",
       "      <th>712</th>\n",
       "      <td>58</td>\n",
       "      <td>474</td>\n",
       "      <td>4</td>\n",
       "      <td>884305087</td>\n",
       "      <td>Dr. Strangelove or: How I Learned to Stop Worr...</td>\n",
       "    </tr>\n",
       "    <tr>\n",
       "      <th>749</th>\n",
       "      <td>567</td>\n",
       "      <td>474</td>\n",
       "      <td>5</td>\n",
       "      <td>882426135</td>\n",
       "      <td>Dr. Strangelove or: How I Learned to Stop Worr...</td>\n",
       "    </tr>\n",
       "    <tr>\n",
       "      <th>542</th>\n",
       "      <td>546</td>\n",
       "      <td>346</td>\n",
       "      <td>5</td>\n",
       "      <td>885139634</td>\n",
       "      <td>Jackie Brown (1997)</td>\n",
       "    </tr>\n",
       "    <tr>\n",
       "      <th>614</th>\n",
       "      <td>874</td>\n",
       "      <td>346</td>\n",
       "      <td>3</td>\n",
       "      <td>888632147</td>\n",
       "      <td>Jackie Brown (1997)</td>\n",
       "    </tr>\n",
       "  </tbody>\n",
       "</table>\n",
       "<p>593 rows × 5 columns</p>\n",
       "</div>"
      ],
      "text/plain": [
       "     user_id  item_id  rating timestamps  \\\n",
       "50       624      242       4  891961040   \n",
       "258       74      302       4  888333219   \n",
       "100      724      242       1  883758268   \n",
       "181      413      302       2  879968794   \n",
       "294      389      302       5  879915633   \n",
       "..       ...      ...     ...        ...   \n",
       "342      934      302       4  891188367   \n",
       "712       58      474       4  884305087   \n",
       "749      567      474       5  882426135   \n",
       "542      546      346       5  885139634   \n",
       "614      874      346       3  888632147   \n",
       "\n",
       "                                                 title  \n",
       "50                                        Kolya (1996)  \n",
       "258                           L.A. Confidential (1997)  \n",
       "100                                       Kolya (1996)  \n",
       "181                           L.A. Confidential (1997)  \n",
       "294                           L.A. Confidential (1997)  \n",
       "..                                                 ...  \n",
       "342                           L.A. Confidential (1997)  \n",
       "712  Dr. Strangelove or: How I Learned to Stop Worr...  \n",
       "749  Dr. Strangelove or: How I Learned to Stop Worr...  \n",
       "542                                Jackie Brown (1997)  \n",
       "614                                Jackie Brown (1997)  \n",
       "\n",
       "[593 rows x 5 columns]"
      ]
     },
     "execution_count": 438,
     "metadata": {},
     "output_type": "execute_result"
    }
   ],
   "source": [
    "# Step 1: select movies that have over 50 ratings\n",
    "\n",
    "items_over_50_rating_df = movielens.iloc[movie_rating_num[movie_rating_num>50].index.tolist()]\n",
    "items_over_50_rating_df"
   ]
  },
  {
   "cell_type": "code",
   "execution_count": 426,
   "id": "8c349b68",
   "metadata": {},
   "outputs": [],
   "source": [
    "# Step 2: Create a pivot table\n",
    "            # 2.1 select users that have rated same items as user 290\n",
    "            # 2.2 find the list of all the items that user 290 rated\n",
    "            # 2.3 find the list of users that rated same items as 290\n",
    "            # 2.4 select the size of that list"
   ]
  },
  {
   "cell_type": "code",
   "execution_count": 427,
   "id": "933f19e4",
   "metadata": {},
   "outputs": [
    {
     "data": {
      "text/html": [
       "<div>\n",
       "<style scoped>\n",
       "    .dataframe tbody tr th:only-of-type {\n",
       "        vertical-align: middle;\n",
       "    }\n",
       "\n",
       "    .dataframe tbody tr th {\n",
       "        vertical-align: top;\n",
       "    }\n",
       "\n",
       "    .dataframe thead th {\n",
       "        text-align: right;\n",
       "    }\n",
       "</style>\n",
       "<table border=\"1\" class=\"dataframe\">\n",
       "  <thead>\n",
       "    <tr style=\"text-align: right;\">\n",
       "      <th></th>\n",
       "      <th>user_id</th>\n",
       "      <th>item_id</th>\n",
       "      <th>rating</th>\n",
       "      <th>timestamps</th>\n",
       "      <th>title</th>\n",
       "    </tr>\n",
       "  </thead>\n",
       "  <tbody>\n",
       "    <tr>\n",
       "      <th>50</th>\n",
       "      <td>624</td>\n",
       "      <td>242</td>\n",
       "      <td>4</td>\n",
       "      <td>891961040</td>\n",
       "      <td>Kolya (1996)</td>\n",
       "    </tr>\n",
       "    <tr>\n",
       "      <th>258</th>\n",
       "      <td>74</td>\n",
       "      <td>302</td>\n",
       "      <td>4</td>\n",
       "      <td>888333219</td>\n",
       "      <td>L.A. Confidential (1997)</td>\n",
       "    </tr>\n",
       "    <tr>\n",
       "      <th>100</th>\n",
       "      <td>724</td>\n",
       "      <td>242</td>\n",
       "      <td>1</td>\n",
       "      <td>883758268</td>\n",
       "      <td>Kolya (1996)</td>\n",
       "    </tr>\n",
       "    <tr>\n",
       "      <th>181</th>\n",
       "      <td>413</td>\n",
       "      <td>302</td>\n",
       "      <td>2</td>\n",
       "      <td>879968794</td>\n",
       "      <td>L.A. Confidential (1997)</td>\n",
       "    </tr>\n",
       "    <tr>\n",
       "      <th>294</th>\n",
       "      <td>389</td>\n",
       "      <td>302</td>\n",
       "      <td>5</td>\n",
       "      <td>879915633</td>\n",
       "      <td>L.A. Confidential (1997)</td>\n",
       "    </tr>\n",
       "    <tr>\n",
       "      <th>...</th>\n",
       "      <td>...</td>\n",
       "      <td>...</td>\n",
       "      <td>...</td>\n",
       "      <td>...</td>\n",
       "      <td>...</td>\n",
       "    </tr>\n",
       "    <tr>\n",
       "      <th>342</th>\n",
       "      <td>934</td>\n",
       "      <td>302</td>\n",
       "      <td>4</td>\n",
       "      <td>891188367</td>\n",
       "      <td>L.A. Confidential (1997)</td>\n",
       "    </tr>\n",
       "    <tr>\n",
       "      <th>712</th>\n",
       "      <td>58</td>\n",
       "      <td>474</td>\n",
       "      <td>4</td>\n",
       "      <td>884305087</td>\n",
       "      <td>Dr. Strangelove or: How I Learned to Stop Worr...</td>\n",
       "    </tr>\n",
       "    <tr>\n",
       "      <th>749</th>\n",
       "      <td>567</td>\n",
       "      <td>474</td>\n",
       "      <td>5</td>\n",
       "      <td>882426135</td>\n",
       "      <td>Dr. Strangelove or: How I Learned to Stop Worr...</td>\n",
       "    </tr>\n",
       "    <tr>\n",
       "      <th>542</th>\n",
       "      <td>546</td>\n",
       "      <td>346</td>\n",
       "      <td>5</td>\n",
       "      <td>885139634</td>\n",
       "      <td>Jackie Brown (1997)</td>\n",
       "    </tr>\n",
       "    <tr>\n",
       "      <th>614</th>\n",
       "      <td>874</td>\n",
       "      <td>346</td>\n",
       "      <td>3</td>\n",
       "      <td>888632147</td>\n",
       "      <td>Jackie Brown (1997)</td>\n",
       "    </tr>\n",
       "  </tbody>\n",
       "</table>\n",
       "<p>593 rows × 5 columns</p>\n",
       "</div>"
      ],
      "text/plain": [
       "     user_id  item_id  rating timestamps  \\\n",
       "50       624      242       4  891961040   \n",
       "258       74      302       4  888333219   \n",
       "100      724      242       1  883758268   \n",
       "181      413      302       2  879968794   \n",
       "294      389      302       5  879915633   \n",
       "..       ...      ...     ...        ...   \n",
       "342      934      302       4  891188367   \n",
       "712       58      474       4  884305087   \n",
       "749      567      474       5  882426135   \n",
       "542      546      346       5  885139634   \n",
       "614      874      346       3  888632147   \n",
       "\n",
       "                                                 title  \n",
       "50                                        Kolya (1996)  \n",
       "258                           L.A. Confidential (1997)  \n",
       "100                                       Kolya (1996)  \n",
       "181                           L.A. Confidential (1997)  \n",
       "294                           L.A. Confidential (1997)  \n",
       "..                                                 ...  \n",
       "342                           L.A. Confidential (1997)  \n",
       "712  Dr. Strangelove or: How I Learned to Stop Worr...  \n",
       "749  Dr. Strangelove or: How I Learned to Stop Worr...  \n",
       "542                                Jackie Brown (1997)  \n",
       "614                                Jackie Brown (1997)  \n",
       "\n",
       "[593 rows x 5 columns]"
      ]
     },
     "execution_count": 427,
     "metadata": {},
     "output_type": "execute_result"
    }
   ],
   "source": [
    "items_over_50_rating_df"
   ]
  },
  {
   "cell_type": "code",
   "execution_count": 430,
   "id": "45ea3f4c",
   "metadata": {},
   "outputs": [
    {
     "data": {
      "text/html": [
       "<div>\n",
       "<style scoped>\n",
       "    .dataframe tbody tr th:only-of-type {\n",
       "        vertical-align: middle;\n",
       "    }\n",
       "\n",
       "    .dataframe tbody tr th {\n",
       "        vertical-align: top;\n",
       "    }\n",
       "\n",
       "    .dataframe thead th {\n",
       "        text-align: right;\n",
       "    }\n",
       "</style>\n",
       "<table border=\"1\" class=\"dataframe\">\n",
       "  <thead>\n",
       "    <tr style=\"text-align: right;\">\n",
       "      <th>user_id</th>\n",
       "      <th>1</th>\n",
       "      <th>2</th>\n",
       "      <th>3</th>\n",
       "      <th>6</th>\n",
       "      <th>7</th>\n",
       "      <th>9</th>\n",
       "      <th>10</th>\n",
       "      <th>11</th>\n",
       "      <th>13</th>\n",
       "      <th>14</th>\n",
       "      <th>...</th>\n",
       "      <th>915</th>\n",
       "      <th>916</th>\n",
       "      <th>919</th>\n",
       "      <th>920</th>\n",
       "      <th>922</th>\n",
       "      <th>931</th>\n",
       "      <th>934</th>\n",
       "      <th>937</th>\n",
       "      <th>940</th>\n",
       "      <th>943</th>\n",
       "    </tr>\n",
       "    <tr>\n",
       "      <th>item_id</th>\n",
       "      <th></th>\n",
       "      <th></th>\n",
       "      <th></th>\n",
       "      <th></th>\n",
       "      <th></th>\n",
       "      <th></th>\n",
       "      <th></th>\n",
       "      <th></th>\n",
       "      <th></th>\n",
       "      <th></th>\n",
       "      <th></th>\n",
       "      <th></th>\n",
       "      <th></th>\n",
       "      <th></th>\n",
       "      <th></th>\n",
       "      <th></th>\n",
       "      <th></th>\n",
       "      <th></th>\n",
       "      <th></th>\n",
       "      <th></th>\n",
       "      <th></th>\n",
       "    </tr>\n",
       "  </thead>\n",
       "  <tbody>\n",
       "    <tr>\n",
       "      <th>51</th>\n",
       "      <td>4.0</td>\n",
       "      <td>NaN</td>\n",
       "      <td>NaN</td>\n",
       "      <td>NaN</td>\n",
       "      <td>2.0</td>\n",
       "      <td>NaN</td>\n",
       "      <td>NaN</td>\n",
       "      <td>4.0</td>\n",
       "      <td>3.0</td>\n",
       "      <td>NaN</td>\n",
       "      <td>...</td>\n",
       "      <td>NaN</td>\n",
       "      <td>2.0</td>\n",
       "      <td>NaN</td>\n",
       "      <td>NaN</td>\n",
       "      <td>4.0</td>\n",
       "      <td>NaN</td>\n",
       "      <td>NaN</td>\n",
       "      <td>NaN</td>\n",
       "      <td>NaN</td>\n",
       "      <td>1.0</td>\n",
       "    </tr>\n",
       "    <tr>\n",
       "      <th>242</th>\n",
       "      <td>5.0</td>\n",
       "      <td>5.0</td>\n",
       "      <td>NaN</td>\n",
       "      <td>4.0</td>\n",
       "      <td>NaN</td>\n",
       "      <td>4.0</td>\n",
       "      <td>NaN</td>\n",
       "      <td>NaN</td>\n",
       "      <td>2.0</td>\n",
       "      <td>NaN</td>\n",
       "      <td>...</td>\n",
       "      <td>NaN</td>\n",
       "      <td>NaN</td>\n",
       "      <td>NaN</td>\n",
       "      <td>NaN</td>\n",
       "      <td>NaN</td>\n",
       "      <td>NaN</td>\n",
       "      <td>NaN</td>\n",
       "      <td>3.0</td>\n",
       "      <td>NaN</td>\n",
       "      <td>NaN</td>\n",
       "    </tr>\n",
       "    <tr>\n",
       "      <th>265</th>\n",
       "      <td>NaN</td>\n",
       "      <td>NaN</td>\n",
       "      <td>NaN</td>\n",
       "      <td>NaN</td>\n",
       "      <td>NaN</td>\n",
       "      <td>NaN</td>\n",
       "      <td>NaN</td>\n",
       "      <td>NaN</td>\n",
       "      <td>NaN</td>\n",
       "      <td>NaN</td>\n",
       "      <td>...</td>\n",
       "      <td>NaN</td>\n",
       "      <td>NaN</td>\n",
       "      <td>NaN</td>\n",
       "      <td>NaN</td>\n",
       "      <td>NaN</td>\n",
       "      <td>NaN</td>\n",
       "      <td>NaN</td>\n",
       "      <td>NaN</td>\n",
       "      <td>NaN</td>\n",
       "      <td>NaN</td>\n",
       "    </tr>\n",
       "    <tr>\n",
       "      <th>302</th>\n",
       "      <td>NaN</td>\n",
       "      <td>5.0</td>\n",
       "      <td>2.0</td>\n",
       "      <td>4.0</td>\n",
       "      <td>NaN</td>\n",
       "      <td>NaN</td>\n",
       "      <td>4.0</td>\n",
       "      <td>NaN</td>\n",
       "      <td>5.0</td>\n",
       "      <td>5.0</td>\n",
       "      <td>...</td>\n",
       "      <td>4.0</td>\n",
       "      <td>NaN</td>\n",
       "      <td>4.0</td>\n",
       "      <td>4.0</td>\n",
       "      <td>NaN</td>\n",
       "      <td>4.0</td>\n",
       "      <td>4.0</td>\n",
       "      <td>NaN</td>\n",
       "      <td>NaN</td>\n",
       "      <td>NaN</td>\n",
       "    </tr>\n",
       "    <tr>\n",
       "      <th>346</th>\n",
       "      <td>NaN</td>\n",
       "      <td>NaN</td>\n",
       "      <td>5.0</td>\n",
       "      <td>NaN</td>\n",
       "      <td>NaN</td>\n",
       "      <td>NaN</td>\n",
       "      <td>NaN</td>\n",
       "      <td>NaN</td>\n",
       "      <td>NaN</td>\n",
       "      <td>NaN</td>\n",
       "      <td>...</td>\n",
       "      <td>2.0</td>\n",
       "      <td>NaN</td>\n",
       "      <td>NaN</td>\n",
       "      <td>4.0</td>\n",
       "      <td>NaN</td>\n",
       "      <td>NaN</td>\n",
       "      <td>NaN</td>\n",
       "      <td>NaN</td>\n",
       "      <td>NaN</td>\n",
       "      <td>NaN</td>\n",
       "    </tr>\n",
       "    <tr>\n",
       "      <th>377</th>\n",
       "      <td>NaN</td>\n",
       "      <td>NaN</td>\n",
       "      <td>NaN</td>\n",
       "      <td>NaN</td>\n",
       "      <td>NaN</td>\n",
       "      <td>NaN</td>\n",
       "      <td>NaN</td>\n",
       "      <td>NaN</td>\n",
       "      <td>1.0</td>\n",
       "      <td>NaN</td>\n",
       "      <td>...</td>\n",
       "      <td>NaN</td>\n",
       "      <td>NaN</td>\n",
       "      <td>NaN</td>\n",
       "      <td>NaN</td>\n",
       "      <td>NaN</td>\n",
       "      <td>NaN</td>\n",
       "      <td>NaN</td>\n",
       "      <td>NaN</td>\n",
       "      <td>NaN</td>\n",
       "      <td>NaN</td>\n",
       "    </tr>\n",
       "    <tr>\n",
       "      <th>465</th>\n",
       "      <td>NaN</td>\n",
       "      <td>NaN</td>\n",
       "      <td>NaN</td>\n",
       "      <td>NaN</td>\n",
       "      <td>NaN</td>\n",
       "      <td>NaN</td>\n",
       "      <td>NaN</td>\n",
       "      <td>NaN</td>\n",
       "      <td>NaN</td>\n",
       "      <td>NaN</td>\n",
       "      <td>...</td>\n",
       "      <td>NaN</td>\n",
       "      <td>NaN</td>\n",
       "      <td>NaN</td>\n",
       "      <td>NaN</td>\n",
       "      <td>NaN</td>\n",
       "      <td>NaN</td>\n",
       "      <td>NaN</td>\n",
       "      <td>NaN</td>\n",
       "      <td>NaN</td>\n",
       "      <td>NaN</td>\n",
       "    </tr>\n",
       "    <tr>\n",
       "      <th>474</th>\n",
       "      <td>NaN</td>\n",
       "      <td>NaN</td>\n",
       "      <td>NaN</td>\n",
       "      <td>5.0</td>\n",
       "      <td>5.0</td>\n",
       "      <td>NaN</td>\n",
       "      <td>4.0</td>\n",
       "      <td>NaN</td>\n",
       "      <td>NaN</td>\n",
       "      <td>NaN</td>\n",
       "      <td>...</td>\n",
       "      <td>NaN</td>\n",
       "      <td>NaN</td>\n",
       "      <td>NaN</td>\n",
       "      <td>NaN</td>\n",
       "      <td>NaN</td>\n",
       "      <td>NaN</td>\n",
       "      <td>NaN</td>\n",
       "      <td>NaN</td>\n",
       "      <td>3.0</td>\n",
       "      <td>NaN</td>\n",
       "    </tr>\n",
       "  </tbody>\n",
       "</table>\n",
       "<p>8 rows × 428 columns</p>\n",
       "</div>"
      ],
      "text/plain": [
       "user_id  1    2    3    6    7    9    10   11   13   14   ...  915  916  919  \\\n",
       "item_id                                                    ...                  \n",
       "51       4.0  NaN  NaN  NaN  2.0  NaN  NaN  4.0  3.0  NaN  ...  NaN  2.0  NaN   \n",
       "242      5.0  5.0  NaN  4.0  NaN  4.0  NaN  NaN  2.0  NaN  ...  NaN  NaN  NaN   \n",
       "265      NaN  NaN  NaN  NaN  NaN  NaN  NaN  NaN  NaN  NaN  ...  NaN  NaN  NaN   \n",
       "302      NaN  5.0  2.0  4.0  NaN  NaN  4.0  NaN  5.0  5.0  ...  4.0  NaN  4.0   \n",
       "346      NaN  NaN  5.0  NaN  NaN  NaN  NaN  NaN  NaN  NaN  ...  2.0  NaN  NaN   \n",
       "377      NaN  NaN  NaN  NaN  NaN  NaN  NaN  NaN  1.0  NaN  ...  NaN  NaN  NaN   \n",
       "465      NaN  NaN  NaN  NaN  NaN  NaN  NaN  NaN  NaN  NaN  ...  NaN  NaN  NaN   \n",
       "474      NaN  NaN  NaN  5.0  5.0  NaN  4.0  NaN  NaN  NaN  ...  NaN  NaN  NaN   \n",
       "\n",
       "user_id  920  922  931  934  937  940  943  \n",
       "item_id                                     \n",
       "51       NaN  4.0  NaN  NaN  NaN  NaN  1.0  \n",
       "242      NaN  NaN  NaN  NaN  3.0  NaN  NaN  \n",
       "265      NaN  NaN  NaN  NaN  NaN  NaN  NaN  \n",
       "302      4.0  NaN  4.0  4.0  NaN  NaN  NaN  \n",
       "346      4.0  NaN  NaN  NaN  NaN  NaN  NaN  \n",
       "377      NaN  NaN  NaN  NaN  NaN  NaN  NaN  \n",
       "465      NaN  NaN  NaN  NaN  NaN  NaN  NaN  \n",
       "474      NaN  NaN  NaN  NaN  NaN  3.0  NaN  \n",
       "\n",
       "[8 rows x 428 columns]"
      ]
     },
     "execution_count": 430,
     "metadata": {},
     "output_type": "execute_result"
    }
   ],
   "source": [
    "# Creating Pivot Table\n",
    "items_over_50_rating_pivot = items_over_50_rating_df.pivot_table(index = 'item_id', \n",
    "                                                                 columns = 'user_id', \n",
    "                                                                 values = 'rating')\n",
    "items_over_50_rating_pivot"
   ]
  },
  {
   "cell_type": "code",
   "execution_count": 124,
   "id": "36ee19fa",
   "metadata": {},
   "outputs": [
    {
     "data": {
      "text/plain": [
       "True     481\n",
       "False    112\n",
       "Name: 290, dtype: int64"
      ]
     },
     "execution_count": 124,
     "metadata": {},
     "output_type": "execute_result"
    }
   ],
   "source": [
    "user290_top100_correlation = items_over_50_rating.corr()[290].sort_values(ascending = False)[:100]\n",
    "user_id = user290_top100_correlation.index.tolist()\n",
    "n_ratings = items_over_50_rating[user_id] #since we are interested in the users with high corr with user290\n",
    "n_ratings[290].isnull().value_counts() # user_id 290 has rated only 112 movies, we need to drop 290 from that df"
   ]
  },
  {
   "cell_type": "code",
   "execution_count": 125,
   "id": "9c27fd92",
   "metadata": {},
   "outputs": [
    {
     "data": {
      "text/plain": [
       "112"
      ]
     },
     "execution_count": 125,
     "metadata": {},
     "output_type": "execute_result"
    }
   ],
   "source": [
    "# 2.1 list of all the items that user 290 rated\n",
    "n_ratings[290]\n",
    "itemids = n_ratings[290].index.tolist()\n",
    "rated_item_by_290 = []\n",
    "for ids in itemids:\n",
    "    value = n_ratings[290].isnull()[ids]\n",
    "    if value == False:\n",
    "        rated_item_by_290.append(ids)\n",
    "    \n",
    "   # value = n_ratings[290][ids]\n",
    "    #if value != np.NaN:\n",
    "       # rated_item_290.append(value)\n",
    "        \n",
    "len(rated_item_by_290)"
   ]
  },
  {
   "cell_type": "code",
   "execution_count": 294,
   "id": "1f63b8a3",
   "metadata": {},
   "outputs": [
    {
     "data": {
      "text/plain": [
       "[[323, 271, 683], [323, 243, 683], [271, 683], [515, 683], [274, 50]]"
      ]
     },
     "execution_count": 294,
     "metadata": {},
     "output_type": "execute_result"
    }
   ],
   "source": [
    "# 2.2 list of users that rated same items as 290\n",
    "\n",
    "\n",
    "#user_id --> [724,451,863,651,2,675,290...]\n",
    "#rated_item_by_290 --> [99,118,205,211,174,196 ....]\n",
    "#n_ratings\n",
    "#n_ratings[724].index.tolist() = [51,259,101,182,295 ...]\n",
    "\n",
    "common_290_users = []\n",
    "for ids in user_id:\n",
    "    col = n_ratings[ids]\n",
    "    col_values= []\n",
    "    for item in rated_item_by_290:\n",
    "        value = col.isnull()[item]\n",
    "        if value == False:\n",
    "            col_values.append(item)\n",
    "    common_290_users.append(col_values)\n",
    "\n",
    "#pd.Series(common_290_users[0], index = rated_item_by_290)\n",
    "common_290_users[:5] # length of 100 meaning 100 columns, so the first list belongs to user 724, second is, 451 third is 863 and so on...\n"
   ]
  },
  {
   "cell_type": "code",
   "execution_count": 335,
   "id": "6e9f0fd6",
   "metadata": {},
   "outputs": [
    {
     "data": {
      "text/plain": [
       "Int64Index([  51,  259,  101,  182,  295,  287,  289,    2,  301,  122,\n",
       "            ...\n",
       "            1066,  878,  467,  769,  490,  343,  713,  750,  543,  615],\n",
       "           dtype='int64', name='item_id', length=593)"
      ]
     },
     "execution_count": 335,
     "metadata": {},
     "output_type": "execute_result"
    }
   ],
   "source": [
    "n_ratings.index"
   ]
  },
  {
   "cell_type": "code",
   "execution_count": 374,
   "id": "0759ff6d",
   "metadata": {},
   "outputs": [
    {
     "data": {
      "text/plain": [
       "35"
      ]
     },
     "execution_count": 374,
     "metadata": {},
     "output_type": "execute_result"
    }
   ],
   "source": [
    "# select the size of that list\n",
    "\n",
    "\n",
    "e= [] #index of all users that have rated at least 10 items that the user 290 rated as well\n",
    "for i in range(100):\n",
    "    if len(set(rated_item_by_290).intersection(common_290_users[i])) >10: #  \n",
    "        e.append(i)\n",
    "\n",
    "common_userid_over10 = [] # this is the actual user_id\n",
    "for i in e:\n",
    "    common_userid_over10.append(user_id[i])\n",
    "common_userid_over10\n"
   ]
  },
  {
   "cell_type": "code",
   "execution_count": 382,
   "id": "a3fec637",
   "metadata": {},
   "outputs": [
    {
     "data": {
      "text/plain": [
       "True     32\n",
       "False     3\n",
       "Name: 90, dtype: int64"
      ]
     },
     "execution_count": 382,
     "metadata": {},
     "output_type": "execute_result"
    }
   ],
   "source": [
    "filtered = n_ratings[common_userid_over10]\n",
    "filtered.iloc[51].isnull().value_counts()"
   ]
  },
  {
   "cell_type": "code",
   "execution_count": 372,
   "id": "84c19447",
   "metadata": {},
   "outputs": [
    {
     "data": {
      "text/plain": [
       "True     101\n",
       "False     11\n",
       "Name: 703, dtype: int64"
      ]
     },
     "execution_count": 372,
     "metadata": {},
     "output_type": "execute_result"
    }
   ],
   "source": [
    "# Testing how many items user 290 and 396, 761, 703 have in common\n",
    "index_items_761 = n_ratings[703].index.tolist()\n",
    "\n",
    "com = []\n",
    "for i in rated_item_by_290:\n",
    "    if i in index_items_761:\n",
    "        com.append(i)\n",
    "all_in = n_ratings[703][com]\n",
    "\n",
    "all_in.isnull().value_counts()\n",
    "\n"
   ]
  },
  {
   "cell_type": "code",
   "execution_count": 350,
   "id": "a062b9fc",
   "metadata": {},
   "outputs": [
    {
     "data": {
      "text/plain": [
       "[99,\n",
       " 118,\n",
       " 205,\n",
       " 211,\n",
       " 174,\n",
       " 196,\n",
       " 97,\n",
       " 235,\n",
       " 136,\n",
       " 239,\n",
       " 98,\n",
       " 71,\n",
       " 476,\n",
       " 133,\n",
       " 229,\n",
       " 484,\n",
       " 183,\n",
       " 274,\n",
       " 144,\n",
       " 181,\n",
       " 180,\n",
       " 472,\n",
       " 162,\n",
       " 323,\n",
       " 436,\n",
       " 89,\n",
       " 216,\n",
       " 176,\n",
       " 404,\n",
       " 135,\n",
       " 210,\n",
       " 125,\n",
       " 15,\n",
       " 204,\n",
       " 515,\n",
       " 230,\n",
       " 434,\n",
       " 403,\n",
       " 685,\n",
       " 629,\n",
       " 227,\n",
       " 228,\n",
       " 473,\n",
       " 151,\n",
       " 432,\n",
       " 43,\n",
       " 88,\n",
       " 95,\n",
       " 271,\n",
       " 69,\n",
       " 419,\n",
       " 483,\n",
       " 54,\n",
       " 199,\n",
       " 158,\n",
       " 474,\n",
       " 117,\n",
       " 527,\n",
       " 191,\n",
       " 234,\n",
       " 429,\n",
       " 218,\n",
       " 49,\n",
       " 450,\n",
       " 243,\n",
       " 193,\n",
       " 66,\n",
       " 82,\n",
       " 318,\n",
       " 405,\n",
       " 265,\n",
       " 1013,\n",
       " 683,\n",
       " 357,\n",
       " 132,\n",
       " 91,\n",
       " 550,\n",
       " 164,\n",
       " 832,\n",
       " 202,\n",
       " 449,\n",
       " 22,\n",
       " 826,\n",
       " 64,\n",
       " 153,\n",
       " 50,\n",
       " 520,\n",
       " 402,\n",
       " 222,\n",
       " 418,\n",
       " 102,\n",
       " 651,\n",
       " 21,\n",
       " 385,\n",
       " 161,\n",
       " 498,\n",
       " 393,\n",
       " 121,\n",
       " 168,\n",
       " 435,\n",
       " 208,\n",
       " 109,\n",
       " 172,\n",
       " 596,\n",
       " 141,\n",
       " 62,\n",
       " 496,\n",
       " 742,\n",
       " 167,\n",
       " 755,\n",
       " 28,\n",
       " 143]"
      ]
     },
     "execution_count": 350,
     "metadata": {},
     "output_type": "execute_result"
    }
   ],
   "source": [
    "rated_item_by_290"
   ]
  },
  {
   "cell_type": "code",
   "execution_count": 248,
   "id": "3e811c15",
   "metadata": {},
   "outputs": [],
   "source": [
    "#set(n_ratings[290].index.tolist()).intersection(common_userid_over10)\n",
    "\n",
    "\n",
    "c = movielens[movielens['user_id']== 703][['item_id', 'user_id']]\n",
    "j = movielens[movielens['user_id']== 290][['item_id', 'user_id']]\n",
    "\n"
   ]
  },
  {
   "cell_type": "code",
   "execution_count": 249,
   "id": "0c14dcee",
   "metadata": {},
   "outputs": [
    {
     "data": {
      "text/html": [
       "<div>\n",
       "<style scoped>\n",
       "    .dataframe tbody tr th:only-of-type {\n",
       "        vertical-align: middle;\n",
       "    }\n",
       "\n",
       "    .dataframe tbody tr th {\n",
       "        vertical-align: top;\n",
       "    }\n",
       "\n",
       "    .dataframe thead th {\n",
       "        text-align: right;\n",
       "    }\n",
       "</style>\n",
       "<table border=\"1\" class=\"dataframe\">\n",
       "  <thead>\n",
       "    <tr style=\"text-align: right;\">\n",
       "      <th></th>\n",
       "      <th>item_id</th>\n",
       "      <th>user_id_x</th>\n",
       "      <th>user_id_y</th>\n",
       "    </tr>\n",
       "  </thead>\n",
       "  <tbody>\n",
       "    <tr>\n",
       "      <th>0</th>\n",
       "      <td>257</td>\n",
       "      <td>290</td>\n",
       "      <td>703</td>\n",
       "    </tr>\n",
       "    <tr>\n",
       "      <th>1</th>\n",
       "      <td>222</td>\n",
       "      <td>290</td>\n",
       "      <td>703</td>\n",
       "    </tr>\n",
       "    <tr>\n",
       "      <th>2</th>\n",
       "      <td>118</td>\n",
       "      <td>290</td>\n",
       "      <td>703</td>\n",
       "    </tr>\n",
       "    <tr>\n",
       "      <th>3</th>\n",
       "      <td>1</td>\n",
       "      <td>290</td>\n",
       "      <td>703</td>\n",
       "    </tr>\n",
       "    <tr>\n",
       "      <th>4</th>\n",
       "      <td>181</td>\n",
       "      <td>290</td>\n",
       "      <td>703</td>\n",
       "    </tr>\n",
       "    <tr>\n",
       "      <th>5</th>\n",
       "      <td>15</td>\n",
       "      <td>290</td>\n",
       "      <td>703</td>\n",
       "    </tr>\n",
       "    <tr>\n",
       "      <th>6</th>\n",
       "      <td>117</td>\n",
       "      <td>290</td>\n",
       "      <td>703</td>\n",
       "    </tr>\n",
       "    <tr>\n",
       "      <th>7</th>\n",
       "      <td>323</td>\n",
       "      <td>290</td>\n",
       "      <td>703</td>\n",
       "    </tr>\n",
       "    <tr>\n",
       "      <th>8</th>\n",
       "      <td>235</td>\n",
       "      <td>290</td>\n",
       "      <td>703</td>\n",
       "    </tr>\n",
       "    <tr>\n",
       "      <th>9</th>\n",
       "      <td>1047</td>\n",
       "      <td>290</td>\n",
       "      <td>703</td>\n",
       "    </tr>\n",
       "    <tr>\n",
       "      <th>10</th>\n",
       "      <td>596</td>\n",
       "      <td>290</td>\n",
       "      <td>703</td>\n",
       "    </tr>\n",
       "    <tr>\n",
       "      <th>11</th>\n",
       "      <td>50</td>\n",
       "      <td>290</td>\n",
       "      <td>703</td>\n",
       "    </tr>\n",
       "    <tr>\n",
       "      <th>12</th>\n",
       "      <td>742</td>\n",
       "      <td>290</td>\n",
       "      <td>703</td>\n",
       "    </tr>\n",
       "    <tr>\n",
       "      <th>13</th>\n",
       "      <td>121</td>\n",
       "      <td>290</td>\n",
       "      <td>703</td>\n",
       "    </tr>\n",
       "    <tr>\n",
       "      <th>14</th>\n",
       "      <td>926</td>\n",
       "      <td>290</td>\n",
       "      <td>703</td>\n",
       "    </tr>\n",
       "    <tr>\n",
       "      <th>15</th>\n",
       "      <td>993</td>\n",
       "      <td>290</td>\n",
       "      <td>703</td>\n",
       "    </tr>\n",
       "  </tbody>\n",
       "</table>\n",
       "</div>"
      ],
      "text/plain": [
       "    item_id  user_id_x  user_id_y\n",
       "0       257        290        703\n",
       "1       222        290        703\n",
       "2       118        290        703\n",
       "3         1        290        703\n",
       "4       181        290        703\n",
       "5        15        290        703\n",
       "6       117        290        703\n",
       "7       323        290        703\n",
       "8       235        290        703\n",
       "9      1047        290        703\n",
       "10      596        290        703\n",
       "11       50        290        703\n",
       "12      742        290        703\n",
       "13      121        290        703\n",
       "14      926        290        703\n",
       "15      993        290        703"
      ]
     },
     "execution_count": 249,
     "metadata": {},
     "output_type": "execute_result"
    }
   ],
   "source": [
    "j.merge(c, on ='item_id')"
   ]
  },
  {
   "cell_type": "code",
   "execution_count": 154,
   "id": "58328771",
   "metadata": {},
   "outputs": [
    {
     "data": {
      "text/plain": [
       "4.0"
      ]
     },
     "execution_count": 154,
     "metadata": {},
     "output_type": "execute_result"
    }
   ],
   "source": [
    "n_ratings[746][196]"
   ]
  },
  {
   "cell_type": "code",
   "execution_count": null,
   "id": "83818941",
   "metadata": {},
   "outputs": [],
   "source": []
  },
  {
   "cell_type": "code",
   "execution_count": null,
   "id": "23fe8c06",
   "metadata": {},
   "outputs": [],
   "source": []
  },
  {
   "cell_type": "code",
   "execution_count": null,
   "id": "17e17a90",
   "metadata": {},
   "outputs": [],
   "source": []
  },
  {
   "cell_type": "code",
   "execution_count": 114,
   "id": "12cd8aeb",
   "metadata": {},
   "outputs": [],
   "source": [
    "rating_290 = items_over_50_rating[290]\n",
    "#rating_290"
   ]
  },
  {
   "cell_type": "code",
   "execution_count": 61,
   "id": "07b33541",
   "metadata": {},
   "outputs": [],
   "source": [
    "d = [] # list of all the items for each user, contains many list from index 0-942\n",
    "for Id in user_id: # user_ids \n",
    "    c = n_ratings[Id].tolist() # list of all movies(item_ids) that each user rated\n",
    "    d.append(c)\n",
    "\n",
    "e= [] # list of users who rated the same 40 items as user 290 \n",
    "for i in :\n",
    "    if len(set(rating_290).intersection(d[i])) >4: #  \n",
    "        e.append(i+1) # since user id starts at 1"
   ]
  },
  {
   "cell_type": "code",
   "execution_count": 75,
   "id": "871edd94",
   "metadata": {},
   "outputs": [
    {
     "data": {
      "text/plain": [
       "593"
      ]
     },
     "execution_count": 75,
     "metadata": {},
     "output_type": "execute_result"
    }
   ],
   "source": [
    "len(d[1])"
   ]
  },
  {
   "cell_type": "code",
   "execution_count": null,
   "id": "d6a85f40",
   "metadata": {},
   "outputs": [],
   "source": [
    "len(d)"
   ]
  },
  {
   "cell_type": "code",
   "execution_count": null,
   "id": "2d41bd5f",
   "metadata": {},
   "outputs": [],
   "source": []
  },
  {
   "cell_type": "code",
   "execution_count": null,
   "id": "a62a6206",
   "metadata": {},
   "outputs": [],
   "source": [
    "n"
   ]
  },
  {
   "cell_type": "markdown",
   "id": "8f987017",
   "metadata": {},
   "source": [
    "## Defining a function that users that have rated at least 20 items as the user id 290\n"
   ]
  },
  {
   "cell_type": "code",
   "execution_count": null,
   "id": "2d2607a5",
   "metadata": {},
   "outputs": [],
   "source": [
    "moviematrix.index"
   ]
  },
  {
   "cell_type": "code",
   "execution_count": null,
   "id": "ae30f6a4",
   "metadata": {},
   "outputs": [],
   "source": [
    "moviematrix.head(3)"
   ]
  },
  {
   "cell_type": "code",
   "execution_count": null,
   "id": "f444d86f",
   "metadata": {},
   "outputs": [],
   "source": [
    "moviematrix.info()"
   ]
  },
  {
   "cell_type": "code",
   "execution_count": null,
   "id": "9e147515",
   "metadata": {},
   "outputs": [],
   "source": [
    "#moviematrix[290]"
   ]
  },
  {
   "cell_type": "code",
   "execution_count": null,
   "id": "3467ff6c",
   "metadata": {},
   "outputs": [],
   "source": [
    "#c = moviematrix[moviematrix['user_id']==290]"
   ]
  },
  {
   "cell_type": "code",
   "execution_count": null,
   "id": "ad8c1880",
   "metadata": {},
   "outputs": [],
   "source": [
    "#diff = moviematrix - m[:,np.newaxis]\n",
    "#diff"
   ]
  },
  {
   "cell_type": "code",
   "execution_count": null,
   "id": "24af2ace",
   "metadata": {},
   "outputs": [],
   "source": [
    "column_names = moviematrix.columns.tolist()"
   ]
  },
  {
   "cell_type": "code",
   "execution_count": null,
   "id": "5c223432",
   "metadata": {},
   "outputs": [],
   "source": [
    "d = [] # list of all users who rated a list of items, contains many list from index 0-942\n",
    "for user_id in column_names: # user_ids \n",
    "    c = items_over_100_rating[movielens['user_id']== user_id]['item_id'].tolist() # list of all movies(item_ids) that each user rated\n",
    "    d.append(c)\n",
    "\n",
    "e= [] # list of users who rated the same 40 items as user 290 \n",
    "for i in range(943):\n",
    "    if len(set(b1).intersection(d[i])) >40: #  \n",
    "        e.append(i+1) # since user id starts at 1\n"
   ]
  },
  {
   "cell_type": "code",
   "execution_count": null,
   "id": "12d0bdeb",
   "metadata": {},
   "outputs": [],
   "source": [
    "common_users = moviematrix[e]\n",
    "\n",
    "common_users[290] = moviematrix[290]\n",
    "#common_users[290]"
   ]
  },
  {
   "cell_type": "code",
   "execution_count": null,
   "id": "f8553926",
   "metadata": {},
   "outputs": [],
   "source": [
    "neighbors_290= common_users.corr()[290].sort_values(ascending =False).head(31).drop(290)\n",
    "neighbors_290.index"
   ]
  },
  {
   "cell_type": "code",
   "execution_count": null,
   "id": "9e3efab5",
   "metadata": {},
   "outputs": [],
   "source": [
    "weight_290 = neighbors_290.values.tolist()\n",
    "weight_290"
   ]
  },
  {
   "cell_type": "code",
   "execution_count": null,
   "id": "880707b0",
   "metadata": {},
   "outputs": [],
   "source": [
    "neighborsmat_290= moviematrix[neighbors_290.index.tolist()]"
   ]
  },
  {
   "cell_type": "code",
   "execution_count": null,
   "id": "88bddb2c",
   "metadata": {},
   "outputs": [],
   "source": [
    "neighborsmat_290.corr().head(2)"
   ]
  },
  {
   "cell_type": "code",
   "execution_count": null,
   "id": "502cee67",
   "metadata": {},
   "outputs": [],
   "source": [
    "mean_290 = moviematrix[290].mean()\n",
    "mean_290"
   ]
  },
  {
   "cell_type": "code",
   "execution_count": null,
   "id": "41a19218",
   "metadata": {},
   "outputs": [],
   "source": [
    "mean_rating_neighbors = neighborsmat_290.mean(axis =0)"
   ]
  },
  {
   "cell_type": "code",
   "execution_count": null,
   "id": "4f198c13",
   "metadata": {},
   "outputs": [],
   "source": [
    "column_num290 = neighborsmat_290.columns.tolist()\n",
    "column_num290"
   ]
  },
  {
   "cell_type": "markdown",
   "id": "1883a46b",
   "metadata": {},
   "source": []
  },
  {
   "cell_type": "code",
   "execution_count": null,
   "id": "7089c828",
   "metadata": {},
   "outputs": [],
   "source": [
    "neighborsmat_290_fillna = neighborsmat_290.fillna(0)"
   ]
  },
  {
   "cell_type": "code",
   "execution_count": null,
   "id": "9994da27",
   "metadata": {},
   "outputs": [],
   "source": [
    "n_index = neighborsmat_290_fillna.index.tolist()"
   ]
  },
  {
   "cell_type": "markdown",
   "id": "a402477f",
   "metadata": {},
   "source": []
  },
  {
   "attachments": {
    "image-2.png": {
     "image/png": "[encoded data removed]"
    }
   },
   "cell_type": "markdown",
   "id": "bf92c32f",
   "metadata": {},
   "source": [
    "![image-2.png](attachment:image-2.png)\n"
   ]
  },
  {
   "cell_type": "code",
   "execution_count": null,
   "id": "c85c7665",
   "metadata": {},
   "outputs": [],
   "source": [
    "neighborsmat_290_fillna.value_counts()"
   ]
  },
  {
   "cell_type": "code",
   "execution_count": null,
   "id": "3a8d9cfd",
   "metadata": {},
   "outputs": [],
   "source": [
    "# definin a function that selects movies(items_id) that have at least 10 ratings\n",
    "\n",
    "def movie_ratings(df):\n",
    "    count_nonzeros_list = []\n",
    "    for i in range(len(df)):\n",
    "        row = df.iloc[i]\n",
    "        count_nonzeros = 0\n",
    "        for col_name in column_num290:\n",
    "            if row[col_name] != 0:\n",
    "                count_nonzeros += 1\n",
    "        count_nonzeros_list.append(count_nonzeros)\n",
    "    l = pd.Series(count_nonzeros_list, index = n_index)\n",
    "    return l"
   ]
  },
  {
   "cell_type": "code",
   "execution_count": null,
   "id": "a0c216a8",
   "metadata": {},
   "outputs": [],
   "source": [
    "movie_ratings(neighborsmat_290_fillna)"
   ]
  },
  {
   "cell_type": "code",
   "execution_count": null,
   "id": "6fdd73cf",
   "metadata": {},
   "outputs": [],
   "source": [
    "# Getting movies with at least 10 ratings\n",
    "rates = movie_ratings(neighborsmat_290_fillna)\n",
    "m = []\n",
    "for i in n_index:\n",
    "    if rates[i]>10:\n",
    "        m.append(i)\n",
    "m"
   ]
  },
  {
   "cell_type": "code",
   "execution_count": null,
   "id": "7d2cdb7e",
   "metadata": {},
   "outputs": [],
   "source": [
    "rates.index"
   ]
  },
  {
   "cell_type": "code",
   "execution_count": null,
   "id": "c286c083",
   "metadata": {},
   "outputs": [],
   "source": [
    "# lets check the last 10 rows \n",
    "last_10row = neighborsmat_290_fillna.tail(10)\n",
    "last_10row.loc[1681]"
   ]
  },
  {
   "cell_type": "code",
   "execution_count": null,
   "id": "8e07539e",
   "metadata": {},
   "outputs": [],
   "source": [
    "for i in range(neighborsmat_290_fillna):\n",
    "        row = neighborsmat.iloc[i]\n",
    "        for col_name in column_num290:\n",
    "            if row[col_name] != 0:\n",
    "                print(row)"
   ]
  },
  {
   "cell_type": "code",
   "execution_count": null,
   "id": "35012840",
   "metadata": {},
   "outputs": [],
   "source": [
    "neighborsmat_290_fillna.columns"
   ]
  },
  {
   "cell_type": "code",
   "execution_count": null,
   "id": "da843327",
   "metadata": {},
   "outputs": [],
   "source": [
    "column_num290 = neighborsmat_290_fillna.columns.tolist()\n",
    "len(column_num290)"
   ]
  },
  {
   "cell_type": "code",
   "execution_count": null,
   "id": "621da7c9",
   "metadata": {},
   "outputs": [],
   "source": [
    "len(weight_290)"
   ]
  },
  {
   "cell_type": "code",
   "execution_count": null,
   "id": "dcae6b64",
   "metadata": {},
   "outputs": [],
   "source": [
    "for j in range(1682):\n",
    "    row = neighborsmat_290_fillna.iloc[j]\n"
   ]
  },
  {
   "cell_type": "code",
   "execution_count": null,
   "id": "823723d4",
   "metadata": {},
   "outputs": [],
   "source": [
    "\n",
    "neighborsmat_290.iloc[1680]"
   ]
  },
  {
   "cell_type": "code",
   "execution_count": null,
   "id": "12f47c2e",
   "metadata": {},
   "outputs": [],
   "source": [
    "sum_weight_290 = []\n",
    "for j in range(1683):\n",
    "    row = neighborsmat_290_fillna.iloc[j]\n",
    "    row_weight = []\n",
    "    for i in column_num290:  \n",
    "        if row[i] != 0:\n",
    "            row_weight.append(weight_290[i])\n",
    "    sum_weight_290.append(pd.Series(row_weight).sum())"
   ]
  },
  {
   "cell_type": "code",
   "execution_count": null,
   "id": "59e7c391",
   "metadata": {},
   "outputs": [],
   "source": [
    "# the nominator of the pred equation above\n",
    "def one_row_diff(df,index):\n",
    "    sum_weight = []\n",
    "    row = df.iloc[index]\n",
    "    for i in column_num290:\n",
    "        if row[i] != 0:\n",
    "            s= (row[i] - mean_rating_neighbors[i])*weight_290[i]\n",
    "            sum_weight.append(s)\n",
    "    sum_weight_series = pd.Series(sum_weight).sum()\n",
    "    return sum_weight_series"
   ]
  },
  {
   "cell_type": "code",
   "execution_count": null,
   "id": "d473e18c",
   "metadata": {},
   "outputs": [],
   "source": [
    "weight_factor =[]\n",
    "for j in range(100):\n",
    "    weight_factor.append(one_row_diff(df,j))"
   ]
  },
  {
   "cell_type": "code",
   "execution_count": null,
   "id": "1b616fe2",
   "metadata": {},
   "outputs": [],
   "source": [
    "normalized_value = pd.Series(weight_factor)/pd.Series(sum_weight_3712) +4.5\n",
    "normalized_value"
   ]
  },
  {
   "cell_type": "code",
   "execution_count": null,
   "id": "ff270862",
   "metadata": {},
   "outputs": [],
   "source": [
    "#neighborsmat_290_fillna"
   ]
  },
  {
   "cell_type": "code",
   "execution_count": null,
   "id": "cf106931",
   "metadata": {},
   "outputs": [],
   "source": [
    "# lets test if we got the right users, so we are going to investigate if user 1 has at least 40 items in common with user 290\n",
    "# the answer is yesssss\n",
    "\n",
    "c = movielens[movielens['user_id']== 44]['item_id'].tolist()\n",
    "h = set(b1).intersection(c)\n",
    "len(h)"
   ]
  },
  {
   "cell_type": "code",
   "execution_count": null,
   "id": "55d1958e",
   "metadata": {},
   "outputs": [],
   "source": [
    "len(movielens[movielens['user_id']== 44][['item_id', 'user_id']].sort_values(by = 'item_id',ascending = True)) # rated 151 items and 74 in common with user 290"
   ]
  },
  {
   "cell_type": "code",
   "execution_count": null,
   "id": "b5fdd693",
   "metadata": {},
   "outputs": [],
   "source": [
    "intersect = set(b1).intersection(c)\n"
   ]
  },
  {
   "cell_type": "code",
   "execution_count": null,
   "id": "aa0d851c",
   "metadata": {},
   "outputs": [],
   "source": [
    "# lets see which ones they have in common\n",
    "m = movielens[movielens['user_id']== 44][['item_id', 'user_id']].sort_values(by = 'item_id',ascending = True)"
   ]
  },
  {
   "cell_type": "code",
   "execution_count": null,
   "id": "ace72a5b",
   "metadata": {},
   "outputs": [],
   "source": [
    "#b.merge(m, on = 'item_id')\n"
   ]
  },
  {
   "cell_type": "code",
   "execution_count": null,
   "id": "b8c81725",
   "metadata": {},
   "outputs": [],
   "source": [
    "#name of the user_id\n",
    "#column_names\n",
    "#c = movielens[movielens['user_id']== 451]['item_id'].tolist()   # list of all movies(item_ids) that user_id rated"
   ]
  },
  {
   "cell_type": "code",
   "execution_count": null,
   "id": "c2944734",
   "metadata": {},
   "outputs": [],
   "source": [
    "#neighbors_290_test = common_users.corr()[290].sort_values(ascending =False).head(31)\n",
    "#neighbors_290_test"
   ]
  },
  {
   "cell_type": "code",
   "execution_count": null,
   "id": "5754eb48",
   "metadata": {},
   "outputs": [],
   "source": [
    "#neighborsmat_290_fillna.iloc[0]"
   ]
  },
  {
   "cell_type": "code",
   "execution_count": null,
   "id": "760e1925",
   "metadata": {},
   "outputs": [],
   "source": [
    "#column_num290"
   ]
  },
  {
   "cell_type": "code",
   "execution_count": null,
   "id": "a6e40967",
   "metadata": {},
   "outputs": [],
   "source": [
    "neighborsmat_290_fillna"
   ]
  },
  {
   "cell_type": "code",
   "execution_count": null,
   "id": "6c1a0cd2",
   "metadata": {},
   "outputs": [],
   "source": [
    "weight_290"
   ]
  },
  {
   "cell_type": "code",
   "execution_count": null,
   "id": "d688db03",
   "metadata": {},
   "outputs": [],
   "source": []
  }
 ],
 "metadata": {
  "kernelspec": {
   "display_name": "Python 3",
   "language": "python",
   "name": "python3"
  },
  "language_info": {
   "codemirror_mode": {
    "name": "ipython",
    "version": 3
   },
   "file_extension": ".py",
   "mimetype": "text/x-python",
   "name": "python",
   "nbconvert_exporter": "python",
   "pygments_lexer": "ipython3",
   "version": "3.8.8"
  }
 },
 "nbformat": 4,
 "nbformat_minor": 5
}
